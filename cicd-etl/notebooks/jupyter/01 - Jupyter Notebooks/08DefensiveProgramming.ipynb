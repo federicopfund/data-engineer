{
 "cells": [
  {
   "cell_type": "markdown",
   "metadata": {},
   "source": [
    "Programación Defensiva\n",
    "\n",
    "## Questions\n",
    "\n",
    "- ¿Cómo puedo hacer mis programas más fiables?\n",
    "\n",
    "## Objetivos\n",
    "\n",
    "- Explicar lo que es una afirmación.\n",
    "\n",
    "- Agregar aserciones que comprueben que el estado del programa es correcto.\n",
    "\n",
    "- Agregue correctamente las afirmaciones de precondición y postcondición a las funciones.\n",
    "\n",
    "- Explicar qué es el desarrollo basado en pruebas y utilizarlo al crear nuevas funciones.\n",
    "\n",
    "\n",
    "Nuestras lecciones anteriores han introducido las herramientas básicas de programación: variables y listas, archivo E/S, bucles, condicionales y funciones. Lo que no han hecho es mostrarnos cómo saber si un programa está recibiendo la respuesta correcta, y cómo saber si todavía está recibiendo la respuesta correcta a medida que hacemos cambios en ella.\n",
    "\n",
    "Para lograrlo, debemos:\n",
    "\n",
    "- Escribir programas que comprueben su propio funcionamiento.\n",
    "- Escribir y ejecutar pruebas para funciones ampliamente utilizadas.\n",
    "- Asegúrese de que sabemos lo que significa \"correcto\".\n",
    "\n",
    "La buena noticia es que hacer estas cosas acelerará nuestra programación, no la ralentizará. Como en la carpintería real - el tipo hecho con madera - el tiempo ahorrado midiendo cuidadosamente antes de cortar un pedazo de madera es mucho mayor que el tiempo que toma la medición Como dice el refrán, \"mida dos veces, corte una\".\n",
    "\n",
    "# Aserciones\n",
    "\n",
    "El primer paso para obtener las respuestas correctas de nuestros programas es asumir que los errores ocurrirán y protegerse contra ellos. Esto se llama programación defensiva, y la forma más común de hacerlo es agregar aserciones a nuestro código para que se verifique a medida que se ejecuta. Una afirmación es simplemente una declaración de que algo debe ser cierto en un cierto punto de un programa. Cuando Python ve uno, evalúa la condición de la afirmación. Si es cierto, Python no hace nada, pero si es falso, Python detiene el programa inmediatamente e imprime el mensaje de error si se proporciona uno. Por ejemplo, esta pieza de código se detiene tan pronto como el bucle encuentra un valor que no es positivo:\n"
   ]
  },
  {
   "cell_type": "code",
   "execution_count": 1,
   "metadata": {
    "vscode": {
     "languageId": "python"
    }
   },
   "outputs": [
    {
     "ename": "AssertionError",
     "evalue": "Data should only contain positive values",
     "output_type": "error",
     "traceback": [
      "\u001b[1;31m---------------------------------------------------------------------------\u001b[0m",
      "\u001b[1;31mAssertionError\u001b[0m                            Traceback (most recent call last)",
      "\u001b[1;32m~\\AppData\\Local\\Temp/ipykernel_45128/228383727.py\u001b[0m in \u001b[0;36m<module>\u001b[1;34m\u001b[0m\n\u001b[0;32m      2\u001b[0m \u001b[0mtotal\u001b[0m \u001b[1;33m=\u001b[0m \u001b[1;36m0.0\u001b[0m\u001b[1;33m\u001b[0m\u001b[1;33m\u001b[0m\u001b[0m\n\u001b[0;32m      3\u001b[0m \u001b[1;32mfor\u001b[0m \u001b[0mnum\u001b[0m \u001b[1;32min\u001b[0m \u001b[0mnumbers\u001b[0m\u001b[1;33m:\u001b[0m\u001b[1;33m\u001b[0m\u001b[1;33m\u001b[0m\u001b[0m\n\u001b[1;32m----> 4\u001b[1;33m     \u001b[1;32massert\u001b[0m \u001b[0mnum\u001b[0m \u001b[1;33m>\u001b[0m \u001b[1;36m0.0\u001b[0m\u001b[1;33m,\u001b[0m \u001b[1;34m'Data should only contain positive values'\u001b[0m\u001b[1;33m\u001b[0m\u001b[1;33m\u001b[0m\u001b[0m\n\u001b[0m\u001b[0;32m      5\u001b[0m     \u001b[0mtotal\u001b[0m \u001b[1;33m+=\u001b[0m \u001b[0mnum\u001b[0m\u001b[1;33m\u001b[0m\u001b[1;33m\u001b[0m\u001b[0m\n\u001b[0;32m      6\u001b[0m \u001b[0mprint\u001b[0m\u001b[1;33m(\u001b[0m\u001b[1;34m'total is:'\u001b[0m\u001b[1;33m,\u001b[0m \u001b[0mtotal\u001b[0m\u001b[1;33m)\u001b[0m\u001b[1;33m\u001b[0m\u001b[1;33m\u001b[0m\u001b[0m\n",
      "\u001b[1;31mAssertionError\u001b[0m: Data should only contain positive values"
     ]
    }
   ],
   "source": [
    "numbers = [1.5, 2.3, 0.7, -0.001, 4.4]\n",
    "total = 0.0\n",
    "for num in numbers:\n",
    "    assert num > 0.0, 'Data should only contain positive values'\n",
    "    total += num\n",
    "print('total is:', total)"
   ]
  },
  {
   "cell_type": "markdown",
   "metadata": {},
   "source": [
    "Programas como el navegador Firefox están llenos de afirmaciones: 10-20% del código que contienen están ahí para comprobar que el otro 80-90% están funcionando correctamente. En términos generales, las afirmaciones se dividen en tres categorías:\n",
    "\n",
    "1. Una condición previa es algo que debe ser cierto al comienzo de una función para que funcione correctamente.\n",
    "\n",
    "2. Una postcondición es algo que la función garantiza que es cierto cuando termina.\n",
    "\n",
    "3. Un invariante es algo que siempre es cierto en un punto particular dentro de una pieza de código.\n",
    "\n",
    "Por ejemplo, supongamos que estamos representando rectángulos usando una tupla de cuatro coordenadas `(x0, y0, x1, y1)`, representando las esquinas inferior izquierda y superior derecha del rectángulo. Para hacer algunos cálculos, necesitamos normalizar el rectángulo para que la esquina inferior izquierda esté en el origen y el lado más largo tenga 1.0 unidades de largo. Esta función hace eso, pero comprueba que su entrada está correctamente formateada y que su resultado tiene sentido:"
   ]
  },
  {
   "cell_type": "code",
   "execution_count": 1,
   "metadata": {
    "vscode": {
     "languageId": "python"
    }
   },
   "outputs": [],
   "source": [
    "def normalize_rectangle(rect):\n",
    "    \"\"\"Normalizes a rectangle so that it is at the origin and 1.0 units long on its longest axis.\n",
    "    Input should be of the format (x0, y0, x1, y1).\n",
    "    (x0, y0) and (x1, y1) define the lower left and upper right corners\n",
    "    of the rectangle, respectively.\"\"\"\n",
    "    assert len(rect) == 4, 'Rectangles must contain 4 coordinates'\n",
    "    x0, y0, x1, y1 = rect\n",
    "    assert x0 < x1, 'Invalid X coordinates'\n",
    "    assert y0 < y1, 'Invalid Y coordinates'\n",
    "\n",
    "    dx = x1 - x0\n",
    "    dy = y1 - y0\n",
    "    if dx > dy:\n",
    "        scaled = float(dx) / dy\n",
    "        upper_x, upper_y = 1.0, scaled\n",
    "    else:\n",
    "        scaled = float(dx) / dy\n",
    "        upper_x, upper_y = scaled, 1.0\n",
    "\n",
    "    assert 0 < upper_x <= 1.0, 'Calculated upper X coordinate invalid'\n",
    "    assert 0 < upper_y <= 1.0, 'Calculated upper Y coordinate invalid'\n",
    "\n",
    "    return (0, 0, upper_x, upper_y)"
   ]
  },
  {
   "cell_type": "markdown",
   "metadata": {},
   "source": [
    "Las condiciones previas en las líneas 6, 8 y 9 capturan entradas no válidas:"
   ]
  },
  {
   "cell_type": "code",
   "execution_count": 2,
   "metadata": {
    "vscode": {
     "languageId": "python"
    }
   },
   "outputs": [
    {
     "ename": "AssertionError",
     "evalue": "Rectangles must contain 4 coordinates",
     "output_type": "error",
     "traceback": [
      "\u001b[1;31m---------------------------------------------------------------------------\u001b[0m",
      "\u001b[1;31mAssertionError\u001b[0m                            Traceback (most recent call last)",
      "\u001b[1;32m<ipython-input-2-1b9cd8e18a1f>\u001b[0m in \u001b[0;36m<module>\u001b[1;34m\u001b[0m\n\u001b[1;32m----> 1\u001b[1;33m \u001b[0mprint\u001b[0m\u001b[1;33m(\u001b[0m\u001b[0mnormalize_rectangle\u001b[0m\u001b[1;33m(\u001b[0m \u001b[1;33m(\u001b[0m\u001b[1;36m0.0\u001b[0m\u001b[1;33m,\u001b[0m \u001b[1;36m1.0\u001b[0m\u001b[1;33m,\u001b[0m \u001b[1;36m2.0\u001b[0m\u001b[1;33m)\u001b[0m \u001b[1;33m)\u001b[0m\u001b[1;33m)\u001b[0m \u001b[1;31m# missing the fourth coordinate\u001b[0m\u001b[1;33m\u001b[0m\u001b[1;33m\u001b[0m\u001b[0m\n\u001b[0m",
      "\u001b[1;32m<ipython-input-1-cdfa783bacb2>\u001b[0m in \u001b[0;36mnormalize_rectangle\u001b[1;34m(rect)\u001b[0m\n\u001b[0;32m      4\u001b[0m     \u001b[1;33m(\u001b[0m\u001b[0mx0\u001b[0m\u001b[1;33m,\u001b[0m \u001b[0my0\u001b[0m\u001b[1;33m)\u001b[0m \u001b[1;32mand\u001b[0m \u001b[1;33m(\u001b[0m\u001b[0mx1\u001b[0m\u001b[1;33m,\u001b[0m \u001b[0my1\u001b[0m\u001b[1;33m)\u001b[0m \u001b[0mdefine\u001b[0m \u001b[0mthe\u001b[0m \u001b[0mlower\u001b[0m \u001b[0mleft\u001b[0m \u001b[1;32mand\u001b[0m \u001b[0mupper\u001b[0m \u001b[0mright\u001b[0m \u001b[0mcorners\u001b[0m\u001b[1;33m\u001b[0m\u001b[1;33m\u001b[0m\u001b[0m\n\u001b[0;32m      5\u001b[0m     of the rectangle, respectively.\"\"\"\n\u001b[1;32m----> 6\u001b[1;33m     \u001b[1;32massert\u001b[0m \u001b[0mlen\u001b[0m\u001b[1;33m(\u001b[0m\u001b[0mrect\u001b[0m\u001b[1;33m)\u001b[0m \u001b[1;33m==\u001b[0m \u001b[1;36m4\u001b[0m\u001b[1;33m,\u001b[0m \u001b[1;34m'Rectangles must contain 4 coordinates'\u001b[0m\u001b[1;33m\u001b[0m\u001b[1;33m\u001b[0m\u001b[0m\n\u001b[0m\u001b[0;32m      7\u001b[0m     \u001b[0mx0\u001b[0m\u001b[1;33m,\u001b[0m \u001b[0my0\u001b[0m\u001b[1;33m,\u001b[0m \u001b[0mx1\u001b[0m\u001b[1;33m,\u001b[0m \u001b[0my1\u001b[0m \u001b[1;33m=\u001b[0m \u001b[0mrect\u001b[0m\u001b[1;33m\u001b[0m\u001b[1;33m\u001b[0m\u001b[0m\n\u001b[0;32m      8\u001b[0m     \u001b[1;32massert\u001b[0m \u001b[0mx0\u001b[0m \u001b[1;33m<\u001b[0m \u001b[0mx1\u001b[0m\u001b[1;33m,\u001b[0m \u001b[1;34m'Invalid X coordinates'\u001b[0m\u001b[1;33m\u001b[0m\u001b[1;33m\u001b[0m\u001b[0m\n",
      "\u001b[1;31mAssertionError\u001b[0m: Rectangles must contain 4 coordinates"
     ]
    }
   ],
   "source": [
    "print(normalize_rectangle( (0.0, 1.0, 2.0) )) # missing the fourth coordinate"
   ]
  },
  {
   "cell_type": "code",
   "execution_count": 3,
   "metadata": {
    "vscode": {
     "languageId": "python"
    }
   },
   "outputs": [
    {
     "ename": "AssertionError",
     "evalue": "Invalid X coordinates",
     "output_type": "error",
     "traceback": [
      "\u001b[1;31m---------------------------------------------------------------------------\u001b[0m",
      "\u001b[1;31mAssertionError\u001b[0m                            Traceback (most recent call last)",
      "\u001b[1;32m<ipython-input-3-325036405532>\u001b[0m in \u001b[0;36m<module>\u001b[1;34m\u001b[0m\n\u001b[1;32m----> 1\u001b[1;33m \u001b[0mprint\u001b[0m\u001b[1;33m(\u001b[0m\u001b[0mnormalize_rectangle\u001b[0m\u001b[1;33m(\u001b[0m \u001b[1;33m(\u001b[0m\u001b[1;36m4.0\u001b[0m\u001b[1;33m,\u001b[0m \u001b[1;36m2.0\u001b[0m\u001b[1;33m,\u001b[0m \u001b[1;36m1.0\u001b[0m\u001b[1;33m,\u001b[0m \u001b[1;36m5.0\u001b[0m\u001b[1;33m)\u001b[0m \u001b[1;33m)\u001b[0m\u001b[1;33m)\u001b[0m \u001b[1;31m# X axis inverted\u001b[0m\u001b[1;33m\u001b[0m\u001b[1;33m\u001b[0m\u001b[0m\n\u001b[0m",
      "\u001b[1;32m<ipython-input-1-cdfa783bacb2>\u001b[0m in \u001b[0;36mnormalize_rectangle\u001b[1;34m(rect)\u001b[0m\n\u001b[0;32m      6\u001b[0m     \u001b[1;32massert\u001b[0m \u001b[0mlen\u001b[0m\u001b[1;33m(\u001b[0m\u001b[0mrect\u001b[0m\u001b[1;33m)\u001b[0m \u001b[1;33m==\u001b[0m \u001b[1;36m4\u001b[0m\u001b[1;33m,\u001b[0m \u001b[1;34m'Rectangles must contain 4 coordinates'\u001b[0m\u001b[1;33m\u001b[0m\u001b[1;33m\u001b[0m\u001b[0m\n\u001b[0;32m      7\u001b[0m     \u001b[0mx0\u001b[0m\u001b[1;33m,\u001b[0m \u001b[0my0\u001b[0m\u001b[1;33m,\u001b[0m \u001b[0mx1\u001b[0m\u001b[1;33m,\u001b[0m \u001b[0my1\u001b[0m \u001b[1;33m=\u001b[0m \u001b[0mrect\u001b[0m\u001b[1;33m\u001b[0m\u001b[1;33m\u001b[0m\u001b[0m\n\u001b[1;32m----> 8\u001b[1;33m     \u001b[1;32massert\u001b[0m \u001b[0mx0\u001b[0m \u001b[1;33m<\u001b[0m \u001b[0mx1\u001b[0m\u001b[1;33m,\u001b[0m \u001b[1;34m'Invalid X coordinates'\u001b[0m\u001b[1;33m\u001b[0m\u001b[1;33m\u001b[0m\u001b[0m\n\u001b[0m\u001b[0;32m      9\u001b[0m     \u001b[1;32massert\u001b[0m \u001b[0my0\u001b[0m \u001b[1;33m<\u001b[0m \u001b[0my1\u001b[0m\u001b[1;33m,\u001b[0m \u001b[1;34m'Invalid Y coordinates'\u001b[0m\u001b[1;33m\u001b[0m\u001b[1;33m\u001b[0m\u001b[0m\n\u001b[0;32m     10\u001b[0m \u001b[1;33m\u001b[0m\u001b[0m\n",
      "\u001b[1;31mAssertionError\u001b[0m: Invalid X coordinates"
     ]
    }
   ],
   "source": [
    "print(normalize_rectangle( (4.0, 2.0, 1.0, 5.0) )) # X axis inverted"
   ]
  },
  {
   "cell_type": "markdown",
   "metadata": {},
   "source": [
    "Las condiciones posteriores en las líneas 20 y 21 nos ayudan a detectar errores al decirnos cuándo nuestros cálculos podrían haber sido incorrectos. Por ejemplo, si normalizamos un rectángulo que es más alto que ancho todo parece estar bien:"
   ]
  },
  {
   "cell_type": "code",
   "execution_count": 4,
   "metadata": {
    "vscode": {
     "languageId": "python"
    }
   },
   "outputs": [
    {
     "name": "stdout",
     "output_type": "stream",
     "text": [
      "(0, 0, 0.2, 1.0)\n"
     ]
    }
   ],
   "source": [
    "print(normalize_rectangle( (0.0, 0.0, 1.0, 5.0) ))"
   ]
  },
  {
   "cell_type": "markdown",
   "metadata": {},
   "source": [
    "pero si normalizamos uno que es más ancho que alto, la afirmación se activa:"
   ]
  },
  {
   "cell_type": "code",
   "execution_count": 5,
   "metadata": {
    "vscode": {
     "languageId": "python"
    }
   },
   "outputs": [
    {
     "ename": "AssertionError",
     "evalue": "Calculated upper Y coordinate invalid",
     "output_type": "error",
     "traceback": [
      "\u001b[1;31m---------------------------------------------------------------------------\u001b[0m",
      "\u001b[1;31mAssertionError\u001b[0m                            Traceback (most recent call last)",
      "\u001b[1;32m<ipython-input-5-8d4a48f1d068>\u001b[0m in \u001b[0;36m<module>\u001b[1;34m\u001b[0m\n\u001b[1;32m----> 1\u001b[1;33m \u001b[0mprint\u001b[0m\u001b[1;33m(\u001b[0m\u001b[0mnormalize_rectangle\u001b[0m\u001b[1;33m(\u001b[0m \u001b[1;33m(\u001b[0m\u001b[1;36m0.0\u001b[0m\u001b[1;33m,\u001b[0m \u001b[1;36m0.0\u001b[0m\u001b[1;33m,\u001b[0m \u001b[1;36m5.0\u001b[0m\u001b[1;33m,\u001b[0m \u001b[1;36m1.0\u001b[0m\u001b[1;33m)\u001b[0m \u001b[1;33m)\u001b[0m\u001b[1;33m)\u001b[0m\u001b[1;33m\u001b[0m\u001b[1;33m\u001b[0m\u001b[0m\n\u001b[0m",
      "\u001b[1;32m<ipython-input-1-cdfa783bacb2>\u001b[0m in \u001b[0;36mnormalize_rectangle\u001b[1;34m(rect)\u001b[0m\n\u001b[0;32m     19\u001b[0m \u001b[1;33m\u001b[0m\u001b[0m\n\u001b[0;32m     20\u001b[0m     \u001b[1;32massert\u001b[0m \u001b[1;36m0\u001b[0m \u001b[1;33m<\u001b[0m \u001b[0mupper_x\u001b[0m \u001b[1;33m<=\u001b[0m \u001b[1;36m1.0\u001b[0m\u001b[1;33m,\u001b[0m \u001b[1;34m'Calculated upper X coordinate invalid'\u001b[0m\u001b[1;33m\u001b[0m\u001b[1;33m\u001b[0m\u001b[0m\n\u001b[1;32m---> 21\u001b[1;33m     \u001b[1;32massert\u001b[0m \u001b[1;36m0\u001b[0m \u001b[1;33m<\u001b[0m \u001b[0mupper_y\u001b[0m \u001b[1;33m<=\u001b[0m \u001b[1;36m1.0\u001b[0m\u001b[1;33m,\u001b[0m \u001b[1;34m'Calculated upper Y coordinate invalid'\u001b[0m\u001b[1;33m\u001b[0m\u001b[1;33m\u001b[0m\u001b[0m\n\u001b[0m\u001b[0;32m     22\u001b[0m \u001b[1;33m\u001b[0m\u001b[0m\n\u001b[0;32m     23\u001b[0m     \u001b[1;32mreturn\u001b[0m \u001b[1;33m(\u001b[0m\u001b[1;36m0\u001b[0m\u001b[1;33m,\u001b[0m \u001b[1;36m0\u001b[0m\u001b[1;33m,\u001b[0m \u001b[0mupper_x\u001b[0m\u001b[1;33m,\u001b[0m \u001b[0mupper_y\u001b[0m\u001b[1;33m)\u001b[0m\u001b[1;33m\u001b[0m\u001b[1;33m\u001b[0m\u001b[0m\n",
      "\u001b[1;31mAssertionError\u001b[0m: Calculated upper Y coordinate invalid"
     ]
    }
   ],
   "source": [
    "print(normalize_rectangle( (0.0, 0.0, 5.0, 1.0) ))"
   ]
  },
  {
   "cell_type": "markdown",
   "metadata": {},
   "source": [
    "Releyendo nuestra función, nos damos cuenta de que la línea 14 debe dividir `dy` por `dx` en lugar de `dx` por `dy`. En un cuaderno Jupyter, puede mostrar los números de línea escribiendo <kbd>shift</kbd>+<kbd>L</kbd>. Si hubiéramos omitido la afirmación al final de la función, habríamos creado y devuelto algo que tenía la forma correcta como una respuesta válida, pero no lo era. Detectar y depurar que casi con seguridad habría tomado más tiempo a largo plazo que escribir la afirmación.\n",
    "\n",
    "Pero las aserciones no son solo para detectar errores: también ayudan a la gente a entender los programas. Cada afirmación le da a la persona que lee el programa la oportunidad de comprobar (conscientemente o de otra manera) que su comprensión coincide con lo que el código está haciendo.\n",
    "\n",
    "La mayoría de los buenos programadores siguen dos reglas cuando agregan aserciones a su código. La primera es fallar temprano, fallar a menudo. Cuanto mayor sea la distancia entre cuándo y dónde se produce un error y cuando se nota, más difícil será depurar el error, por lo que un buen código detecta errores lo antes posible.\n",
    "\n",
    "La segunda regla es convertir los errores en aserciones o pruebas. Cada vez que corrige un error, escriba una afirmación que detecte el error si lo vuelve a cometer. Si cometiste un error en una pieza de código, las probabilidades son buenas de que hayas cometido otros errores cerca o cometerás el mismo error (o uno relacionado) la próxima vez que lo cambies. Escribir aserciones para comprobar que no has retrocedido (es decir, no has reintroducido un problema antiguo) puede ahorrar mucho tiempo a largo plazo, y ayuda a advertir a las personas que están leyendo el código (incluido tu yo futuro) que este bit es complicado.\n",
    "\n",
    "# Desarrollo basado en pruebas\n",
    "\n",
    "Una afirmación comprueba que algo es cierto en un punto particular del programa. El siguiente paso es verificar el comportamiento general de una pieza de código, es decir, asegurarse de que produce la salida correcta cuando se le da una entrada particular. Por ejemplo, supongamos que necesitamos encontrar dónde dos o más series temporales se superponen. El rango de cada serie temporal se representa como un par de números, que son el tiempo en que el intervalo comenzó y terminó. La salida es el rango más grande que todos ellos incluyen:\n",
    "\n",
    "![ranges](media/python-overlapping-ranges.svg)\n",
    "\n",
    "La mayoría de los programadores novatos resolverían este problema así:\n",
    "\n",
    "1. Escribir una función range_overlap.\n",
    "2. Llámelo interactivamente en dos o tres entradas diferentes.\n",
    "3. Si produce la respuesta incorrecta, corrija la función y vuelva a ejecutar esa prueba.\n",
    "\n",
    "Esto claramente funciona - después de todo, miles de científicos lo están haciendo ahora mismo - pero hay una mejor manera:\n",
    "\n",
    "1. Escribir una función corta para cada prueba.\n",
    "2. Escribir una función range_overlap que deba superar dichas pruebas.\n",
    "3. Si range_overlap produce respuestas erróneas, arréglelo y vuelva a ejecutar las funciones de prueba.\n",
    "\n",
    "Escribir las pruebas *antes* de escribir la función que ejercen se llama desarrollo basado en pruebas (TDD). Sus defensores creen que produce mejor código más rápido porque:\n",
    "\n",
    "1. Si las personas escriben pruebas después de escribir lo que se va a probar, están sujetas a un sesgo de confirmación, es decir, escriben pruebas subconscientemente para demostrar que su código es correcto, en lugar de encontrar errores.\n",
    "2. Escribir pruebas ayuda a los programadores a averiguar qué se supone que debe hacer la función.\n",
    "\n",
    "Aquí hay tres funciones de prueba para range_overlap:"
   ]
  },
  {
   "cell_type": "code",
   "execution_count": 6,
   "metadata": {
    "vscode": {
     "languageId": "python"
    }
   },
   "outputs": [
    {
     "ename": "NameError",
     "evalue": "name 'range_overlap' is not defined",
     "output_type": "error",
     "traceback": [
      "\u001b[1;31m---------------------------------------------------------------------------\u001b[0m",
      "\u001b[1;31mNameError\u001b[0m                                 Traceback (most recent call last)",
      "\u001b[1;32m<ipython-input-6-dc16b942c085>\u001b[0m in \u001b[0;36m<module>\u001b[1;34m\u001b[0m\n\u001b[1;32m----> 1\u001b[1;33m \u001b[1;32massert\u001b[0m \u001b[0mrange_overlap\u001b[0m\u001b[1;33m(\u001b[0m\u001b[1;33m[\u001b[0m \u001b[1;33m(\u001b[0m\u001b[1;36m0.0\u001b[0m\u001b[1;33m,\u001b[0m \u001b[1;36m1.0\u001b[0m\u001b[1;33m)\u001b[0m \u001b[1;33m]\u001b[0m\u001b[1;33m)\u001b[0m \u001b[1;33m==\u001b[0m \u001b[1;33m(\u001b[0m\u001b[1;36m0.0\u001b[0m\u001b[1;33m,\u001b[0m \u001b[1;36m1.0\u001b[0m\u001b[1;33m)\u001b[0m\u001b[1;33m\u001b[0m\u001b[1;33m\u001b[0m\u001b[0m\n\u001b[0m\u001b[0;32m      2\u001b[0m \u001b[1;32massert\u001b[0m \u001b[0mrange_overlap\u001b[0m\u001b[1;33m(\u001b[0m\u001b[1;33m[\u001b[0m \u001b[1;33m(\u001b[0m\u001b[1;36m2.0\u001b[0m\u001b[1;33m,\u001b[0m \u001b[1;36m3.0\u001b[0m\u001b[1;33m)\u001b[0m\u001b[1;33m,\u001b[0m \u001b[1;33m(\u001b[0m\u001b[1;36m2.0\u001b[0m\u001b[1;33m,\u001b[0m \u001b[1;36m4.0\u001b[0m\u001b[1;33m)\u001b[0m \u001b[1;33m]\u001b[0m\u001b[1;33m)\u001b[0m \u001b[1;33m==\u001b[0m \u001b[1;33m(\u001b[0m\u001b[1;36m2.0\u001b[0m\u001b[1;33m,\u001b[0m \u001b[1;36m3.0\u001b[0m\u001b[1;33m)\u001b[0m\u001b[1;33m\u001b[0m\u001b[1;33m\u001b[0m\u001b[0m\n\u001b[0;32m      3\u001b[0m \u001b[1;32massert\u001b[0m \u001b[0mrange_overlap\u001b[0m\u001b[1;33m(\u001b[0m\u001b[1;33m[\u001b[0m \u001b[1;33m(\u001b[0m\u001b[1;36m0.0\u001b[0m\u001b[1;33m,\u001b[0m \u001b[1;36m1.0\u001b[0m\u001b[1;33m)\u001b[0m\u001b[1;33m,\u001b[0m \u001b[1;33m(\u001b[0m\u001b[1;36m0.0\u001b[0m\u001b[1;33m,\u001b[0m \u001b[1;36m2.0\u001b[0m\u001b[1;33m)\u001b[0m\u001b[1;33m,\u001b[0m \u001b[1;33m(\u001b[0m\u001b[1;33m-\u001b[0m\u001b[1;36m1.0\u001b[0m\u001b[1;33m,\u001b[0m \u001b[1;36m1.0\u001b[0m\u001b[1;33m)\u001b[0m \u001b[1;33m]\u001b[0m\u001b[1;33m)\u001b[0m \u001b[1;33m==\u001b[0m \u001b[1;33m(\u001b[0m\u001b[1;36m0.0\u001b[0m\u001b[1;33m,\u001b[0m \u001b[1;36m1.0\u001b[0m\u001b[1;33m)\u001b[0m\u001b[1;33m\u001b[0m\u001b[1;33m\u001b[0m\u001b[0m\n",
      "\u001b[1;31mNameError\u001b[0m: name 'range_overlap' is not defined"
     ]
    }
   ],
   "source": [
    "assert range_overlap([ (0.0, 1.0) ]) == (0.0, 1.0)\n",
    "assert range_overlap([ (2.0, 3.0), (2.0, 4.0) ]) == (2.0, 3.0)\n",
    "assert range_overlap([ (0.0, 1.0), (0.0, 2.0), (-1.0, 1.0) ]) == (0.0, 1.0)"
   ]
  },
  {
   "cell_type": "markdown",
   "metadata": {},
   "source": [
    "Cuando ejecutamos esto, tenemos un error. El error es tranquilizador: no hemos escrito range_overlap todavía, así que si las pruebas pasan, sería una señal de que alguien más tenía y que estábamos utilizando accidentalmente su función.\n",
    "\n",
    "Y como ventaja de escribir estas pruebas, hemos definido implícitamente cómo se ven nuestra entrada y salida: esperamos una lista de pares como entrada y producimos un solo par como salida.\n",
    "\n",
    "Sin embargo, falta algo importante. No tenemos pruebas para el caso de que los rangos no se solapen en absoluto:\n",
    "\n",
    "```Python\n",
    "assert range_overlap([ (0.0, 1.0), (5.0, 6.0) ]) == ???\n",
    "```\n",
    "\n",
    "¿Qué debería hacer range_overlap en este caso: fallar con un mensaje de error, producir un valor especial como (0.0, 0.0) para indicar que no hay superposición, o algo más? Cualquier implementación real de la función hará una de estas cosas; escribir las pruebas primero nos ayuda a averiguar cuál es el mejor *antes* estamos emocionalmente involucrados en lo que sea que escribimos antes de darnos cuenta de que había un problema.\n",
    "\n",
    "¿Y qué hay de este caso?\n",
    "\n",
    "```Python\n",
    "assert range_overlap([ (0.0, 1.0), (1.0, 2.0) ]) == ???\n",
    "```\n",
    "\n",
    "¿Dos segmentos que se tocan en sus puntos finales se superponen o no? Los matemáticos suelen decir \"sí\", pero los ingenieros suelen decir \"no\". La mejor respuesta es \"lo que sea más útil en el resto de nuestro programa\", pero de nuevo, cualquier implementación real de `range_overlap` va a hacer algo, y lo que sea debe ser consistente con lo que hace cuando no hay superposición en absoluto.\n",
    "\n",
    "Dado que estamos planeando usar el rango esta función regresa como el eje X en un gráfico de series temporales, decidimos que:\n",
    "\n",
    "1. cada solapamiento debe tener una anchura distinta de cero, y\n",
    "2. devolveremos el valor especial `Ninguno` cuando no haya superposición.\n",
    "\n",
    "`Ninguno` está integrado en Python y significa \"nada aquí\" (Otros lenguajes a menudo llaman al valor equivalente `null` o `nil`). Con esa decisión tomada, podemos terminar de escribir nuestras dos últimas pruebas:\n"
   ]
  },
  {
   "cell_type": "code",
   "execution_count": 7,
   "metadata": {
    "vscode": {
     "languageId": "python"
    }
   },
   "outputs": [
    {
     "ename": "NameError",
     "evalue": "name 'range_overlap' is not defined",
     "output_type": "error",
     "traceback": [
      "\u001b[1;31m---------------------------------------------------------------------------\u001b[0m",
      "\u001b[1;31mNameError\u001b[0m                                 Traceback (most recent call last)",
      "\u001b[1;32m<ipython-input-7-42de7ddfb428>\u001b[0m in \u001b[0;36m<module>\u001b[1;34m\u001b[0m\n\u001b[1;32m----> 1\u001b[1;33m \u001b[1;32massert\u001b[0m \u001b[0mrange_overlap\u001b[0m\u001b[1;33m(\u001b[0m\u001b[1;33m[\u001b[0m \u001b[1;33m(\u001b[0m\u001b[1;36m0.0\u001b[0m\u001b[1;33m,\u001b[0m \u001b[1;36m1.0\u001b[0m\u001b[1;33m)\u001b[0m\u001b[1;33m,\u001b[0m \u001b[1;33m(\u001b[0m\u001b[1;36m5.0\u001b[0m\u001b[1;33m,\u001b[0m \u001b[1;36m6.0\u001b[0m\u001b[1;33m)\u001b[0m \u001b[1;33m]\u001b[0m\u001b[1;33m)\u001b[0m \u001b[1;33m==\u001b[0m \u001b[1;32mNone\u001b[0m\u001b[1;33m\u001b[0m\u001b[1;33m\u001b[0m\u001b[0m\n\u001b[0m\u001b[0;32m      2\u001b[0m \u001b[1;32massert\u001b[0m \u001b[0mrange_overlap\u001b[0m\u001b[1;33m(\u001b[0m\u001b[1;33m[\u001b[0m \u001b[1;33m(\u001b[0m\u001b[1;36m0.0\u001b[0m\u001b[1;33m,\u001b[0m \u001b[1;36m1.0\u001b[0m\u001b[1;33m)\u001b[0m\u001b[1;33m,\u001b[0m \u001b[1;33m(\u001b[0m\u001b[1;36m1.0\u001b[0m\u001b[1;33m,\u001b[0m \u001b[1;36m2.0\u001b[0m\u001b[1;33m)\u001b[0m \u001b[1;33m]\u001b[0m\u001b[1;33m)\u001b[0m \u001b[1;33m==\u001b[0m \u001b[1;32mNone\u001b[0m\u001b[1;33m\u001b[0m\u001b[1;33m\u001b[0m\u001b[0m\n",
      "\u001b[1;31mNameError\u001b[0m: name 'range_overlap' is not defined"
     ]
    }
   ],
   "source": [
    "assert range_overlap([ (0.0, 1.0), (5.0, 6.0) ]) == None\n",
    "assert range_overlap([ (0.0, 1.0), (1.0, 2.0) ]) == None"
   ]
  },
  {
   "cell_type": "markdown",
   "metadata": {},
   "source": [
    "De nuevo, tenemos un error porque no hemos escrito nuestra función, pero ahora estamos listos para hacerlo:"
   ]
  },
  {
   "cell_type": "code",
   "execution_count": 8,
   "metadata": {
    "vscode": {
     "languageId": "python"
    }
   },
   "outputs": [],
   "source": [
    "def range_overlap(ranges):\n",
    "    \"\"\"Return common overlap among a set of [left, right] ranges.\"\"\"\n",
    "    max_left = 0.0\n",
    "    min_right = 1.0\n",
    "    for (left, right) in ranges:\n",
    "        max_left = max(max_left, left)\n",
    "        min_right = min(min_right, right)\n",
    "    return (max_left, min_right)"
   ]
  },
  {
   "cell_type": "markdown",
   "metadata": {},
   "source": [
    "Tómese un momento para pensar por qué calculamos el punto final izquierdo del solapamiento como el máximo de los puntos finales izquierdos de entrada, y el punto final derecho de superposición como el mínimo de los puntos finales derechos de entrada. Ahora nos gustaría volver a realizar nuestras pruebas, pero están dispersas en tres celdas diferentes. Para hacerlas más fáciles, pongámoslas todas en una función:"
   ]
  },
  {
   "cell_type": "code",
   "execution_count": 9,
   "metadata": {
    "vscode": {
     "languageId": "python"
    }
   },
   "outputs": [],
   "source": [
    "def test_range_overlap():\n",
    "    assert range_overlap([ (0.0, 1.0), (5.0, 6.0) ]) == None\n",
    "    assert range_overlap([ (0.0, 1.0), (1.0, 2.0) ]) == None\n",
    "    assert range_overlap([ (0.0, 1.0) ]) == (0.0, 1.0)\n",
    "    assert range_overlap([ (2.0, 3.0), (2.0, 4.0) ]) == (2.0, 3.0)\n",
    "    assert range_overlap([ (0.0, 1.0), (0.0, 2.0), (-1.0, 1.0) ]) == (0.0, 1.0)\n",
    "    assert range_overlap([]) == None"
   ]
  },
  {
   "cell_type": "markdown",
   "metadata": {},
   "source": [
    "Ahora podemos probar `range_overlap` con una sola llamada de función:"
   ]
  },
  {
   "cell_type": "code",
   "execution_count": 10,
   "metadata": {
    "vscode": {
     "languageId": "python"
    }
   },
   "outputs": [
    {
     "ename": "AssertionError",
     "evalue": "",
     "output_type": "error",
     "traceback": [
      "\u001b[1;31m---------------------------------------------------------------------------\u001b[0m",
      "\u001b[1;31mAssertionError\u001b[0m                            Traceback (most recent call last)",
      "\u001b[1;32m<ipython-input-10-80290759369d>\u001b[0m in \u001b[0;36m<module>\u001b[1;34m\u001b[0m\n\u001b[1;32m----> 1\u001b[1;33m \u001b[0mtest_range_overlap\u001b[0m\u001b[1;33m(\u001b[0m\u001b[1;33m)\u001b[0m\u001b[1;33m\u001b[0m\u001b[1;33m\u001b[0m\u001b[0m\n\u001b[0m",
      "\u001b[1;32m<ipython-input-9-2c8841db23c8>\u001b[0m in \u001b[0;36mtest_range_overlap\u001b[1;34m()\u001b[0m\n\u001b[0;32m      1\u001b[0m \u001b[1;32mdef\u001b[0m \u001b[0mtest_range_overlap\u001b[0m\u001b[1;33m(\u001b[0m\u001b[1;33m)\u001b[0m\u001b[1;33m:\u001b[0m\u001b[1;33m\u001b[0m\u001b[1;33m\u001b[0m\u001b[0m\n\u001b[1;32m----> 2\u001b[1;33m     \u001b[1;32massert\u001b[0m \u001b[0mrange_overlap\u001b[0m\u001b[1;33m(\u001b[0m\u001b[1;33m[\u001b[0m \u001b[1;33m(\u001b[0m\u001b[1;36m0.0\u001b[0m\u001b[1;33m,\u001b[0m \u001b[1;36m1.0\u001b[0m\u001b[1;33m)\u001b[0m\u001b[1;33m,\u001b[0m \u001b[1;33m(\u001b[0m\u001b[1;36m5.0\u001b[0m\u001b[1;33m,\u001b[0m \u001b[1;36m6.0\u001b[0m\u001b[1;33m)\u001b[0m \u001b[1;33m]\u001b[0m\u001b[1;33m)\u001b[0m \u001b[1;33m==\u001b[0m \u001b[1;32mNone\u001b[0m\u001b[1;33m\u001b[0m\u001b[1;33m\u001b[0m\u001b[0m\n\u001b[0m\u001b[0;32m      3\u001b[0m     \u001b[1;32massert\u001b[0m \u001b[0mrange_overlap\u001b[0m\u001b[1;33m(\u001b[0m\u001b[1;33m[\u001b[0m \u001b[1;33m(\u001b[0m\u001b[1;36m0.0\u001b[0m\u001b[1;33m,\u001b[0m \u001b[1;36m1.0\u001b[0m\u001b[1;33m)\u001b[0m\u001b[1;33m,\u001b[0m \u001b[1;33m(\u001b[0m\u001b[1;36m1.0\u001b[0m\u001b[1;33m,\u001b[0m \u001b[1;36m2.0\u001b[0m\u001b[1;33m)\u001b[0m \u001b[1;33m]\u001b[0m\u001b[1;33m)\u001b[0m \u001b[1;33m==\u001b[0m \u001b[1;32mNone\u001b[0m\u001b[1;33m\u001b[0m\u001b[1;33m\u001b[0m\u001b[0m\n\u001b[0;32m      4\u001b[0m     \u001b[1;32massert\u001b[0m \u001b[0mrange_overlap\u001b[0m\u001b[1;33m(\u001b[0m\u001b[1;33m[\u001b[0m \u001b[1;33m(\u001b[0m\u001b[1;36m0.0\u001b[0m\u001b[1;33m,\u001b[0m \u001b[1;36m1.0\u001b[0m\u001b[1;33m)\u001b[0m \u001b[1;33m]\u001b[0m\u001b[1;33m)\u001b[0m \u001b[1;33m==\u001b[0m \u001b[1;33m(\u001b[0m\u001b[1;36m0.0\u001b[0m\u001b[1;33m,\u001b[0m \u001b[1;36m1.0\u001b[0m\u001b[1;33m)\u001b[0m\u001b[1;33m\u001b[0m\u001b[1;33m\u001b[0m\u001b[0m\n\u001b[0;32m      5\u001b[0m     \u001b[1;32massert\u001b[0m \u001b[0mrange_overlap\u001b[0m\u001b[1;33m(\u001b[0m\u001b[1;33m[\u001b[0m \u001b[1;33m(\u001b[0m\u001b[1;36m2.0\u001b[0m\u001b[1;33m,\u001b[0m \u001b[1;36m3.0\u001b[0m\u001b[1;33m)\u001b[0m\u001b[1;33m,\u001b[0m \u001b[1;33m(\u001b[0m\u001b[1;36m2.0\u001b[0m\u001b[1;33m,\u001b[0m \u001b[1;36m4.0\u001b[0m\u001b[1;33m)\u001b[0m \u001b[1;33m]\u001b[0m\u001b[1;33m)\u001b[0m \u001b[1;33m==\u001b[0m \u001b[1;33m(\u001b[0m\u001b[1;36m2.0\u001b[0m\u001b[1;33m,\u001b[0m \u001b[1;36m3.0\u001b[0m\u001b[1;33m)\u001b[0m\u001b[1;33m\u001b[0m\u001b[1;33m\u001b[0m\u001b[0m\n",
      "\u001b[1;31mAssertionError\u001b[0m: "
     ]
    }
   ],
   "source": [
    "test_range_overlap()\n"
   ]
  },
  {
   "cell_type": "markdown",
   "metadata": {},
   "source": [
    "La primera prueba que se suponía que iba a producir `Ninguno` falla, por lo que sabemos que algo está mal con nuestra función. No sabemos si las otras pruebas pasaron o fallaron porque Python detuvo el programa tan pronto como detectó el primer error. Aún así, alguna información es mejor que ninguna, y si rastreamos el comportamiento de la función con esa entrada, nos damos cuenta de que estamos inicializando `max_left` y `min_right` a 0.0 y 1.0 respectivamente, independientemente de los valores de entrada. Esto viola otra regla importante de programación: siempre inicializar a partir de datos.\n",
    "\n",
    "Ejercicio 1* - Condiciones previas y posteriores\n",
    "\n",
    "Supongamos que está escribiendo una función llamada `promedio` que calcula el promedio de los números en una lista. ¿Qué condiciones previas y condiciones posteriores escribirías para ello? "
   ]
  },
  {
   "cell_type": "code",
   "execution_count": 1,
   "metadata": {
    "vscode": {
     "languageId": "python"
    }
   },
   "outputs": [],
   "source": [
    "def average(numbers):\n",
    "    result = 0\n",
    "    counter = 0\n",
    "    for num in numbers:\n",
    "        result += 0\n",
    "        counter += 1\n",
    "    return result/counter"
   ]
  },
  {
   "cell_type": "markdown",
   "metadata": {},
   "source": [
    "# Ejercicio 2* - Pruebas de aserciones\n",
    "\n",
    "Dada una secuencia de un número de coches, la función `get_total` devuelve el número total de coches.\n",
    "\n",
    "```Python\n",
    "get_total([1, 2, 3, 4])\n",
    "```\n",
    "```\n",
    ">>> 10\n",
    "```\n",
    "\n",
    "---\n",
    "```Python\n",
    "get_total(['a', 'b', 'c'])\n",
    "```\n",
    "```\n",
    "ValueError: invalid literal for int() with base 10: 'a'\n",
    "```\n",
    "\n",
    "Explique en palabras lo que las aserciones en esta función comprueban, y para cada una, dé un ejemplo de entrada que hará que esa aserción falle.\n"
   ]
  },
  {
   "cell_type": "code",
   "execution_count": 2,
   "metadata": {
    "vscode": {
     "languageId": "python"
    }
   },
   "outputs": [
    {
     "data": {
      "text/plain": [
       "15"
      ]
     },
     "execution_count": 2,
     "metadata": {},
     "output_type": "execute_result"
    }
   ],
   "source": [
    "def get_total(values):\n",
    "    assert len(values) > 0\n",
    "    for element in values:\n",
    "        assert int(element) > 0, \"element must be > 0\"\n",
    "    total = sum(values)\n",
    "    assert total > 0\n",
    "    return total\n",
    "\n",
    "get_total([7, 8])"
   ]
  },
  {
   "cell_type": "markdown",
   "metadata": {},
   "source": [
    "# Puntos clave\n",
    "\n",
    "- Programar defensivamente, es decir, asumir que van a surgir errores, y escribir código para detectarlos cuando lo hagan.\n",
    "\n",
    "- Poner aserciones en los programas para comprobar su estado a medida que se ejecutan, y para ayudar a los lectores a entender cómo se supone que esos programas funcionan.\n",
    "\n",
    "- Utilice precondiciones para comprobar que las entradas a una función son seguras de usar.\n",
    "\n",
    "- Utilice postcondiciones para comprobar que la salida de una función es segura de usar.\n",
    "\n",
    "- Escribir pruebas antes de escribir código para ayudar a determinar exactamente lo que ese código se supone que debe hacer."
   ]
  }
 ],
 "metadata": {
  "kernelspec": {
   "display_name": "Wolfram Language 12.2",
   "language": "Wolfram Language",
   "name": "wolframlanguage12.2"
  },
  "language_info": {
   "codemirror_mode": {
    "name": "ipython",
    "version": 3
   },
   "file_extension": ".py",
   "mimetype": "text/x-python",
   "name": "Wolfram Language",
   "nbconvert_exporter": "python",
   "pygments_lexer": "ipython3",
   "version": "3.9.6"
  }
 },
 "nbformat": 4,
 "nbformat_minor": 4
}
