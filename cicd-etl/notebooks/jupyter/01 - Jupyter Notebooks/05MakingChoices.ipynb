{
 "cells": [
  {
   "cell_type": "markdown",
   "metadata": {},
   "source": [
    "# Making Choices\n",
    "\n",
    "## Questions\n",
    "\n",
    "- ¿Cómo pueden mis programas hacer cosas diferentes basadas en valores de datos?\n",
    "\n",
    "## Objetivos\n",
    "\n",
    "- Entender \"expresiones\" y booleanos.\n",
    "\n",
    "- Escribir declaraciones condicionales incluyendo `if`, `elif`, y `else` ramas.\n",
    "\n",
    "- Evaluar correctamente las expresiones que contengan `y` y `o`.\n",
    "\n",
    "- Entender \"indexación booleana\" con respecto a matrices numpy.\n",
    "\n",
    "En la Lección 2 comenzamos a examinar datos experimentales y de simulación de radiación, pero tuvimos que dejar fuera nuestro análisis porque no sabíamos lo suficiente. Ahora estamos listos para dar los siguientes pasos. Con el fin de comparar los dos conjuntos de datos, tenemos que tomar un corte a través de la mitad de nuestros datos de simulación, convirtiendo los datos 3D en datos 2D.\n",
    "\n",
    "Esto es fácil de hacer con numpy, pero primero tenemos que entender un par de conceptos clave.\n",
    "\n",
    "Expresiones Booleanas\n",
    "\n",
    "`Verdadero` y `Falso` son palabras especiales en Python llamadas *booleanos*, que representan valores de verdad. Una declaración como \n",
    "\n",
    "1 < 0 \n",
    "\n",
    "devuelve el valor `False`, mientras \n",
    "\n",
    "-1 < 0 \n",
    "\n",
    "devuelve el valor `True` (tenga en cuenta que la capitalización es importante!).\n",
    "\n",
    "Estas son \"expresiones booleanas\"."
   ]
  },
  {
   "cell_type": "code",
   "execution_count": 6,
   "metadata": {
    "vscode": {
     "languageId": "python"
    }
   },
   "outputs": [
    {
     "name": "stdout",
     "output_type": "stream",
     "text": [
      "False\n",
      "True\n",
      "<class 'bool'>\n"
     ]
    },
    {
     "data": {
      "text/plain": [
       "True"
      ]
     },
     "execution_count": 6,
     "metadata": {},
     "output_type": "execute_result"
    }
   ],
   "source": [
    "print(10 < 5)\n",
    "print(10 > 5)\n",
    "print(type(10 > 5))\n",
    "\n",
    "my_bool = (10 == 10)\n",
    "my_bool"
   ]
  },
  {
   "cell_type": "markdown",
   "metadata": {},
   "source": [
    "Los bools se pueden asignar a variables como otros tipos, y están en el núcleo de \"Condicionales\". Estas son declaraciones en codificación que siguen diferentes rutas dependiendo del estado de un bool dado.\n",
    "\n",
    "#Condicionales\n",
    "\n",
    "Podemos pedirle a Python que tome diferentes acciones, dependiendo de la condición, con una sentencia `if` :"
   ]
  },
  {
   "cell_type": "code",
   "execution_count": 7,
   "metadata": {
    "vscode": {
     "languageId": "python"
    }
   },
   "outputs": [
    {
     "name": "stdout",
     "output_type": "stream",
     "text": [
      "not greater\n",
      "done\n"
     ]
    }
   ],
   "source": [
    "num = 37\n",
    "if num > 100:\n",
    "    print('greater')\n",
    "else:\n",
    "    print('not greater')\n",
    "print('done')"
   ]
  },
  {
   "cell_type": "markdown",
   "metadata": {},
   "source": [
    "La segunda línea de este código usa la palabra clave `if` para decirle a Python que queremos hacer una elección. Si la prueba que sigue a la sentencia `if` es verdadera, se ejecuta el cuerpo de la `if` (es decir, el conjunto de líneas sangradas debajo de ella) y se imprime \"mayor\". Si la prueba es falsa, el cuerpo del otro se ejecuta en su lugar, y \"no mayor\" se imprime. Solo uno u otro se ejecuta antes de continuar con la ejecución del programa para imprimir \"hecho\":\n",
    "\n",
    "![if flowchart](media/python-flowchart-conditional.png)\n",
    "\n",
    "Las sentencias condicionales no tienen que incluir un `else`. Si no hay una, Python simplemente no hace nada si la prueba es falsa:\n"
   ]
  },
  {
   "cell_type": "code",
   "execution_count": 8,
   "metadata": {
    "vscode": {
     "languageId": "python"
    }
   },
   "outputs": [
    {
     "name": "stdout",
     "output_type": "stream",
     "text": [
      "before conditional...\n",
      "...after conditional\n"
     ]
    }
   ],
   "source": [
    "num = 53\n",
    "print('before conditional...')\n",
    "if num > 100:\n",
    "    print(num,' is greater than 100')\n",
    "print('...after conditional')"
   ]
  },
  {
   "cell_type": "markdown",
   "metadata": {},
   "source": [
    "También podemos encadenar varias pruebas usando `elif`, que es la abreviatura de \"else if\". El siguiente código Python usa `elif` para imprimir el signo de un número."
   ]
  },
  {
   "cell_type": "code",
   "execution_count": 9,
   "metadata": {
    "vscode": {
     "languageId": "python"
    }
   },
   "outputs": [
    {
     "name": "stdout",
     "output_type": "stream",
     "text": [
      "-3 is negative\n"
     ]
    }
   ],
   "source": [
    "num = -3\n",
    "\n",
    "if num > 0:\n",
    "    print(num, 'is positive')\n",
    "elif num == 0:\n",
    "    print(num, 'is zero')\n",
    "else:\n",
    "    print(num, 'is negative')"
   ]
  },
  {
   "cell_type": "markdown",
   "metadata": {},
   "source": [
    "Tenga en cuenta que para probar la igualdad se utiliza un signo doble igual a `=` en lugar de un solo signo igual a `=` que se utiliza para asignar valores.\n",
    "> ## Comparación en Python\n",
    "> Junto con los operadores `>` y `=` que ya hemos utilizado para comparar valores en nuestros condicionales, hay algunas opciones más que conocer:\n",
    "> \n",
    "> - `>`: mayor que\n",
    "> - `<`: menos de\n",
    "> - `==`: igual a\n",
    "> - `!=`: no es igual\n",
    "> - `>=`: superior o igual a\n",
    "> - `<=`: inferior o igual a\n",
    "\n",
    "También podemos combinar pruebas usando `y` y `o`. `y` solo es cierto si ambas partes son verdaderas:"
   ]
  },
  {
   "cell_type": "code",
   "execution_count": 10,
   "metadata": {
    "vscode": {
     "languageId": "python"
    }
   },
   "outputs": [
    {
     "name": "stdout",
     "output_type": "stream",
     "text": [
      "at least one part is false\n"
     ]
    }
   ],
   "source": [
    "if (1 > 0) and (-1 >= 0):\n",
    "    print('both parts are true')\n",
    "else:\n",
    "    print('at least one part is false')"
   ]
  },
  {
   "cell_type": "markdown",
   "metadata": {},
   "source": [
    "mientras que `o` es cierto si al menos una parte es verdadera:"
   ]
  },
  {
   "cell_type": "code",
   "execution_count": 11,
   "metadata": {
    "vscode": {
     "languageId": "python"
    }
   },
   "outputs": [
    {
     "name": "stdout",
     "output_type": "stream",
     "text": [
      "at least one test is true\n"
     ]
    }
   ],
   "source": [
    "if (1 < 0) or (1 >= 0):\n",
    "    print('at least one test is true')"
   ]
  },
  {
   "cell_type": "markdown",
   "metadata": {},
   "source": [
    "# Bools and Numpy\n",
    "Como vimos anteriormente, las operaciones en matrices numpy ocurren \"elementwise\". Si agregamos un valor escalar a un array, ese valor se agrega a *cada* elemento del array y si agregamos dos arrays juntos (siempre que tengan la misma forma) cada elemento correspondiente se agrega al elemento en el otro array.\n",
    "\n",
    "Esto es *también* cierto para las expresiones booleanas."
   ]
  },
  {
   "cell_type": "code",
   "execution_count": 1,
   "metadata": {
    "vscode": {
     "languageId": "python"
    }
   },
   "outputs": [
    {
     "name": "stdout",
     "output_type": "stream",
     "text": [
      "[0 1 2 3 4 5 6 7 8 9]\n",
      "[ True  True  True  True  True  True False False False False]\n"
     ]
    }
   ],
   "source": [
    "import numpy as np\n",
    "\n",
    "# arange is like Python's \"range\" function, except it returns a numpy array\n",
    "array = np.arange(10)\n",
    "print(array)\n",
    "boolean_array = array <= 5\n",
    "print(boolean_array)"
   ]
  },
  {
   "cell_type": "markdown",
   "metadata": {},
   "source": [
    "Una expresión que contenga una sola matriz numpy y un escalar evaluará la expresión para cada elemento de la matriz, y de manera similar una expresión entre dos matrices numpy de formas idénticas evaluará los resultados de la expresión mediante el emparejamiento de elementos en ubicaciones equivalentes. Esto es extremadamente útil para realizar evaluaciones a gran escala y a menudo niega la necesidad de usar bucles. Esto se conoce como vectorización y es una habilidad extremadamente útil para desarrollar, pero más allá del alcance de este curso. Pero este no es el único uso para matrices booleanas.\n",
    "\n",
    "De hecho, en Python podemos usar arrays booleanos para indexar otros arrays, **siempre que sean de la misma forma**. Si hacemos esto:\n",
    "```\n",
    "array[array<=5]\n",
    "```\n",
    "Python devuelve todos los elementos de `array` donde la matriz booleana `array<=5` evalúa a `True` (i.e. devuelve todos los elementos menos que, o igual a, 5)."
   ]
  },
  {
   "cell_type": "code",
   "execution_count": 13,
   "metadata": {
    "vscode": {
     "languageId": "python"
    }
   },
   "outputs": [
    {
     "data": {
      "text/plain": [
       "array([0, 1, 2, 3, 4, 5])"
      ]
     },
     "execution_count": 13,
     "metadata": {},
     "output_type": "execute_result"
    }
   ],
   "source": [
    "array[boolean_array]"
   ]
  },
  {
   "cell_type": "markdown",
   "metadata": {},
   "source": [
    "Podemos usar esto con gran efecto para extraer una sección transversal de nuestros datos de simulación.\n",
    "\n",
    "Necesitamos un corte a través de los datos que corta a través del centro de la luminancia del led. Esto es aproximadamente `y = 0`. Tenemos tres matrices: coordenadas x, coordenadas y y valores de luminancia. Queremos todas las coordenadas x, y los valores de luminancia que tienen un valor y correspondiente de 0 (o cerca de).\n",
    "\n",
    "Primero veamos cuál es el valor y más cercano a 0. Para hacer esto podemos usar la función numpy `np.amin()` que encuentra el valor más pequeño en una matriz y `abs()`, una función incorporada en Python que calcula el valor absoluto del argumento que se proporciona."
   ]
  },
  {
   "cell_type": "code",
   "execution_count": 14,
   "metadata": {
    "vscode": {
     "languageId": "python"
    }
   },
   "outputs": [
    {
     "name": "stdout",
     "output_type": "stream",
     "text": [
      "0.25\n"
     ]
    }
   ],
   "source": [
    "# load in the data as we did previously\n",
    "sim = np.loadtxt(fname='simulation01.txt', skiprows=52)\n",
    "x = sim[:, 0]\n",
    "y = sim[:, 1]\n",
    "rad = sim[:, 2]\n",
    "\n",
    "# Find the closest y-value to 0\n",
    "smallest_y = np.amin(abs(y))\n",
    "print(smallest_y)\n"
   ]
  },
  {
   "cell_type": "markdown",
   "metadata": {},
   "source": [
    "Ahora podemos usar este valor para extraer todos los valores de x y la luminancia que tienen este valor."
   ]
  },
  {
   "cell_type": "code",
   "execution_count": 15,
   "metadata": {
    "vscode": {
     "languageId": "python"
    }
   },
   "outputs": [],
   "source": [
    "x_cross_section = x[y==smallest_y]\n",
    "luminance_cross_section = rad[y==smallest_y]"
   ]
  },
  {
   "cell_type": "markdown",
   "metadata": {},
   "source": [
    "Vamos a trazar nuestros datos, como lo hicimos anteriormente, para asegurarnos de que ha funcionado."
   ]
  },
  {
   "cell_type": "code",
   "execution_count": 16,
   "metadata": {
    "vscode": {
     "languageId": "python"
    }
   },
   "outputs": [
    {
     "data": {
      "text/plain": [
       "[<matplotlib.lines.Line2D at 0x25cbc0cfee0>]"
      ]
     },
     "execution_count": 16,
     "metadata": {},
     "output_type": "execute_result"
    },
    {
     "data": {
      "image/png": "[encoded data removed]",
      "text/plain": [
       "<Figure size 432x288 with 1 Axes>"
      ]
     },
     "metadata": {
      "needs_background": "light"
     },
     "output_type": "display_data"
    }
   ],
   "source": [
    "import matplotlib.pyplot as plt\n",
    "\n",
    "plt.plot(x_cross_section, luminance_cross_section)"
   ]
  },
  {
   "cell_type": "markdown",
   "metadata": {},
   "source": [
    "Terminemos esta lección comparando los datos de simulación con nuestros datos experimentales."
   ]
  },
  {
   "cell_type": "code",
   "execution_count": 17,
   "metadata": {
    "vscode": {
     "languageId": "python"
    }
   },
   "outputs": [
    {
     "data": {
      "text/plain": [
       "[<matplotlib.lines.Line2D at 0x25cbe1d4d60>]"
      ]
     },
     "execution_count": 17,
     "metadata": {},
     "output_type": "execute_result"
    },
    {
     "data": {
      "image/png": "[encoded data removed]",
      "text/plain": [
       "<Figure size 432x288 with 1 Axes>"
      ]
     },
     "metadata": {
      "needs_background": "light"
     },
     "output_type": "display_data"
    }
   ],
   "source": [
    "data = np.loadtxt(fname='experiment01.csv', delimiter=',')\n",
    "\n",
    "# Let's set the marker and linestyle to differentiate between the two\n",
    "plt.plot(x_cross_section, luminance_cross_section)\n",
    "plt.plot(data[:,0], data[:, 1], marker='+', linestyle=' ')"
   ]
  },
  {
   "cell_type": "markdown",
   "metadata": {},
   "source": [
    "La comparación se ve bien! Vamos a tener que hacer un poco más de análisis antes de que podamos estar seguros, sin embargo.\n",
    "\n",
    "De esta manera, hemos pedido a Python que seleccione los datos en función de cómo cumple un criterio en particular. \n",
    "\n",
    "# Ejercicio 1* \n",
    "\n",
    "Tenga en cuenta este código:\n",
    "\n",
    "```Python\n",
    "if 4 > 3:\n",
    "    print('A')\n",
    "elif 4 == 5:\n",
    "    print('B')\n",
    "elif 4 < 5:\n",
    "    print('C')\n",
    "```\n",
    "\n",
    "¿Cuál de los siguientes se imprimiría si se ejecuta este código? ¿Por qué elegir esta respuesta?\n",
    "1. A\n",
    "2. B\n",
    "3. C\n",
    "4. B and C"
   ]
  },
  {
   "cell_type": "code",
   "execution_count": 18,
   "metadata": {
    "vscode": {
     "languageId": "python"
    }
   },
   "outputs": [],
   "source": [
    "# Enter your solution here"
   ]
  },
  {
   "cell_type": "markdown",
   "metadata": {},
   "source": [
    "# Ejercicio 2* - ¿Qué es la Verdad?\n",
    "\n",
    "`Los booleanos verdaderos y `falsos no son los únicos valores en Python que son verdaderos y falsos. De hecho, cualquier valor se puede usar en un `si` o `elif`. Después de leer y ejecutar el código a continuación, explique cuál es la regla para qué valores se consideran verdaderos y cuáles se consideran falsos."
   ]
  },
  {
   "cell_type": "code",
   "execution_count": 19,
   "metadata": {
    "vscode": {
     "languageId": "python"
    }
   },
   "outputs": [
    {
     "name": "stdout",
     "output_type": "stream",
     "text": [
      "word is true\n",
      "non-empty list is true\n",
      "one is true\n"
     ]
    }
   ],
   "source": [
    "if '':\n",
    "    print('empty string is true')\n",
    "if 'word':\n",
    "    print('word is true')\n",
    "if []:\n",
    "    print('empty list is true')\n",
    "if [1, 2, 3]:\n",
    "    print('non-empty list is true')\n",
    "if 0:\n",
    "    print('zero is true')\n",
    "if 1:\n",
    "    print('one is true')"
   ]
  },
  {
   "cell_type": "markdown",
   "metadata": {},
   "source": [
    "Puede comprobar fácilmente la *Veracidad* o *Falsedad* de un objeto en Python con otra función incorporada, `bool()`. Aplíquelo a cualquier objeto, para inspeccionar si el objeto es *Truthy* o *Falsy*."
   ]
  },
  {
   "cell_type": "code",
   "execution_count": 20,
   "metadata": {
    "vscode": {
     "languageId": "python"
    }
   },
   "outputs": [],
   "source": [
    "# uncomment these one at a time and try them out!\n",
    "# bool([])\n",
    "# bool(1.0)\n",
    "# bool(0.)\n",
    "# bool('0.')"
   ]
  },
  {
   "cell_type": "markdown",
   "metadata": {},
   "source": [
    "# Exercise 3\n",
    "\n",
    "A veces es útil comprobar si alguna condición no es verdadera. El operador booleano `no` puede hacer esto explícitamente. Después de leer y ejecutar el código a continuación, escribe algunas declaraciones if que usen `no` para probar la regla que formulaste en el desafío anterior. Para obtener puntos de bonificación, usa la función `bool()` en tu respuesta."
   ]
  },
  {
   "cell_type": "code",
   "execution_count": 21,
   "metadata": {
    "vscode": {
     "languageId": "python"
    }
   },
   "outputs": [
    {
     "name": "stdout",
     "output_type": "stream",
     "text": [
      "empty string is not true\n",
      "not not True is true\n"
     ]
    }
   ],
   "source": [
    "if not '':\n",
    "    print('empty string is not true')\n",
    "if not 'word':\n",
    "    print('word is not true')\n",
    "if not not True:\n",
    "    print('not not True is true')"
   ]
  },
  {
   "cell_type": "markdown",
   "metadata": {},
   "source": [
    "# Ejercicio 4* - Casting matrices booleanas\n",
    "\n",
    "Cuando alimentamos una matriz de `True`s y `False`s en una matriz para extraer los elementos en las ubicaciones a las que los valores `True` corresponden, se llama \"*casting*\". En el ejemplo anterior tomamos un corte 1D a través de las matrices donde `y == 0.25`. Abajo, he creado dos matrices `A` y `B`. Ambos son 5 x 5. `A` contiene números aleatorios. Devuelve los valores de `B` donde...\n",
    "\n",
    "- `A` es inferior a 0\n",
    "- `A` es superior a 0\n",
    "\n",
    "¿Cuál es el significado de la forma de los arreglos devueltos?"
   ]
  },
  {
   "cell_type": "code",
   "execution_count": 2,
   "metadata": {
    "vscode": {
     "languageId": "python"
    }
   },
   "outputs": [
    {
     "data": {
      "text/plain": [
       "(array([[ 1.62434536, -0.61175641, -0.52817175, -1.07296862,  0.86540763],\n",
       "        [-2.3015387 ,  1.74481176, -0.7612069 ,  0.3190391 , -0.24937038],\n",
       "        [ 1.46210794, -2.06014071, -0.3224172 , -0.38405435,  1.13376944],\n",
       "        [-1.09989127, -0.17242821, -0.87785842,  0.04221375,  0.58281521],\n",
       "        [-1.10061918,  1.14472371,  0.90159072,  0.50249434,  0.90085595]]),\n",
       " array([[ 0,  1,  2,  3,  4],\n",
       "        [ 5,  6,  7,  8,  9],\n",
       "        [10, 11, 12, 13, 14],\n",
       "        [15, 16, 17, 18, 19],\n",
       "        [20, 21, 22, 23, 24]]))"
      ]
     },
     "execution_count": 2,
     "metadata": {},
     "output_type": "execute_result"
    }
   ],
   "source": [
    "import numpy as np\n",
    "# numpy tiene un generador de números aleatorios incorporado. Aquí lo usamos para crear una matriz 5x5 donde los elementos son aleatorios\n",
    "# tomado de la distribución normal estándar (media=0, stdev=1)\n",
    "# primero arreglamos la semilla de números aleatorios para que obtengamos los mismos resultados cada vez!\n",
    "np.random.seed(1)\n",
    "A = np.random.randn(5,5)\n",
    "B = np.arange(25)\n",
    "# we can reshape numpy arrays using np.reshape\n",
    "B = np.reshape(B, (5,5))\n",
    "A, B\n"
   ]
  },
  {
   "cell_type": "markdown",
   "metadata": {},
   "source": [
    "# Ejercicio 5 - Arreglos booleanos: `y` y `o`\n",
    "\n",
    "1. Intente crear una matriz booleana a partir de los datos de luminancia en la simulación 1 donde `y==0.25 o y=-0.25`\n",
    "\n",
    "¡No funciona! Esto es porque `y` y `o` no operan elementwise como otros operadores que hemos visto hasta ahora. Hay una ambigüedad. ¿Estamos preguntando si los arreglos en sí son Truthy/Falsy o si sus elementos son individualmente Truthy/Falsy? Esto se refleja en el error que se obtiene. \n",
    "\n",
    "```\n",
    "ValueError: El valor de verdad de una matriz con más de un elemento es ambiguo. Use a.any() o a.all()\n",
    "```\n",
    "\n",
    "> Nota: Este error sugiere que reduzca las matrices booleanas a valores únicos (p. ej., si tiene una matriz con una mezcla de Verdadero y Falso, entonces `(y==0.25). any() => True` o si el array es True en todos los elementos entonces `(y==0.25). all() => True`. Vea [all](https://docs.python.org/3/library/functions.html#all) y [any](https://docs.python.org/3/library/functions.html#any) para más información sobre la materia. Aunque, en este ejercicio tenemos que hacer cosas elementwise.\n",
    "\n",
    "Sin embargo, hay funciones elementwise que podemos usar con matrices booleanas numpy. Estas son \n",
    "\n",
    "- `np.logical_and(array1, array2); para `y`\n",
    "- `np.logical_or(array1, array2)` para `o`\n",
    "\n",
    "2. Volver a crear la matriz de la primera parte de esta pregunta utilizando `np.logical_or`. "
   ]
  },
  {
   "cell_type": "code",
   "execution_count": 2,
   "metadata": {
    "vscode": {
     "languageId": "python"
    }
   },
   "outputs": [
    {
     "data": {
      "text/plain": [
       "True"
      ]
     },
     "execution_count": 2,
     "metadata": {},
     "output_type": "execute_result"
    }
   ],
   "source": [
    "import numpy as np\n",
    "\n",
    "# load in the data as we did previously\n",
    "sim = np.loadtxt(fname='simulation01.txt', skiprows=52)\n",
    "x = sim[:, 0]\n",
    "y = sim[:, 1]\n",
    "rad = sim[:, 2]\n",
    "\n",
    "(y== 0.25).any() or (y == -0.25).all()\n",
    "# Enter your solution here\n"
   ]
  },
  {
   "cell_type": "markdown",
   "metadata": {},
   "source": [
    "# Ejercicio 6* - Operadores in situ\n",
    "\n",
    "Python proporciona operadores in-place que funcionan así:"
   ]
  },
  {
   "cell_type": "code",
   "execution_count": 24,
   "metadata": {
    "vscode": {
     "languageId": "python"
    }
   },
   "outputs": [
    {
     "name": "stdout",
     "output_type": "stream",
     "text": [
      "6\n"
     ]
    }
   ],
   "source": [
    "x = 1  # original value\n",
    "x += 1 # add one to x, assigning result back to x\n",
    "x *= 3 # multiply x by 3\n",
    "print(x)"
   ]
  },
  {
   "cell_type": "markdown",
   "metadata": {},
   "source": [
    "Escribe un código que sume los números positivos y negativos en una lista por separado, usando operadores en el lugar. Es posible que necesite usar la declaración `pass`  (ver más abajo). ¿Crees que el resultado es más o menos legible que escribir lo mismo sin operadores en el lugar? "
   ]
  },
  {
   "cell_type": "markdown",
   "metadata": {},
   "source": [
    "> ## La sentencia `pass` pass \n",
    "> Es posible que desee utilizar la *declaración* incorporada. Esto le dice a Python que no haga nada y es especialmente útil cuando no quieres que pase nada, pero dejar el código en blanco es un error de sintaxis.\n",
    "> \n",
    "> Por ejemplo:\n",
    "> \n",
    "> ```Python\n",
    "> for i in range(10):\n",
    ">     \n",
    "> ```\n",
    "> \n",
    "> es un error de sintaxis. PERO, \n",
    "> \n",
    "> ```Python\n",
    "> for i in range(10):\n",
    ">     pass\n",
    "> ```\n",
    "> \n",
    "> es perfectamente válido. Sin embargo, rara vez pasará todas las iteraciones en un bucle. Suponga que desea comprobar la veracidad de cada número y devolverlo si se trata de `True`. Podría utilizar la `pass` declaración de este modo.\n",
    "> \n",
    "> ```Python\n",
    "> for i in range(10):\n",
    ">     if bool(i):\n",
    ">         print(i)\n",
    ">     else:\n",
    ">         pass\n",
    "> ```"
   ]
  },
  {
   "cell_type": "code",
   "execution_count": 25,
   "metadata": {
    "vscode": {
     "languageId": "python"
    }
   },
   "outputs": [],
   "source": [
    "positive_sum = 0\n",
    "negative_sum = 0\n",
    "test_list = [3, 4, 6, 1, -1, -5, 0, 7, -8]\n",
    "# Enter your solution here"
   ]
  },
  {
   "cell_type": "markdown",
   "metadata": {},
   "source": [
    "# Puntos clave\n",
    "\n",
    "- Usar `si` condición para iniciar una sentencia condicional, `elif` condición para proporcionar pruebas adicionales, y `si no` para proporcionar un valor predeterminado.\n",
    "\n",
    "- Los cuerpos de las ramas de las declaraciones condicionales deben ser sangría.\n",
    "\n",
    "- Utilizar `==` para comprobar la igualdad.\n",
    "\n",
    "- `X e Y` sólo es cierto si ambos `X` y `Y` son `True`.\n",
    "\n",
    "- `X o Y` es cierto si `X` o `Y`, o ambos son `True`.\n",
    "\n",
    "- Zero, la cadena vacía y la lista vacía se consideran falsas; todos los demás números, cadenas y listas se consideran verdaderas.\n",
    "\n",
    "- `Verdadero` y `Falso` representan valores de verdad."
   ]
  }
 ],
 "metadata": {
  "kernelspec": {
   "display_name": "Wolfram Language 12.2",
   "language": "Wolfram Language",
   "name": "wolframlanguage12.2"
  },
  "language_info": {
   "codemirror_mode": {
    "name": "ipython",
    "version": 3
   },
   "file_extension": ".py",
   "mimetype": "text/x-python",
   "name": "Wolfram Language",
   "nbconvert_exporter": "python",
   "pygments_lexer": "ipython3",
   "version": "3.9.6"
  }
 },
 "nbformat": 4,
 "nbformat_minor": 4
}
