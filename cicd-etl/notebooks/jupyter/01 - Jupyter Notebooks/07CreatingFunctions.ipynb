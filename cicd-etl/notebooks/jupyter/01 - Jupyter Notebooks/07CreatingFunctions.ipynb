{
 "cells": [
  {
   "cell_type": "markdown",
   "metadata": {},
   "source": [
    "# Creación de funciones\n",
    "\n",
    "## Questions\n",
    "\n",
    "- ¿Cómo puedo definir nuevas funciones?\n",
    "\n",
    "- ¿Cuál es la diferencia entre definir y llamar a una función?\n",
    "\n",
    "- ¿Qué sucede cuando llamo a una función?\n",
    "\n",
    "## Objetivos\n",
    "\n",
    "- Definir una función que toma parámetros.\n",
    "\n",
    "- Devuelve un valor de una función.\n",
    "\n",
    "- Establecer valores por defecto para los parámetros de la función.\n",
    "\n",
    "- Documentar nuestras funciones.\n",
    "\n",
    "- Explicar por qué debemos dividir los programas en funciones pequeñas de un solo propósito.\n",
    "\n",
    "En este punto, hemos escrito código para dibujar algunas características interesantes en nuestros datos, bucle sobre todos nuestros archivos de datos para dibujar rápidamente estas gráficas para cada uno de ellos, y tener Python tomar decisiones basadas en lo que ve en nuestros datos. Pero, nuestro código se está volviendo bastante largo y complicado; ¿y si tuviéramos miles de conjuntos de datos y no quisiéramos generar una cifra para cada uno? Comentar el código de dibujo es una molestia. Además, ¿qué pasa si queremos usar ese código de nuevo, en un conjunto de datos diferente o en un punto diferente de nuestro programa? Cortarlo y pegarlo hará que nuestro código sea muy largo y muy repetitivo, muy rápido. Nos gustaría una forma de empaquetar nuestro código para que sea más fácil de reutilizar, y Python proporciona esto al permitirnos definir cosas llamadas 'funciones' - una forma abreviada de volver a ejecutar piezas de código más largas. Comencemos definiendo una función `fahr_to_celsius` que convierte las temperaturas de Fahrenheit a Celsius:"
   ]
  },
  {
   "cell_type": "code",
   "execution_count": 5,
   "metadata": {
    "vscode": {
     "languageId": "python"
    }
   },
   "outputs": [
    {
     "data": {
      "text/plain": [
       "0.0"
      ]
     },
     "execution_count": 5,
     "metadata": {},
     "output_type": "execute_result"
    }
   ],
   "source": [
    "def fahr_to_celsius(temp):\n",
    "    return ((temp - 32) * (5/9))\n"
   ]
  },
  {
   "cell_type": "markdown",
   "metadata": {},
   "source": [
    "![python function](media/python-function.svg)"
   ]
  },
  {
   "cell_type": "markdown",
   "metadata": {},
   "source": [
    "La definición de la función se abre con la palabra clave `def` seguida del nombre de la función (`fahr_to_celsius`) y una lista entre paréntesis de los nombres de los parámetros (`temp`). El cuerpo de la función - las instrucciones que se ejecutan cuando se ejecuta - tiene sangría debajo de la línea de definición. El cuerpo concluye con una palabra clave `return` seguida del valor devuelto.\n",
    "\n",
    "Cuando llamamos a la función, los valores que le pasamos se asignan a esas variables para que podamos usarlas dentro de la función. Dentro de la función, usamos una declaración de retorno para enviar un resultado a quien lo haya pedido.\n",
    "\n",
    "Probemos con nuestra función.\n"
   ]
  },
  {
   "cell_type": "code",
   "execution_count": 7,
   "metadata": {
    "vscode": {
     "languageId": "python"
    }
   },
   "outputs": [
    {
     "data": {
      "text/plain": [
       "0.0"
      ]
     },
     "execution_count": 7,
     "metadata": {},
     "output_type": "execute_result"
    }
   ],
   "source": [
    "# This command should call our function, using “32” as the input and return the function value.\n",
    "fahr_to_celsius(32)"
   ]
  },
  {
   "cell_type": "markdown",
   "metadata": {},
   "source": [
    "De hecho, llamar a nuestra propia función no es diferente de llamar a cualquier otra función:"
   ]
  },
  {
   "cell_type": "code",
   "execution_count": 8,
   "metadata": {
    "vscode": {
     "languageId": "python"
    }
   },
   "outputs": [
    {
     "name": "stdout",
     "output_type": "stream",
     "text": [
      "freezing point of water: 0.0 °C\n",
      "boiling point of water: 100.0 °C\n"
     ]
    }
   ],
   "source": [
    "print('freezing point of water:', fahr_to_celsius(32), '°C')\n",
    "print('boiling point of water:', fahr_to_celsius(212), '°C')"
   ]
  },
  {
   "cell_type": "markdown",
   "metadata": {},
   "source": [
    "Hemos llamado con éxito a la función que definimos, y tenemos acceso al valor que devolvimos.\n",
    "\n",
    "Funciones de composición\n",
    "\n",
    "Ahora que hemos visto cómo convertir Fahrenheit en Celsius, también podemos escribir la función para convertir Celsius en Kelvin:"
   ]
  },
  {
   "cell_type": "code",
   "execution_count": 9,
   "metadata": {
    "vscode": {
     "languageId": "python"
    }
   },
   "outputs": [
    {
     "name": "stdout",
     "output_type": "stream",
     "text": [
      "freezing point of water in Kelvin: 273.15\n"
     ]
    }
   ],
   "source": [
    "def celsius_to_kelvin(temp_c):\n",
    "    return temp_c + 273.15\n",
    "\n",
    "print('freezing point of water in Kelvin:', celsius_to_kelvin(0.))"
   ]
  },
  {
   "cell_type": "markdown",
   "metadata": {},
   "source": [
    "¿Qué hay de convertir Fahrenheit a Kelvin? Podríamos escribir la fórmula, pero no es necesario. En su lugar, podemos componer las dos funciones que ya hemos creado:"
   ]
  },
  {
   "cell_type": "code",
   "execution_count": 10,
   "metadata": {
    "vscode": {
     "languageId": "python"
    }
   },
   "outputs": [
    {
     "name": "stdout",
     "output_type": "stream",
     "text": [
      "boiling point of water in Kelvin: 373.15\n"
     ]
    }
   ],
   "source": [
    "def fahr_to_kelvin(temp_f):\n",
    "    temp_c = fahr_to_celsius(temp_f)\n",
    "    temp_k = celsius_to_kelvin(temp_c)\n",
    "    return temp_k\n",
    "\n",
    "print('boiling point of water in Kelvin:', fahr_to_kelvin(212.0))"
   ]
  },
  {
   "cell_type": "markdown",
   "metadata": {},
   "source": [
    "Esta es nuestra primera muestra de cómo se construyen los programas más grandes: definimos las operaciones básicas, luego las combinamos en trozos cada vez más grandes para obtener el efecto que queremos. Las funciones de la vida real generalmente serán más grandes que las que se muestran aquí - típicamente de media docena a unas pocas docenas de líneas - pero nunca deberían ser mucho más largas que eso, o la siguiente persona que lo lea no podrá entender lo que está pasando.\n",
    "\n",
    "# Puesta en orden\n",
    "\n",
    "Ahora que sabemos cómo envolver bits de código en funciones, podemos hacer que nuestro análisis de luminancia sea más fácil de leer y más fácil de reutilizar. Primero, hagamos una función de visualización que genere nuestras gráficas y una función de búsqueda de secciones.\n"
   ]
  },
  {
   "cell_type": "code",
   "execution_count": 12,
   "metadata": {
    "vscode": {
     "languageId": "python"
    }
   },
   "outputs": [],
   "source": [
    "import numpy as np\n",
    "import matplotlib.pyplot as plt\n",
    "\n",
    "\n",
    "def find_data_cross_section(simulation_filename):\n",
    "    simulation = np.loadtxt(fname=simulation_filename, skiprows=52)\n",
    "    assert len(simulation) > 0\n",
    "\n",
    "    x_simulation = simulation[:, 0]\n",
    "    y_simulation = simulation[:, 1]\n",
    "    L_simulation = simulation[:, 2]\n",
    "    smallest_y = np.amin(abs(y_simulation))\n",
    "    x_cross_section = x_simulation[y_simulation==smallest_y]\n",
    "    luminance_cross_section = L_simulation[y_simulation==smallest_y]\n",
    "\n",
    "    return x_cross_section, luminance_cross_section\n",
    "\n",
    "\n",
    "def visualize(experiment_filename, simulation_filename):\n",
    "\n",
    "    experiment = np.loadtxt(fname=experiment_filename, delimiter=',')\n",
    "    x, luminance = find_data_cross_section(simulation_filename)\n",
    "\n",
    "\n",
    "    fig = plt.figure()\n",
    "    # just a single plot needed here\n",
    "    ax = fig.add_subplot(111)\n",
    "    ax.plot(x, luminance, label='data/simulation')\n",
    "    ax.plot(experiment[:,0], experiment[:, 1], marker='+', linestyle=' ', label='experiment')\n",
    "    \n",
    "    # set the labels\n",
    "    ax.set_xlabel('x position [mm]')\n",
    "    ax.set_ylabel('Luminance [Cd/m^2]')\n",
    "    ax.set_title(filename)\n",
    "    ax.legend()\n",
    "    \n",
    "    # plt.show() always makes the plot appear that has been drawn. \n",
    "    # It is redundant in jupyter notebooks but necessary in scripts!\n",
    "    plt.show()"
   ]
  },
  {
   "cell_type": "markdown",
   "metadata": {},
   "source": [
    "y otra función llamada `calculate_average_luminance` que encuentra la luminancia media sobre los led:"
   ]
  },
  {
   "cell_type": "code",
   "execution_count": 13,
   "metadata": {
    "vscode": {
     "languageId": "python"
    }
   },
   "outputs": [],
   "source": [
    "def calculate_average_luminance(x, luminance):\n",
    "    boolean_array = np.logical_and(x<=10., x>= -10.)\n",
    "    average_luminance = np.mean(luminance[boolean_array])\n",
    "    return average_luminance"
   ]
  },
  {
   "cell_type": "markdown",
   "metadata": {},
   "source": [
    "¡Espera! ¿No nos olvidamos de especificar qué función de visualización debería devolver? Bueno, no lo hicimos. En Python, las funciones no son necesarias para incluir una sentencia `return` y pueden usarse con el único propósito de agrupar piezas de código que conceptualmente hacen una cosa. En tales casos, los nombres de función generalmente describen lo que hacen, p. ej.\n",
    "\n",
    "Observe que en lugar de mezclar este código en un bucle gigante `para` , ahora podemos leer y reutilizar ambas ideas por separado. Podemos reproducir el análisis anterior con un bucle `para` mucho más simple:"
   ]
  },
  {
   "cell_type": "code",
   "execution_count": 3,
   "metadata": {
    "vscode": {
     "languageId": "python"
    }
   },
   "outputs": [
    {
     "data": {
      "image/png": "[encoded data removed]",
      "text/plain": [
       "<Figure size 432x288 with 1 Axes>"
      ]
     },
     "metadata": {
      "needs_background": "light"
     },
     "output_type": "display_data"
    },
    {
     "name": "stdout",
     "output_type": "stream",
     "text": [
      "Experiment & Simulation difference = 3.319310065215488 %\n"
     ]
    },
    {
     "data": {
      "image/png": "[encoded data removed]",
      "text/plain": [
       "<Figure size 432x288 with 1 Axes>"
      ]
     },
     "metadata": {
      "needs_background": "light"
     },
     "output_type": "display_data"
    },
    {
     "name": "stdout",
     "output_type": "stream",
     "text": [
      "Experiment & Simulation difference = 77.88975272561785 %\n"
     ]
    },
    {
     "data": {
      "image/png": "[encoded data removed]",
      "text/plain": [
       "<Figure size 432x288 with 1 Axes>"
      ]
     },
     "metadata": {
      "needs_background": "light"
     },
     "output_type": "display_data"
    },
    {
     "name": "stdout",
     "output_type": "stream",
     "text": [
      "Experiment & Simulation difference = 42.73462211252939 %\n"
     ]
    },
    {
     "data": {
      "image/png": "[encoded data removed]",
      "text/plain": [
       "<Figure size 432x288 with 1 Axes>"
      ]
     },
     "metadata": {
      "needs_background": "light"
     },
     "output_type": "display_data"
    },
    {
     "name": "stdout",
     "output_type": "stream",
     "text": [
      "Experiment & Simulation difference = 82.72425871918331 %\n"
     ]
    },
    {
     "data": {
      "image/png": "[encoded data removed]",
      "text/plain": [
       "<Figure size 432x288 with 1 Axes>"
      ]
     },
     "metadata": {
      "needs_background": "light"
     },
     "output_type": "display_data"
    },
    {
     "name": "stdout",
     "output_type": "stream",
     "text": [
      "Experiment & Simulation difference = 81.94342576807645 %\n"
     ]
    }
   ],
   "source": [
    "import glob \n",
    "\n",
    "\n",
    "filenames = sorted(glob.glob('simulation*.txt'))  # sorted is another built-in function that sorts our list of files\n",
    "\n",
    "for filename in filenames:\n",
    "    visualize('experiment01.csv', filename)\n",
    "    \n",
    "    x, luminance = find_data_cross_section(filename)\n",
    "    simulation_average = calculate_average_luminance(x, luminance)\n",
    "    \n",
    "    experiment = np.loadtxt(fname='experiment01.csv', delimiter=',')\n",
    "    experiment_average = calculate_average_luminance(experiment[:,0], experiment[:,1])\n",
    "    \n",
    "    percentage_difference = abs(simulation_average - experiment_average)*100./experiment_average\n",
    "    \n",
    "    # str() can be used as a function to convert python objects into strings\n",
    "    print('Experiment & Simulation difference = ' + str(percentage_difference) + ' %')"
   ]
  },
  {
   "cell_type": "markdown",
   "metadata": {},
   "source": [
    "Al dar a nuestras funciones nombres legibles por humanos, podemos leer y entender más fácilmente lo que está sucediendo en el bucle for. Aún mejor, si en una fecha posterior queremos volver a usar cualquiera de esas piezas de código, podemos hacerlo en una sola línea."
   ]
  },
  {
   "cell_type": "markdown",
   "metadata": {},
   "source": [
    "> # Aparte: Pruebas \n",
    ">\n",
    "> Una vez que empezamos a poner las cosas en funciones para que podamos reutilizarlas, tenemos que empezar a probar que esas funciones funcionan correctamente. Para ver cómo hacer esto, vamos a probar nuestra función de cálculo promedio, reproducida a continuación para mayor facilidad. Cubrimos las pruebas con más detalle en la próxima lección, pero aquí incluimos esto aparte sobre cómo probar de manera efectiva."
   ]
  },
  {
   "cell_type": "code",
   "execution_count": 14,
   "metadata": {
    "vscode": {
     "languageId": "python"
    }
   },
   "outputs": [],
   "source": [
    "def calculate_average_luminance(x, luminance):\n",
    "    boolean_array = np.logical_and(x<=10., x>= -10.)\n",
    "    average_luminance = np.mean(luminance[boolean_array])\n",
    "    return average_luminance"
   ]
  },
  {
   "cell_type": "markdown",
   "metadata": {},
   "source": [
    "> Podríamos probar esto en nuestros datos reales, pero como no sabemos cuáles deben ser los valores, será difícil saber si el resultado fue correcto. En su lugar, vamos a usar NumPy para crear algunos casos que *conocemos* para ser correctos y asegurarnos de que devuelve la respuesta correcta!\n",
    "> \n",
    "> ## Primera Prueba\n",
    "> \n",
    "> Al probar es importante desafiar constantemente cualquier suposición que pueda tener. Descubre errores porque *pensamos* que el sistema *obviamente* se comportaría de cierta manera, y luego encontramos que en realidad no lo hace.\n",
    ">\n",
    "> Así que aquí debemos probar algo obvio. Si proporcionamos luminancia de solo ceros, entonces nuestro promedio debe ser cero. Vamos a comprobar!"
   ]
  },
  {
   "cell_type": "code",
   "execution_count": 15,
   "metadata": {
    "vscode": {
     "languageId": "python"
    }
   },
   "outputs": [],
   "source": [
    "x = np.arange(-20, 20, 1)\n",
    "luminance = np.zeros((40))\n",
    "\n",
    "result = calculate_average_luminance(x, luminance)\n",
    "assert result == 0., \"this is the error\""
   ]
  },
  {
   "cell_type": "markdown",
   "metadata": {},
   "source": [
    "> Eso parece correcto! Ahora vamos a probar algo un poco más complejo.\n",
    ">\n",
    "> ## Segunda prueba\n",
    ">\n",
    "> Debemos probar que si proporcionamos valores distintos de cero para la luminancia en la región, ¡estamos comprobando que recuperamos ese valor distinto de cero!"
   ]
  },
  {
   "cell_type": "code",
   "execution_count": 16,
   "metadata": {
    "vscode": {
     "languageId": "python"
    }
   },
   "outputs": [],
   "source": [
    "x = np.arange(-20, 20, 1)\n",
    "luminance = np.zeros((40))\n",
    "luminance[np.logical_and(x<=10., x>=-10.)] += 1.\n",
    "\n",
    "result = calculate_average_luminance(x, luminance)\n",
    "assert result == 1."
   ]
  },
  {
   "cell_type": "markdown",
   "metadata": {},
   "source": [
    "> Hasta ahora todo bien. Pero hasta ahora, hemos estado comprobando lo que se conoce comúnmente como casos \"felices\". Hemos estado probando cómo se comporta la función cuando recibe lo que se supone que debe y que se comporta correctamente. Pero hay otro tipo de caso que es igual de importante (si no más) el caso \"Infeliz\". En el caso infeliz alimentamos la función deliberadamente entradas incorrectas para comprobar que las maneja como esperamos.\n",
    ">\n",
    "> ## Tercera prueba - Caso infeliz\n",
    ">\n",
    "> Es difícil probar casos infelices sin usar una biblioteca de pruebas especializada porque arroja tantos errores. Pero, aquí vamos a escribir algún código erróneo y comprobar que el error que obtenemos es lo que esperábamos ver.\n",
    ">\n",
    "> Ej. vamos a alimentar en dos listas, en lugar de matrices numpy. Esperaríamos obtener un `TypeError` ya que el tipo del objeto que hemos suministrado es incorrecto. "
   ]
  },
  {
   "cell_type": "code",
   "execution_count": 17,
   "metadata": {
    "vscode": {
     "languageId": "python"
    }
   },
   "outputs": [
    {
     "name": "stdout",
     "output_type": "stream",
     "text": [
      "<class 'list'> <class 'list'>\n"
     ]
    },
    {
     "ename": "TypeError",
     "evalue": "'<=' not supported between instances of 'list' and 'float'",
     "output_type": "error",
     "traceback": [
      "\u001b[0;31m---------------------------------------------------------------------------\u001b[0m",
      "\u001b[0;31mTypeError\u001b[0m                                 Traceback (most recent call last)",
      "\u001b[0;32m<ipython-input-17-87246b0e53df>\u001b[0m in \u001b[0;36m<module>\u001b[0;34m\u001b[0m\n\u001b[1;32m      3\u001b[0m \u001b[0mprint\u001b[0m\u001b[0;34m(\u001b[0m\u001b[0mtype\u001b[0m\u001b[0;34m(\u001b[0m\u001b[0mx\u001b[0m\u001b[0;34m)\u001b[0m\u001b[0;34m,\u001b[0m \u001b[0mtype\u001b[0m\u001b[0;34m(\u001b[0m\u001b[0mluminance\u001b[0m\u001b[0;34m)\u001b[0m\u001b[0;34m)\u001b[0m\u001b[0;34m\u001b[0m\u001b[0;34m\u001b[0m\u001b[0m\n\u001b[1;32m      4\u001b[0m \u001b[0;34m\u001b[0m\u001b[0m\n\u001b[0;32m----> 5\u001b[0;31m \u001b[0mresult\u001b[0m \u001b[0;34m=\u001b[0m \u001b[0mcalculate_average_luminance\u001b[0m\u001b[0;34m(\u001b[0m\u001b[0mx\u001b[0m\u001b[0;34m,\u001b[0m \u001b[0mluminance\u001b[0m\u001b[0;34m)\u001b[0m\u001b[0;34m\u001b[0m\u001b[0;34m\u001b[0m\u001b[0m\n\u001b[0m",
      "\u001b[0;32m<ipython-input-14-254ce54ed8cc>\u001b[0m in \u001b[0;36mcalculate_average_luminance\u001b[0;34m(x, luminance)\u001b[0m\n\u001b[1;32m      1\u001b[0m \u001b[0;32mdef\u001b[0m \u001b[0mcalculate_average_luminance\u001b[0m\u001b[0;34m(\u001b[0m\u001b[0mx\u001b[0m\u001b[0;34m,\u001b[0m \u001b[0mluminance\u001b[0m\u001b[0;34m)\u001b[0m\u001b[0;34m:\u001b[0m\u001b[0;34m\u001b[0m\u001b[0;34m\u001b[0m\u001b[0m\n\u001b[0;32m----> 2\u001b[0;31m     \u001b[0mboolean_array\u001b[0m \u001b[0;34m=\u001b[0m \u001b[0mnp\u001b[0m\u001b[0;34m.\u001b[0m\u001b[0mlogical_and\u001b[0m\u001b[0;34m(\u001b[0m\u001b[0mx\u001b[0m\u001b[0;34m<=\u001b[0m\u001b[0;36m10.\u001b[0m\u001b[0;34m,\u001b[0m \u001b[0mx\u001b[0m\u001b[0;34m>=\u001b[0m \u001b[0;34m-\u001b[0m\u001b[0;36m10.\u001b[0m\u001b[0;34m)\u001b[0m\u001b[0;34m\u001b[0m\u001b[0;34m\u001b[0m\u001b[0m\n\u001b[0m\u001b[1;32m      3\u001b[0m     \u001b[0maverage_luminance\u001b[0m \u001b[0;34m=\u001b[0m \u001b[0mnp\u001b[0m\u001b[0;34m.\u001b[0m\u001b[0mmean\u001b[0m\u001b[0;34m(\u001b[0m\u001b[0mluminance\u001b[0m\u001b[0;34m[\u001b[0m\u001b[0mboolean_array\u001b[0m\u001b[0;34m]\u001b[0m\u001b[0;34m)\u001b[0m\u001b[0;34m\u001b[0m\u001b[0;34m\u001b[0m\u001b[0m\n\u001b[1;32m      4\u001b[0m     \u001b[0;32mreturn\u001b[0m \u001b[0maverage_luminance\u001b[0m\u001b[0;34m\u001b[0m\u001b[0;34m\u001b[0m\u001b[0m\n",
      "\u001b[0;31mTypeError\u001b[0m: '<=' not supported between instances of 'list' and 'float'"
     ]
    }
   ],
   "source": [
    "x = list(np.arange(-20, 20, 1))\n",
    "luminance = list(np.zeros((40)))\n",
    "print(type(x), type(luminance))\n",
    "\n",
    "result = calculate_average_luminance(x, luminance)"
   ]
  },
  {
   "cell_type": "markdown",
   "metadata": {},
   "source": [
    "> ¡Eso es lo que encontramos! Volveremos a discutir las pruebas un poco más en una lección posterior.\n",
    ">\n",
    "> > **Nota:** Hay varias formas de formalizar las pruebas de código que ha escrito. La más fácil de aprender es la biblioteca de python *pytest*. Los entresijos de este paquete están cubiertos en el curso de prueba avanzada; por ahora, es suficiente saber que tales cosas existen y que probar tu código usando más código es una buena idea!\n",
    "\n",
    "# Documentación\n",
    "\n",
    "Pero primero tenemos una tarea más. Deberíamos escribir algo de documentación para nuestra función para recordarnos más tarde para qué sirve y cómo usarla. Hay dos formas comunes de poner documentación en el software. La primera es agregar comentarios como este:"
   ]
  },
  {
   "cell_type": "code",
   "execution_count": 18,
   "metadata": {
    "vscode": {
     "languageId": "python"
    }
   },
   "outputs": [],
   "source": [
    "# This function takes two numpy arrays and calculates the average value of the second over the region -10 to 10, \n",
    "# which is defined in the first array.\n",
    "def calculate_average_luminance(x, luminance):\n",
    "    boolean_array = np.logical_and(x<=10., x>= -10.)\n",
    "    average_luminance = np.mean(luminance[boolean_array])\n",
    "    return average_luminance"
   ]
  },
  {
   "cell_type": "markdown",
   "metadata": {},
   "source": [
    "There’s a better way, though. If the first thing in a function is a string that is not assigned to a variable, that string is attached to the function as its documentation:"
   ]
  },
  {
   "cell_type": "code",
   "execution_count": 19,
   "metadata": {
    "vscode": {
     "languageId": "python"
    }
   },
   "outputs": [],
   "source": [
    "def calculate_average_luminance(x, luminance):\n",
    "    \"\"\"This function takes two numpy arrays and calculates the average value of the second over the region -10 to 10, \n",
    "    which is defined in the first array.\"\"\"\n",
    "    boolean_array = np.logical_and(x<=10., x>= -10.)\n",
    "    average_luminance = np.mean(luminance[boolean_array])\n",
    "    return average_luminance"
   ]
  },
  {
   "cell_type": "markdown",
   "metadata": {},
   "source": [
    "Esto es mejor porque ahora podemos pedir al sistema de ayuda incorporado de Python que nos muestre la documentación para la función:"
   ]
  },
  {
   "cell_type": "code",
   "execution_count": 20,
   "metadata": {
    "vscode": {
     "languageId": "python"
    }
   },
   "outputs": [
    {
     "name": "stdout",
     "output_type": "stream",
     "text": [
      "Help on function calculate_average_luminance in module __main__:\n",
      "\n",
      "calculate_average_luminance(x, luminance)\n",
      "    This function takes two numpy arrays and calculates the average value of the second over the region -10 to 10, \n",
      "    which is defined in the first array.\n",
      "\n"
     ]
    }
   ],
   "source": [
    "help(calculate_average_luminance)"
   ]
  },
  {
   "cell_type": "markdown",
   "metadata": {},
   "source": [
    "Una cadena como esta se llama docstring. No necesitamos usar comillas triples cuando escribimos una, pero si lo hacemos, podemos romper la cadena a través de varias líneas:"
   ]
  },
  {
   "cell_type": "code",
   "execution_count": 21,
   "metadata": {
    "vscode": {
     "languageId": "python"
    }
   },
   "outputs": [
    {
     "name": "stdout",
     "output_type": "stream",
     "text": [
      "Help on function calculate_average_luminance in module __main__:\n",
      "\n",
      "calculate_average_luminance(x, luminance)\n",
      "    This function takes two numpy arrays and calculates the average value of the second over the region -10 to 10, \n",
      "    which is defined in the first array.\n",
      "    \n",
      "    Examples\n",
      "    --------\n",
      "    >>> x = np.array([-20, -10, 0, 10, 20])\n",
      "    >>> L = np.array([0, 2, 5, 2, 0])\n",
      "    >>> calculate_average_luminance(x, L)\n",
      "    3.0\n",
      "\n"
     ]
    }
   ],
   "source": [
    "def calculate_average_luminance(x, luminance):\n",
    "    \"\"\"This function takes two numpy arrays and calculates the average value of the second over the region -10 to 10, \n",
    "    which is defined in the first array.\n",
    "\n",
    "    Examples\n",
    "    --------\n",
    "    >>> x = np.array([-20, -10, 0, 10, 20])\n",
    "    >>> L = np.array([0, 2, 5, 2, 0])\n",
    "    >>> calculate_average_luminance(x, L)\n",
    "    3.0\n",
    "    \"\"\"\n",
    "    boolean_array = np.logical_and(x<=10., x>= -10.)\n",
    "    average_luminance = np.mean(luminance[boolean_array])\n",
    "    return average_luminance\n",
    "\n",
    "help(calculate_average_luminance)"
   ]
  },
  {
   "cell_type": "markdown",
   "metadata": {},
   "source": [
    "> **Nota:** Las cadenas de texto de comillas triples son cadenas *en realidad* y pueden usarse como tales. No es común verlos en programas python, pero si tiene una cadena larga, multi-línea, hardcoded, es común ponerla entre comillas triples. Por ejemplo:\n",
    "> Python\n",
    "> my_long_string = \"\"\"Todo está mal\n",
    "> Por derecho ni siquiera deberíamos estar aquí.\n",
    "> Pero nosotros sí.\n",
    "> Es como en las grandes historias Sr. Frodo.\n",
    "> Los que realmente importaban.\n",
    "> Llenos de oscuridad y peligro,\n",
    "> y a veces no querías saber el final.\n",
    "> Porque ¿cómo podría el final ser feliz.\n",
    "> ¿Cómo podría el mundo volver a la forma en que era cuando tanto mal sucedió.\n",
    "> Pero al final, es solo una cosa pasajera, esta sombra.\n",
    "> Incluso la oscuridad debe pasar.\n",
    "> Llegará un nuevo día.\n",
    "> Y cuando el sol brille brillará más claro.\n",
    "> Esas fueron las historias que se quedaron contigo.\n",
    "> Eso significaba algo.\n",
    "> Incluso si fueras demasiado pequeño para entender por qué.\n",
    "> Pero creo, Sr. Frodo, que lo entiendo.\n",
    "> Ahora lo sé.\n",
    "> La gente en esas historias tenía muchas posibilidades de regresar solo que no lo hicieron.\n",
    "> Porque se aferraban a algo.\"\"\n",
    "> El tiempo de trabajo\n",
    ">\n",
    "> Además, se pueden usar comillas triples con el carácter de comillas simples `'` pero son muy inusuales y no se recomiendan.\n",
    "\n",
    "# Definición de valores predeterminados\n",
    "\n",
    "Mencionamos esto en una lección anterior, pero aquí lo analizaremos con más detalle. Hemos pasado argumentos a funciones de dos maneras: directamente, como en `type(data)`, y por nombre, como en `np.loadtxt(fname='something.csv', delimiter=',')`. De hecho, podemos pasar el nombre del archivo a `loadtxt` sin el `fname=`:"
   ]
  },
  {
   "cell_type": "code",
   "execution_count": 22,
   "metadata": {
    "vscode": {
     "languageId": "python"
    }
   },
   "outputs": [
    {
     "data": {
      "text/plain": [
       "array([[-2.47500000e+01,  1.12887334e+04],\n",
       "       [-2.42545045e+01,  1.28439692e+04],\n",
       "       [-2.37590090e+01,  8.73308216e+03],\n",
       "       [-2.32635135e+01,  9.28428213e+03],\n",
       "       [-2.27680180e+01,  9.71998320e+03],\n",
       "       [-2.22725225e+01,  1.26691621e+04],\n",
       "       [-2.17770270e+01,  1.25625658e+04],\n",
       "       [-2.12815315e+01,  1.09744085e+04],\n",
       "       [-2.07860360e+01,  1.19814618e+04],\n",
       "       [-2.02905405e+01,  1.80491245e+04],\n",
       "       [-1.97950450e+01,  1.44574182e+04],\n",
       "       [-1.92995495e+01,  1.89761845e+04],\n",
       "       [-1.88040541e+01,  2.08202613e+04],\n",
       "       [-1.83085586e+01,  2.33232490e+04],\n",
       "       [-1.78130631e+01,  2.31820626e+04],\n",
       "       [-1.73175676e+01,  3.19741050e+04],\n",
       "       [-1.68220721e+01,  2.64591704e+04],\n",
       "       [-1.63265766e+01,  3.60125238e+04],\n",
       "       [-1.58310811e+01,  3.65891726e+04],\n",
       "       [-1.53355856e+01,  3.50759625e+04],\n",
       "       [-1.48400901e+01,  4.77579559e+04],\n",
       "       [-1.43445946e+01,  5.04921924e+04],\n",
       "       [-1.38490991e+01,  6.99626661e+04],\n",
       "       [-1.33536036e+01,  7.84657461e+04],\n",
       "       [-1.28581081e+01,  1.14346899e+05],\n",
       "       [-1.23626126e+01,  1.33290214e+05],\n",
       "       [-1.18671171e+01,  1.86454163e+05],\n",
       "       [-1.13716216e+01,  2.07774854e+05],\n",
       "       [-1.08761261e+01,  2.68857334e+05],\n",
       "       [-1.03806306e+01,  2.77639142e+05],\n",
       "       [-9.88513514e+00,  2.60127040e+05],\n",
       "       [-9.38963964e+00,  2.84055441e+05],\n",
       "       [-8.89414414e+00,  2.50163110e+05],\n",
       "       [-8.39864865e+00,  2.74217637e+05],\n",
       "       [-7.90315315e+00,  2.86083097e+05],\n",
       "       [-7.40765766e+00,  3.74641296e+05],\n",
       "       [-6.91216216e+00,  2.87771108e+05],\n",
       "       [-6.41666667e+00,  2.89226226e+05],\n",
       "       [-5.92117117e+00,  2.66525314e+05],\n",
       "       [-5.42567568e+00,  2.53198649e+05],\n",
       "       [-4.93018018e+00,  2.58150409e+05],\n",
       "       [-4.43468468e+00,  3.53644541e+05],\n",
       "       [-3.93918919e+00,  2.54766610e+05],\n",
       "       [-3.44369369e+00,  3.35980288e+05],\n",
       "       [-2.94819820e+00,  3.88316110e+05],\n",
       "       [-2.45270270e+00,  4.01626456e+05],\n",
       "       [-1.95720721e+00,  3.42046620e+05],\n",
       "       [-1.46171171e+00,  3.47944683e+05],\n",
       "       [-9.66216216e-01,  3.32894356e+05],\n",
       "       [-4.70720721e-01,  3.15055041e+05],\n",
       "       [ 2.47747748e-02,  3.18085276e+05],\n",
       "       [ 5.20270270e-01,  2.59227956e+05],\n",
       "       [ 1.01576577e+00,  2.90055170e+05],\n",
       "       [ 1.51126126e+00,  2.88688429e+05],\n",
       "       [ 2.00675676e+00,  3.70964910e+05],\n",
       "       [ 2.50225225e+00,  3.17766927e+05],\n",
       "       [ 2.99774775e+00,  2.95199355e+05],\n",
       "       [ 3.49324324e+00,  3.52707883e+05],\n",
       "       [ 3.98873874e+00,  2.75403007e+05],\n",
       "       [ 4.48423423e+00,  3.32965948e+05],\n",
       "       [ 4.97972973e+00,  2.68771498e+05],\n",
       "       [ 5.47522523e+00,  3.20423706e+05],\n",
       "       [ 5.97072072e+00,  2.71590924e+05],\n",
       "       [ 6.46621622e+00,  2.87527670e+05],\n",
       "       [ 6.96171171e+00,  3.95657835e+05],\n",
       "       [ 7.45720721e+00,  3.05931054e+05],\n",
       "       [ 7.95270270e+00,  2.99544392e+05],\n",
       "       [ 8.44819820e+00,  3.16895472e+05],\n",
       "       [ 8.94369369e+00,  2.81789765e+05],\n",
       "       [ 9.43918919e+00,  2.58565477e+05],\n",
       "       [ 9.93468468e+00,  2.58511069e+05],\n",
       "       [ 1.04301802e+01,  2.81076961e+05],\n",
       "       [ 1.09256757e+01,  2.07975278e+05],\n",
       "       [ 1.14211712e+01,  2.52554654e+05],\n",
       "       [ 1.19166667e+01,  1.90230750e+05],\n",
       "       [ 1.24121622e+01,  1.19969995e+05],\n",
       "       [ 1.29076577e+01,  8.52811434e+04],\n",
       "       [ 1.34031532e+01,  6.71096636e+04],\n",
       "       [ 1.38986486e+01,  6.95460826e+04],\n",
       "       [ 1.43941441e+01,  4.91782861e+04],\n",
       "       [ 1.48896396e+01,  4.68804856e+04],\n",
       "       [ 1.53851351e+01,  4.82593912e+04],\n",
       "       [ 1.58806306e+01,  3.59170494e+04],\n",
       "       [ 1.63761261e+01,  3.60112264e+04],\n",
       "       [ 1.68716216e+01,  3.18665242e+04],\n",
       "       [ 1.73671171e+01,  2.40682289e+04],\n",
       "       [ 1.78626126e+01,  2.39192064e+04],\n",
       "       [ 1.83581081e+01,  2.00877068e+04],\n",
       "       [ 1.88536036e+01,  2.28972712e+04],\n",
       "       [ 1.93490991e+01,  2.28753721e+04],\n",
       "       [ 1.98445946e+01,  1.69253677e+04],\n",
       "       [ 2.03400901e+01,  1.62634294e+04],\n",
       "       [ 2.08355856e+01,  1.40773731e+04],\n",
       "       [ 2.13310811e+01,  1.26970989e+04],\n",
       "       [ 2.18265766e+01,  8.54823824e+03],\n",
       "       [ 2.23220721e+01,  9.29099965e+03],\n",
       "       [ 2.28175676e+01,  8.86029646e+03],\n",
       "       [ 2.33130631e+01,  1.19027111e+04],\n",
       "       [ 2.38085586e+01,  1.24112587e+04],\n",
       "       [ 2.43040541e+01,  1.18130912e+04]])"
      ]
     },
     "execution_count": 22,
     "metadata": {},
     "output_type": "execute_result"
    }
   ],
   "source": [
    "np.loadtxt('data/experiment01.csv', delimiter=',')"
   ]
  },
  {
   "cell_type": "markdown",
   "metadata": {},
   "source": [
    "but we still need to say `delimiter=`:\n",
    "\n",
    "```Python\n",
    "np.loadtxt('experiment01.csv', ',')\n",
    "```\n",
    "\n",
    "will throw an error.\n",
    "\n",
    "```\n",
    "Traceback (most recent call last):\n",
    "\n",
    "  File \"c:\\users\\jderrick\\appdata\\local\\programs\\python\\python38\\lib\\site-packages\\IPython\\core\\interactiveshell.py\", line 3418, in run_code\n",
    "    exec(code_obj, self.user_global_ns, self.user_ns)\n",
    "\n",
    "  File \"<ipython-input-22-1d44534e11cb>\", line 2, in <module>\n",
    "    np.loadtxt('experiment01.csv', ',')\n",
    "\n",
    "  File \"c:\\users\\jderrick\\appdata\\local\\programs\\python\\python38\\lib\\site-packages\\numpy\\lib\\npyio.py\", line 1055, in loadtxt\n",
    "    dtype = np.dtype(dtype)\n",
    "\n",
    "  File \"c:\\users\\jderrick\\appdata\\local\\programs\\python\\python38\\lib\\site-packages\\numpy\\core\\_internal.py\", line 199, in _commastring\n",
    "    newitem = (dtype, ast.literal_eval(repeats))\n",
    "\n",
    "  File \"c:\\users\\jderrick\\appdata\\local\\programs\\python\\python38\\lib\\ast.py\", line 59, in literal_eval\n",
    "    node_or_string = parse(node_or_string, mode='eval')\n",
    "\n",
    "  File \"c:\\users\\jderrick\\appdata\\local\\programs\\python\\python38\\lib\\ast.py\", line 47, in parse\n",
    "    return compile(source, filename, mode, flags,\n",
    "\n",
    "  File \"<unknown>\", line 1\n",
    "    ,\n",
    "    ^\n",
    "SyntaxError: unexpected EOF while parsing\n",
    "\n",
    "```"
   ]
  },
  {
   "cell_type": "markdown",
   "metadata": {},
   "source": [
    "Para entender lo que está pasando, definamos una función simple."
   ]
  },
  {
   "cell_type": "code",
   "execution_count": 23,
   "metadata": {
    "vscode": {
     "languageId": "python"
    }
   },
   "outputs": [],
   "source": [
    "def print_name_and_job(name, job):\n",
    "    print('my name is ' + name)\n",
    "    print('my job is '+ job)"
   ]
  },
  {
   "cell_type": "markdown",
   "metadata": {},
   "source": [
    "If we call it as it is."
   ]
  },
  {
   "cell_type": "code",
   "execution_count": 24,
   "metadata": {
    "vscode": {
     "languageId": "python"
    }
   },
   "outputs": [
    {
     "name": "stdout",
     "output_type": "stream",
     "text": [
      "my name is Samwise\n",
      "my job is Gardener\n"
     ]
    }
   ],
   "source": [
    "print_name_and_job('Samwise', 'Gardener')"
   ]
  },
  {
   "cell_type": "markdown",
   "metadata": {},
   "source": [
    "Funciona bien, pero digamos que solo estamos usando esto en el contexto de la beca y realmente el título del trabajo es más probable que sea \"miembro de la beca\". Si no se proporciona nada, queremos hacerlo por defecto.\n",
    "\n",
    "El cambio clave es que el segundo parámetro ahora se escribe `job='fellowship'` en lugar de `job`. Si llamamos a la función con dos argumentos, funciona como antes:"
   ]
  },
  {
   "cell_type": "code",
   "execution_count": 25,
   "metadata": {
    "vscode": {
     "languageId": "python"
    }
   },
   "outputs": [],
   "source": [
    "def print_name_and_job(name, job='fellowship member'):\n",
    "    print('my name is ' + name)\n",
    "    print('my job is '+ job)"
   ]
  },
  {
   "cell_type": "code",
   "execution_count": 26,
   "metadata": {
    "vscode": {
     "languageId": "python"
    }
   },
   "outputs": [
    {
     "name": "stdout",
     "output_type": "stream",
     "text": [
      "my name is Frodo\n",
      "my job is ring-bearer\n"
     ]
    }
   ],
   "source": [
    "print_name_and_job('Frodo', 'ring-bearer')"
   ]
  },
  {
   "cell_type": "markdown",
   "metadata": {},
   "source": [
    "Pero ahora también podemos llamarlo con un solo argumento, en cuyo caso `job` se le asigna automáticamente el valor predeterminado de `fellowship member`:"
   ]
  },
  {
   "cell_type": "code",
   "execution_count": 27,
   "metadata": {
    "vscode": {
     "languageId": "python"
    }
   },
   "outputs": [
    {
     "name": "stdout",
     "output_type": "stream",
     "text": [
      "my name is Boromir\n",
      "my job is fellowship member\n"
     ]
    }
   ],
   "source": [
    "print_name_and_job('Boromir')"
   ]
  },
  {
   "cell_type": "markdown",
   "metadata": {},
   "source": [
    "Esto es útil: si normalmente queremos que una función funcione de una manera, pero ocasionalmente la necesitamos para hacer algo más, podemos permitir que las personas pasen un argumento cuando lo necesiten pero proporcionen un valor predeterminado para facilitar el caso normal. El siguiente ejemplo muestra cómo Python compara valores con argumentos:"
   ]
  },
  {
   "cell_type": "code",
   "execution_count": 28,
   "metadata": {
    "vscode": {
     "languageId": "python"
    }
   },
   "outputs": [
    {
     "name": "stdout",
     "output_type": "stream",
     "text": [
      "no arguments:\n",
      "a: 1 b: 2 c: 3\n",
      "one arguments:\n",
      "a: 55 b: 2 c: 3\n",
      "two arguments:\n",
      "a: 55 b: 66 c: 3\n"
     ]
    }
   ],
   "source": [
    "def display(a=1, b=2, c=3):\n",
    "    print('a:', a, 'b:', b, 'c:', c)\n",
    "\n",
    "print('no arguments:')\n",
    "display()\n",
    "print('one arguments:')\n",
    "display(55)\n",
    "print('two arguments:')\n",
    "display(55, 66)"
   ]
  },
  {
   "cell_type": "markdown",
   "metadata": {},
   "source": [
    "Como muestra este ejemplo, los argumentos se comparan de izquierda a derecha, y cualquiera al que no se le ha dado un valor obtiene explícitamente su valor predeterminado. Podemos anular este comportamiento nombrando el valor a medida que lo pasamos:"
   ]
  },
  {
   "cell_type": "code",
   "execution_count": null,
   "metadata": {
    "vscode": {
     "languageId": "python"
    }
   },
   "outputs": [],
   "source": [
    "print('only setting the value of c')\n",
    "display(c=77)"
   ]
  },
  {
   "cell_type": "markdown",
   "metadata": {},
   "source": [
    "Con eso en la mano, veamos la ayuda para `numpy.loadtxt`:"
   ]
  },
  {
   "cell_type": "code",
   "execution_count": 2,
   "metadata": {
    "vscode": {
     "languageId": "python"
    }
   },
   "outputs": [
    {
     "name": "stdout",
     "output_type": "stream",
     "text": [
      "Help on function loadtxt in module numpy:\n",
      "\n",
      "loadtxt(fname, dtype=<class 'float'>, comments='#', delimiter=None, converters=None, skiprows=0, usecols=None, unpack=False, ndmin=0, encoding='bytes', max_rows=None, *, like=None)\n",
      "    Load data from a text file.\n",
      "    \n",
      "    Each row in the text file must have the same number of values.\n",
      "    \n",
      "    Parameters\n",
      "    ----------\n",
      "    fname : file, str, or pathlib.Path\n",
      "        File, filename, or generator to read.  If the filename extension is\n",
      "        ``.gz`` or ``.bz2``, the file is first decompressed. Note that\n",
      "        generators should return byte strings.\n",
      "    dtype : data-type, optional\n",
      "        Data-type of the resulting array; default: float.  If this is a\n",
      "        structured data-type, the resulting array will be 1-dimensional, and\n",
      "        each row will be interpreted as an element of the array.  In this\n",
      "        case, the number of columns used must match the number of fields in\n",
      "        the data-type.\n",
      "    comments : str or sequence of str, optional\n",
      "        The characters or list of characters used to indicate the start of a\n",
      "        comment. None implies no comments. For backwards compatibility, byte\n",
      "        strings will be decoded as 'latin1'. The default is '#'.\n",
      "    delimiter : str, optional\n",
      "        The string used to separate values. For backwards compatibility, byte\n",
      "        strings will be decoded as 'latin1'. The default is whitespace.\n",
      "    converters : dict, optional\n",
      "        A dictionary mapping column number to a function that will parse the\n",
      "        column string into the desired value.  E.g., if column 0 is a date\n",
      "        string: ``converters = {0: datestr2num}``.  Converters can also be\n",
      "        used to provide a default value for missing data (but see also\n",
      "        `genfromtxt`): ``converters = {3: lambda s: float(s.strip() or 0)}``.\n",
      "        Default: None.\n",
      "    skiprows : int, optional\n",
      "        Skip the first `skiprows` lines, including comments; default: 0.\n",
      "    usecols : int or sequence, optional\n",
      "        Which columns to read, with 0 being the first. For example,\n",
      "        ``usecols = (1,4,5)`` will extract the 2nd, 5th and 6th columns.\n",
      "        The default, None, results in all columns being read.\n",
      "    \n",
      "        .. versionchanged:: 1.11.0\n",
      "            When a single column has to be read it is possible to use\n",
      "            an integer instead of a tuple. E.g ``usecols = 3`` reads the\n",
      "            fourth column the same way as ``usecols = (3,)`` would.\n",
      "    unpack : bool, optional\n",
      "        If True, the returned array is transposed, so that arguments may be\n",
      "        unpacked using ``x, y, z = loadtxt(...)``.  When used with a\n",
      "        structured data-type, arrays are returned for each field.\n",
      "        Default is False.\n",
      "    ndmin : int, optional\n",
      "        The returned array will have at least `ndmin` dimensions.\n",
      "        Otherwise mono-dimensional axes will be squeezed.\n",
      "        Legal values: 0 (default), 1 or 2.\n",
      "    \n",
      "        .. versionadded:: 1.6.0\n",
      "    encoding : str, optional\n",
      "        Encoding used to decode the inputfile. Does not apply to input streams.\n",
      "        The special value 'bytes' enables backward compatibility workarounds\n",
      "        that ensures you receive byte arrays as results if possible and passes\n",
      "        'latin1' encoded strings to converters. Override this value to receive\n",
      "        unicode arrays and pass strings as input to converters.  If set to None\n",
      "        the system default is used. The default value is 'bytes'.\n",
      "    \n",
      "        .. versionadded:: 1.14.0\n",
      "    max_rows : int, optional\n",
      "        Read `max_rows` lines of content after `skiprows` lines. The default\n",
      "        is to read all the lines.\n",
      "    \n",
      "        .. versionadded:: 1.16.0\n",
      "    like : array_like\n",
      "        Reference object to allow the creation of arrays which are not\n",
      "        NumPy arrays. If an array-like passed in as ``like`` supports\n",
      "        the ``__array_function__`` protocol, the result will be defined\n",
      "        by it. In this case, it ensures the creation of an array object\n",
      "        compatible with that passed in via this argument.\n",
      "    \n",
      "        .. versionadded:: 1.20.0\n",
      "    \n",
      "    Returns\n",
      "    -------\n",
      "    out : ndarray\n",
      "        Data read from the text file.\n",
      "    \n",
      "    See Also\n",
      "    --------\n",
      "    load, fromstring, fromregex\n",
      "    genfromtxt : Load data with missing values handled as specified.\n",
      "    scipy.io.loadmat : reads MATLAB data files\n",
      "    \n",
      "    Notes\n",
      "    -----\n",
      "    This function aims to be a fast reader for simply formatted files.  The\n",
      "    `genfromtxt` function provides more sophisticated handling of, e.g.,\n",
      "    lines with missing values.\n",
      "    \n",
      "    .. versionadded:: 1.10.0\n",
      "    \n",
      "    The strings produced by the Python float.hex method can be used as\n",
      "    input for floats.\n",
      "    \n",
      "    Examples\n",
      "    --------\n",
      "    >>> from io import StringIO   # StringIO behaves like a file object\n",
      "    >>> c = StringIO(\"0 1\\n2 3\")\n",
      "    >>> np.loadtxt(c)\n",
      "    array([[0., 1.],\n",
      "           [2., 3.]])\n",
      "    \n",
      "    >>> d = StringIO(\"M 21 72\\nF 35 58\")\n",
      "    >>> np.loadtxt(d, dtype={'names': ('gender', 'age', 'weight'),\n",
      "    ...                      'formats': ('S1', 'i4', 'f4')})\n",
      "    array([(b'M', 21, 72.), (b'F', 35, 58.)],\n",
      "          dtype=[('gender', 'S1'), ('age', '<i4'), ('weight', '<f4')])\n",
      "    \n",
      "    >>> c = StringIO(\"1,0,2\\n3,0,4\")\n",
      "    >>> x, y = np.loadtxt(c, delimiter=',', usecols=(0, 2), unpack=True)\n",
      "    >>> x\n",
      "    array([1., 3.])\n",
      "    >>> y\n",
      "    array([2., 4.])\n",
      "    \n",
      "    This example shows how `converters` can be used to convert a field\n",
      "    with a trailing minus sign into a negative number.\n",
      "    \n",
      "    >>> s = StringIO('10.01 31.25-\\n19.22 64.31\\n17.57- 63.94')\n",
      "    >>> def conv(fld):\n",
      "    ...     return -float(fld[:-1]) if fld.endswith(b'-') else float(fld)\n",
      "    ...\n",
      "    >>> np.loadtxt(s, converters={0: conv, 1: conv})\n",
      "    array([[ 10.01, -31.25],\n",
      "           [ 19.22,  64.31],\n",
      "           [-17.57,  63.94]])\n",
      "\n"
     ]
    }
   ],
   "source": [
    "import numpy as np\n",
    "\n",
    "\n",
    "help(np.loadtxt)"
   ]
  },
  {
   "cell_type": "markdown",
   "metadata": {},
   "source": [
    "Hay mucha información aquí, pero la parte más importante es el primer par de líneas:\n",
    "```\n",
    "loadtxt(fname, dtype=<class 'float'>, comments='#', delimiter=None, converters=None, skiprows=0, usecols=None, unpack=False, ndmin=0, encoding='bytes', max_rows=None)\n",
    "```\n",
    "\n",
    "(si ves algo un poco diferente, puedes tener una versión diferente de numpy que la que este curso fue creado usando: 1.19.4)\n",
    "\n",
    "Esto nos dice que `loadtxt` tiene un parámetro llamado `fname` que no tiene un valor predeterminado, y otros och\n",
    "\n",
    "```Python\n",
    "np.loadtxt('experiment01.csv', ',')\n",
    "```\n",
    "\n",
    "entonces el nombre del archivo se asigna a `fname` (que es lo que queremos), pero la cadena delimitadora `','` se asigna a `dtype` en lugar de `delimiter`, porque `dtype` es el segundo parámetro de la lista. Sin embargo `','` no es un `dtype` conocido, así que nuestro código producirá un mensaje de error cuando intentemos ejecutarlo. Cuando llamamos a `loadtxt` no tenemos que proporcionar `fname=` para el nombre del archivo porque es el primer elemento de la lista, pero si queremos que el `','` sea asignado a la variable `delimiter`, tenemos que proporcionar `delimitador=` para el segundo parámetro ya que `delimitador` no es el segundo parámetro de la lista.\n",
    "\n",
    "> **Nota sobre \"argumento\" vs \"parámetro\":** Los términos \"argumento\" y \"parámetro\" tienen diferencias específicas, aunque a menudo es difícil discernir cuáles son. La mejor distinción que conozco es la siguiente: \"Técnicamente, los parámetros son variables en una definición de función y los argumentos son los valores reales dados a las variables en el punto de llamada. Por ejemplo: \n",
    "> ```Python\n",
    "> def foo(arg): \n",
    ">     return arg \n",
    "> foo('Python') \n",
    "> ```\n",
    "> La variable arg en la definición de función es el parámetro y el valor Python en la llamada a función es un argumento para ese parámetro.\" (de la respuesta proporcionada) [here](https://cmsdk.com/python/what-is-the-difference-between-argument-and-parameter-in-python.html#:~:text=Technically%2C%20parameters%20are%20variables%20in%20a%20function%20definition,function%20call%20is%20an%20argument%20to%20that%20parameter)). Confusion often arises, sin embargo, debido a que los parámetros a menudo se llaman \"`arg`\" (como en el ejemplo) porque se utilizan para almacenar los argumentos cuando se llama a la función! En nuestra discusión anterior, `delimitador` es el parámetro y `,` es el argumento.\n",
    "> \n",
    "> La distinción no es importante en el nivel de principiante, pero el uso de ambas palabras es extremadamente común y debe tenerse en cuenta!\n",
    "\n",
    "Funciones de lectura\n",
    "\n",
    "Considere estas dos funciones:\n",
    "\n",
    "```Python\n",
    "def s(p):\n",
    "    a = 0\n",
    "    for v in p:\n",
    "        a += v\n",
    "    m = a / len(p)\n",
    "    d = 0\n",
    "    for v in p:\n",
    "        d += (v - m) * (v - m)\n",
    "    return numpy.sqrt(d / (len(p) - 1))\n",
    "\n",
    "def std_dev(sample):\n",
    "    sample_sum = 0\n",
    "    for value in sample:\n",
    "        sample_sum += value\n",
    "\n",
    "    sample_mean = sample_sum / len(sample)\n",
    "\n",
    "    sum_squared_devs = 0\n",
    "    for value in sample:\n",
    "        sum_squared_devs += (value - sample_mean) * (value - sample_mean)\n",
    "\n",
    "    return numpy.sqrt(sum_squared_devs / (len(sample) - 1))\n",
    "```\n",
    "\n",
    "Las funciones `s` y `std_dev` son computacionalmente equivalentes (ambas calculan la desviación estándar de la muestra), pero para un lector humano, se ven muy diferentes. Usted probablemente encontró `std_dev` mucho más fácil de leer y entender que `s`.\n",
    "\n",
    "Como ilustra este ejemplo, tanto la documentación como el estilo de codificación de un programador se combinan para determinar lo fácil que es para otros leer y entender el código del programador. Elegir nombres de variables significativos y usar espacios en blanco para dividir el código en \"trozos\" lógicos son técnicas útiles para producir código legible. Esto es útil no solo para compartir código con otros, sino también para el programador original. Si necesitas revisar el código que escribiste hace meses y no has pensado desde entonces, ¡apreciarás el valor del código legible!\n",
    "\n",
    "# Ejercicio 1 - Combinar cadenas\n",
    "\n",
    "\"Agregar\" dos cadenas produce su concatenación: `'a' + 'b'` es `'ab'`. Escribe una función llamada `fence` que toma dos parámetros llamados `original` y `wrapper` y devuelve una nueva cadena que tiene el carácter `wrapper` al principio y al final del original. Una llamada a su función debería verse así:\n",
    "```Python\n",
    "print(fence('name', '*'))\n",
    "> *name*\n",
    "```"
   ]
  },
  {
   "cell_type": "code",
   "execution_count": 29,
   "metadata": {
    "vscode": {
     "languageId": "python"
    }
   },
   "outputs": [
    {
     "data": {
      "text/plain": [
       "'*name*'"
      ]
     },
     "execution_count": 29,
     "metadata": {},
     "output_type": "execute_result"
    }
   ],
   "source": [
    "# Enter your solution here\n",
    "def fence(original, wrapper):\n",
    "    return wrapper + original + wrapper\n",
    "\n",
    "fence('name', '*')"
   ]
  },
  {
   "cell_type": "markdown",
   "metadata": {},
   "source": [
    "# Ejercicio 2* `retorno` vs `impresión()`\n",
    "\n",
    "Tenga en cuenta que `return` y `print` no son intercambiables. `print` es una función de Python que imprime datos en la pantalla. Nos permite a los usuarios ver los datos. La declaración `return` , por otro lado, hace que los datos sean visibles para el programa. Echemos un vistazo a la siguiente función:\n",
    "\n",
    "```Python\n",
    "def add(a, b):\n",
    "    print(a + b)\n",
    "```\n",
    "\n",
    "Pregunta: ¿Qué veremos si ejecutamos los siguientes comandos?\n",
    "\n",
    "```Python\n",
    "A = add(7, 3)\n",
    "print(A)\n",
    "```"
   ]
  },
  {
   "cell_type": "code",
   "execution_count": null,
   "metadata": {
    "vscode": {
     "languageId": "python"
    }
   },
   "outputs": [],
   "source": [
    "## Ejercicio 07.2\n",
    "\n",
    "1. La función se ejecutará \n",
    "\n",
    "2. No se imprimirá nada porque la función no devuelve nada.\n"
   ]
  },
  {
   "cell_type": "markdown",
   "metadata": {},
   "source": [
    "# Ejercicio 3* - Selección de caracteres de cadenas\n",
    "\n",
    "Si la variable `s` se refiere a una cadena, entonces `s[0]` es el primer carácter de la cadena y `s[-1]` es el último. Escribe una función llamada `outer` que devuelve una cadena compuesta solo por los primeros y últimos caracteres de su entrada. Una llamada a su función debería verse así:\n",
    "\n",
    "```Python\n",
    "print(outer('helium'))\n",
    "> 'hm'\n",
    "```"
   ]
  },
  {
   "cell_type": "code",
   "execution_count": 30,
   "metadata": {
    "vscode": {
     "languageId": "python"
    }
   },
   "outputs": [
    {
     "data": {
      "text/plain": [
       "'hm'"
      ]
     },
     "execution_count": 30,
     "metadata": {},
     "output_type": "execute_result"
    }
   ],
   "source": [
    "# Enter your solution here\n",
    "def outer(input_string):\n",
    "    return input_string[0]+input_string[-1]\n",
    "\n",
    "outer('helium')"
   ]
  },
  {
   "cell_type": "markdown",
   "metadata": {},
   "source": [
    "# Ejercicio 4 - Normalizar una matriz\n",
    "\n",
    "Escriba una función `normalise` que tome la siguiente matriz como entrada y devuelva una matriz correspondiente de valores escalados en el rango 0.0 a 1.0. (Pista: Si `L` y `H` son los valores más bajos y más altos de la matriz original, entonces el reemplazo de un valor `v` debe ser `(v-L) / (H-L)`.)"
   ]
  },
  {
   "cell_type": "code",
   "execution_count": 31,
   "metadata": {
    "vscode": {
     "languageId": "python"
    }
   },
   "outputs": [
    {
     "data": {
      "text/plain": [
       "array([0.        , 0.11111111, 0.22222222, 0.33333333, 0.44444444,\n",
       "       0.55555556, 0.66666667, 0.77777778, 0.88888889, 1.        ])"
      ]
     },
     "execution_count": 31,
     "metadata": {},
     "output_type": "execute_result"
    }
   ],
   "source": [
    "import numpy as np\n",
    "\n",
    "\n",
    "def rescale(array):\n",
    "    max_ = np.amax(array)\n",
    "    min_ = np.amin(array)\n",
    "    scaled = (array-min_)/(max_ - min_)\n",
    "    return scaled\n",
    "\n",
    "\n",
    "test = np.arange(10)\n",
    "\n",
    "rescale(test)"
   ]
  },
  {
   "cell_type": "markdown",
   "metadata": {},
   "source": [
    "# Ejercicio 5 - Probando y documentando su función\n",
    "\n",
    "Ejecute los comandos `help(np.arange)` y `help(np.linspace)` para ver cómo usar estas funciones para generar valores espaciados regularmente. Intente usar linspace para probar los límites de `normalizar`, y agregue un docstring que explique lo que hace."
   ]
  },
  {
   "cell_type": "code",
   "execution_count": null,
   "metadata": {
    "vscode": {
     "languageId": "python"
    }
   },
   "outputs": [],
   "source": [
    "\n",
    "## Exercise 07.5\n",
    "\n",
    "- cualquier texto sensato está bien, véase [here](https://github.com/pyansys/pymapdl/blob/main/ansys/mapdl/core/inline_functions/line_queries.py) for an example\n",
    "\n",
    "\n",
    "Para la función `normalise` o `rescale` :\n",
    "\n"
   ]
  },
  {
   "cell_type": "code",
   "execution_count": 32,
   "metadata": {},
   "outputs": [],
   "source": [
    "def rescale(array):\n",
    "    \"\"\"Return the array scaled to be between 0 and 1 inclusive, elementwise.\"\"\"\n",
    "    max_ = np.amax(array)\n",
    "    min_ = np.amin(array)\n",
    "    scaled = (array-min_)/(max_ - min_)\n",
    "    return scaled"
   ]
  },
  {
   "cell_type": "markdown",
   "metadata": {},
   "source": [
    "# Ejercicio 6 - Definición de valores predeterminados\n",
    "\n",
    "Reescriba la función normalize para que escale los datos entre 0.0 y 1.0 de forma predeterminada, pero permitirá al llamante especificar los límites inferior y superior si lo desea. Discuta su implementación con otros si puede. ¿Las funciones siempre se comportan de la misma manera?"
   ]
  },
  {
   "cell_type": "code",
   "execution_count": 33,
   "metadata": {
    "vscode": {
     "languageId": "python"
    }
   },
   "outputs": [
    {
     "data": {
      "text/plain": [
       "array([  1.        ,  23.11111111,  45.22222222,  67.33333333,\n",
       "        89.44444444, 111.55555556, 133.66666667, 155.77777778,\n",
       "       177.88888889, 200.        ])"
      ]
     },
     "execution_count": 33,
     "metadata": {},
     "output_type": "execute_result"
    }
   ],
   "source": [
    "# Enter your solution here\n",
    "def rescale(array, lower=0., upper=1.):\n",
    "    max_ = np.amax(array)\n",
    "    min_ = np.amin(array)\n",
    "    scaled = (array-min_)/(max_ - min_)\n",
    "    \n",
    "    range_ = upper-lower\n",
    "    scaled *= range_\n",
    "    scaled += lower\n",
    "    return scaled\n",
    "\n",
    "\n",
    "test = np.arange(10)\n",
    "\n",
    "rescale(test, lower=1, upper=200)"
   ]
  },
  {
   "cell_type": "markdown",
   "metadata": {},
   "source": [
    "# Ejercicio 7* - Variables dentro y fuera de las funciones\n",
    "\n",
    "¿Qué muestra la siguiente pieza de código cuando se ejecuta - y por qué?"
   ]
  },
  {
   "cell_type": "code",
   "execution_count": 34,
   "metadata": {
    "vscode": {
     "languageId": "python"
    }
   },
   "outputs": [
    {
     "name": "stdout",
     "output_type": "stream",
     "text": [
      "259.81666666666666\n",
      "278.15\n",
      "273.15\n",
      "0\n"
     ]
    }
   ],
   "source": [
    "f = 0\n",
    "k = 0\n",
    "\n",
    "def f2k(f):\n",
    "    k = ((f - 32) * (5.0 / 9.0)) + 273.15\n",
    "    return k\n",
    "\n",
    "print(f2k(8))\n",
    "print(f2k(41))\n",
    "print(f2k(32))\n",
    "\n",
    "print(k)"
   ]
  },
  {
   "cell_type": "code",
   "execution_count": null,
   "metadata": {},
   "outputs": [],
   "source": []
  },
  {
   "cell_type": "markdown",
   "metadata": {},
   "source": [
    "# Ejercicio 8* - Mezcla de parámetros predeterminados y no defectuosos\n",
    "\n",
    "Dado el siguiente código:\n",
    "\n",
    "```Python\n",
    "def numbers(one, two=2, three, four=4):\n",
    "    n = str(one) + str(two) + str(three) + str(four)\n",
    "    return n\n",
    "\n",
    "print(numbers(1, three=3))\n",
    "```\n",
    "\n",
    "¿qué esperas que se imprima? ¿Qué se imprime realmente? ¿Qué regla crees que sigue Python?\n",
    "1. `1234`\n",
    "2. `one2three4`\n",
    "3. `1239`\n",
    "4. `SyntaxError`\n",
    "\n",
    "Dado eso, ¿qué muestra el siguiente código cuando se ejecuta?\n",
    "\n",
    "```Python\n",
    "def func(a, b=3, c=6):\n",
    "    print('a: ', a, 'b: ', b, 'c:', c)\n",
    "\n",
    "func(-1, 2)\n",
    "```\n",
    "\n",
    "1. `a: b: 3 c: 6`\n",
    "2. `a: -1 b: 3 c: 6`\n",
    "3. `a: -1 b: 2 c: 6`\n",
    "4. `a: b: -1 c: 2`"
   ]
  },
  {
   "cell_type": "code",
   "execution_count": null,
   "metadata": {},
   "outputs": [],
   "source": [
    "## Exercise 07.8\n",
    "\n",
    "- `SyntaxError`\n",
    "- number 3, `a: -1 b: 2 c: 6`"
   ]
  },
  {
   "cell_type": "markdown",
   "metadata": {},
   "source": [
    "# Puntos clasves\n",
    "\n",
    "\n",
    "\n",
    "- Definir una función usando `def function_name(parámetro)`.\n",
    "- Debe sangrarse el cuerpo de una función.\n",
    "- Llamar a una función usando `function_name(value)`.\n",
    "- Los números se almacenan como enteros o números de coma flotante.\n",
    "- Las variables definidas dentro de una función solo pueden ser vistas y utilizadas dentro del cuerpo de la función.\n",
    "- Si una variable no está definida dentro de la función que se utiliza, Python busca una definición antes de la llamada a la función\n",
    "- Use `help(thing)` para ver ayuda para algo.\n",
    "- Ponga docstrings en funciones para proporcionar ayuda para esa función.\n",
    "- Especifique los valores por defecto para los parámetros al definir una función usando `name=value` en la lista de parámetros.\n",
    "- Los parámetros se pueden pasar haciendo coincidir según el nombre, la posición o omitiéndolos (en cuyo caso se utiliza el valor predeterminado)."
   ]
  }
 ],
 "metadata": {
  "kernelspec": {
   "display_name": "Python 3 (ipykernel)",
   "language": "python",
   "name": "python3"
  },
  "language_info": {
   "codemirror_mode": {
    "name": "ipython",
    "version": 3
   },
   "file_extension": ".py",
   "mimetype": "text/x-python",
   "name": "python",
   "nbconvert_exporter": "python",
   "pygments_lexer": "ipython3",
   "version": "3.7.6"
  }
 },
 "nbformat": 4,
 "nbformat_minor": 4
}
