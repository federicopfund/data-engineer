{
 "cells": [
  {
   "cell_type": "markdown",
   "metadata": {},
   "source": [
    "\n",
    "\n",
    "## Questions\n",
    "\n",
    "- ¿Cómo puedo hacer las mismas operaciones con muchos valores diferentes?\n",
    "\n",
    "## Objetivos\n",
    "\n",
    "- Explicar lo que hace un bucle for.\n",
    "\n",
    "- Escribir correctamente para bucles para repetir cálculos simples.\n",
    "\n",
    "- Trazar cambios en una variable de bucle a medida que se ejecuta el bucle.\n",
    "\n",
    "- Seguimiento de los cambios en otras variables a medida que se actualizan mediante un bucle for.\n",
    "\n",
    "En la última lección, escribimos el código Python que traza los datos de radiación de una sola simulación, sin embargo, tenemos cinco conjuntos de datos en este momento y más en el camino. Queremos crear diagramas para todos nuestros conjuntos de datos con una sola declaración. Para ello, tendremos que enseñar al equipo cómo repetir las cosas.\n",
    "\n",
    "Una tarea de ejemplo que podríamos querer repetir es imprimir cada carácter en una palabra en una línea propia.\n",
    "\n",
    "Python\n",
    "palabra = 'plomo'\n",
    "```\n",
    "\n",
    "En Python, una cadena es básicamente una colección ordenada de caracteres, y cada carácter tiene un número único asociado con él - su índice. Esto significa que podemos acceder a los caracteres de una cadena usando sus índices. Por ejemplo, podemos obtener el primer carácter de la palabra `'lead'`, usando `word[0]`. Una forma de imprimir cada carácter es usar cuatro declaraciones impresas:\n",
    "```Python\n",
    "print(word[0])\n",
    "print(word[1])\n",
    "print(word[2])\n",
    "print(word[3])\n",
    "```"
   ]
  },
  {
   "cell_type": "code",
   "execution_count": 1,
   "metadata": {
    "vscode": {
     "languageId": "python"
    }
   },
   "outputs": [
    {
     "name": "stdout",
     "output_type": "stream",
     "text": [
      "l\n",
      "e\n",
      "a\n",
      "d\n"
     ]
    }
   ],
   "source": [
    "word = 'lead'\n",
    "print(word[0])\n",
    "print(word[1])\n",
    "print(word[2])\n",
    "print(word[3])"
   ]
  },
  {
   "cell_type": "markdown",
   "metadata": {},
   "source": [
    "Este es un mal enfoque por tres razones:\n",
    "\n",
    "- No escalable. Imagine que necesita imprimir caracteres de una cadena que tiene cientos de letras. Podría ser más fácil escribirlos manualmente.\n",
    "\n",
    "- Difícil de mantener. Si queremos decorar cada carácter impreso con un asterisco o cualquier otro carácter, tendremos que cambiar cuatro líneas de código. Si bien esto podría no ser un problema para cadenas cortas, sería un problema para las más largas.\n",
    "\n",
    "- Frágil. Si la usamos con una palabra que tiene más caracteres de los que habíamos previsto inicialmente, solo mostrará parte de los caracteres de la palabra. Una cadena más corta, por otro lado, causará un error porque intentará mostrar parte de la cadena que no existe."
   ]
  },
  {
   "cell_type": "code",
   "execution_count": 2,
   "metadata": {
    "vscode": {
     "languageId": "python"
    }
   },
   "outputs": [
    {
     "name": "stdout",
     "output_type": "stream",
     "text": [
      "t\n",
      "i\n",
      "n\n"
     ]
    },
    {
     "ename": "IndexError",
     "evalue": "string index out of range",
     "output_type": "error",
     "traceback": [
      "\u001b[1;31m---------------------------------------------------------------------------\u001b[0m",
      "\u001b[1;31mIndexError\u001b[0m                                Traceback (most recent call last)",
      "\u001b[1;32m<ipython-input-2-53e2b45ce7ca>\u001b[0m in \u001b[0;36m<module>\u001b[1;34m\u001b[0m\n\u001b[0;32m      4\u001b[0m \u001b[0mprint\u001b[0m\u001b[1;33m(\u001b[0m\u001b[0mword\u001b[0m\u001b[1;33m[\u001b[0m\u001b[1;36m1\u001b[0m\u001b[1;33m]\u001b[0m\u001b[1;33m)\u001b[0m\u001b[1;33m\u001b[0m\u001b[1;33m\u001b[0m\u001b[0m\n\u001b[0;32m      5\u001b[0m \u001b[0mprint\u001b[0m\u001b[1;33m(\u001b[0m\u001b[0mword\u001b[0m\u001b[1;33m[\u001b[0m\u001b[1;36m2\u001b[0m\u001b[1;33m]\u001b[0m\u001b[1;33m)\u001b[0m\u001b[1;33m\u001b[0m\u001b[1;33m\u001b[0m\u001b[0m\n\u001b[1;32m----> 6\u001b[1;33m \u001b[0mprint\u001b[0m\u001b[1;33m(\u001b[0m\u001b[0mword\u001b[0m\u001b[1;33m[\u001b[0m\u001b[1;36m3\u001b[0m\u001b[1;33m]\u001b[0m\u001b[1;33m)\u001b[0m\u001b[1;33m\u001b[0m\u001b[1;33m\u001b[0m\u001b[0m\n\u001b[0m",
      "\u001b[1;31mIndexError\u001b[0m: string index out of range"
     ]
    }
   ],
   "source": [
    "# run this cell to see what happens\n",
    "word = 'tin'\n",
    "print(word[0])\n",
    "print(word[1])\n",
    "print(word[2])\n",
    "print(word[3])"
   ]
  },
  {
   "cell_type": "markdown",
   "metadata": {},
   "source": [
    "Here’s a better approach:"
   ]
  },
  {
   "cell_type": "code",
   "execution_count": 3,
   "metadata": {
    "vscode": {
     "languageId": "python"
    }
   },
   "outputs": [
    {
     "name": "stdout",
     "output_type": "stream",
     "text": [
      "l\n",
      "e\n",
      "a\n",
      "d\n"
     ]
    }
   ],
   "source": [
    "word = 'lead'\n",
    "for char in word:\n",
    "    print(char)"
   ]
  },
  {
   "cell_type": "markdown",
   "metadata": {},
   "source": [
    "Esto es más corto - ciertamente más corto que algo que imprime cada carácter en una cadena de cien letras - y más robusto también:"
   ]
  },
  {
   "cell_type": "code",
   "execution_count": 4,
   "metadata": {
    "vscode": {
     "languageId": "python"
    }
   },
   "outputs": [
    {
     "name": "stdout",
     "output_type": "stream",
     "text": [
      "o\n",
      "x\n",
      "y\n",
      "g\n",
      "e\n",
      "n\n"
     ]
    }
   ],
   "source": [
    "word = 'oxygen'\n",
    "for char in word:\n",
    "    print(char)"
   ]
  },
  {
   "cell_type": "markdown",
   "metadata": {},
   "source": [
    "La versión mejorada utiliza un bucle `para` para repetir una operación - en este caso, la impresión - una vez por cada cosa en una secuencia. La forma general de un bucle es:\n",
    "```Python\n",
    "for variable in collection:\n",
    "    # do things using variable, such as print\n",
    "```\n",
    "\n",
    "Usando el ejemplo de oxígeno anterior, el bucle se puede representar visualmente así:\n",
    "\n",
    "![loop_example](media/loops_image.png)\n",
    "\n",
    "\n",
    "donde cada carácter (`char`) en la variable `palabra` es un bucle e impreso un carácter tras otro. Los números en el diagrama denotan en qué ciclo de bucle se imprimió el carácter (1 es el primer bucle y 6 es el bucle final).\n",
    "\n",
    "Podemos llamar a la variable de bucle lo que queramos, pero debe haber dos puntos al final de la línea que inicia el bucle, y debemos sangrar cualquier cosa que queramos ejecutar dentro del bucle. A diferencia de muchos otros lenguajes, no hay ningún comando que signifique el fin del cuerpo del bucle (por ejemplo, `fin para`); lo que se sangra después de la `para` declaración pertenece al bucle.\n",
    "\n",
    "> **Nota:** En el ejemplo anterior, a la variable de bucle se le dio el nombre `char` como mnemónico; es la abreviatura de 'carácter'. Pero, podemos elegir cualquier nombre que queramos para las variables. Incluso podemos llamar a nuestra variable de bucle banana, si usamos este nombre consistentemente: de la línea que inicia el bucle, y debemos sangrar cualquier cosa que queramos ejecutar dentro del bucle. A diferencia de muchos otros lenguajes, no hay ningún comando que signifique el fin del cuerpo del bucle (por ejemplo, `fin para`); lo que se sangra después de la `para` declaración pertenece al bucle.\n",
    "\n",
    "\n",
    "> ```Python\n",
    "> word = 'oxygen'\n",
    "> for banana in word:\n",
    ">     print(banana)\n",
    "> ```\n"
   ]
  },
  {
   "cell_type": "code",
   "execution_count": 5,
   "metadata": {
    "vscode": {
     "languageId": "python"
    }
   },
   "outputs": [
    {
     "name": "stdout",
     "output_type": "stream",
     "text": [
      "There are 5 vowels\n"
     ]
    }
   ],
   "source": [
    "length = 0\n",
    "for vowel in 'aeiou':\n",
    "    length = length + 1\n",
    "print('There are', length, 'vowels')"
   ]
  },
  {
   "cell_type": "markdown",
   "metadata": {},
   "source": [
    "Vale la pena rastrear la ejecución de este pequeño programa paso a paso. Dado que hay cinco caracteres en `'aeiou'`, la declaración en la línea 3 se ejecutará cinco veces. La primera vez alrededor, `longitud` es cero (el valor asignado a ella en la línea 1) y `vocal` es `'a'`. La sentencia añade 1 al valor antiguo de `longitud`, produciendo 1, y actualiza `longitud` para referirse a ese nuevo valor. La próxima vez, `vocal` es `'e'` y `longitud` es 1, por lo que la longitud se actualiza a 2. Después de tres actualizaciones más, `longitud` es 5; ya que no queda nada en `'aeiou'` para que Python procese, el bucle termina y la `print` declaración en la línea 4 nos dice nuestra respuesta final.\n",
    "\n",
    "Tenga en cuenta que una variable de bucle es una variable que se está utilizando para registrar el progreso en un bucle. Todavía existe después de que el bucle ha terminado, y podemos reutilizar variables previamente definidas como variables de bucle también:"
   ]
  },
  {
   "cell_type": "code",
   "execution_count": 6,
   "metadata": {
    "vscode": {
     "languageId": "python"
    }
   },
   "outputs": [
    {
     "name": "stdout",
     "output_type": "stream",
     "text": [
      "a\n",
      "b\n",
      "c\n",
      "after the loop, letter is c\n"
     ]
    }
   ],
   "source": [
    "letter = 'z'\n",
    "for letter in 'abc':\n",
    "    print(letter)\n",
    "print('after the loop, letter is', letter)"
   ]
  },
  {
   "cell_type": "markdown",
   "metadata": {},
   "source": [
    "Tenga en cuenta también que encontrar la longitud de una cadena es una operación tan común que Python en realidad tiene una función incorporada para hacerlo llamada `len`:"
   ]
  },
  {
   "cell_type": "code",
   "execution_count": 7,
   "metadata": {
    "vscode": {
     "languageId": "python"
    }
   },
   "outputs": [
    {
     "name": "stdout",
     "output_type": "stream",
     "text": [
      "5\n"
     ]
    }
   ],
   "source": [
    "print(len('aeiou'))"
   ]
  },
  {
   "cell_type": "markdown",
   "metadata": {},
   "source": [
    "`len` es mucho más rápido que cualquier función que pudiéramos escribir nosotros mismos, y mucho más fácil de leer que un bucle de dos líneas; también nos dará la longitud de muchas otras cosas que aún no hemos cumplido, por lo que siempre debemos usarlo cuando podamos.\n",
    "\n",
    "Ejercicio 1* - De 1 a N\n",
    "\n",
    "Python tiene una función incorporada llamada `range` que genera una secuencia de números. `range` puede aceptar 1, 2 o 3 parámetros.\n",
    "\n",
    "- Si se da un argumento, `rango` genera una secuencia de esa longitud, comenzando en cero y aumentando en 1. Por ejemplo, `rango(3)` produce los números 0, 1, 2.\n",
    "\n",
    "- Si se dan dos argumentos, `rango` comienza en el primero y termina justo antes del segundo, incrementándose en uno. Por ejemplo, `rango(2, 5)` produce 2, 3, 4.\n",
    "\n",
    "- Si `rango` recibe 3 argumentos, comienza en el primero, termina justo antes del segundo, y aumenta en el tercero. Por ejemplo, `rango(3, 10, 2)` produce 3, 5, 7, 9.\n",
    "\n",
    "\n",
    "Usando rango, escribe un bucle que use las primeras 3 positivas, no cero, [natural numbers](https://en.wikipedia.org/wiki/Natural_number):\n",
    "\n"
   ]
  },
  {
   "cell_type": "code",
   "execution_count": 8,
   "metadata": {
    "vscode": {
     "languageId": "python"
    }
   },
   "outputs": [],
   "source": [
    "# Enter your solution here"
   ]
  },
  {
   "cell_type": "markdown",
   "metadata": {},
   "source": [
    "Ejercicio 2* - Entender los bucles\n",
    "Dado el siguiente bucle:\n",
    "\n",
    "```Python\n",
    "word = 'oxygen'\n",
    "for char in word:\n",
    "    print(char)\n",
    "```\n",
    "¿Cuántas veces se ejecuta el cuerpo del bucle?\n",
    "\n",
    "- 3 times\n",
    "- 4 times\n",
    "- 5 times\n",
    "- 6 times\n",
    "\n"
   ]
  },
  {
   "cell_type": "code",
   "execution_count": 9,
   "metadata": {
    "vscode": {
     "languageId": "python"
    }
   },
   "outputs": [],
   "source": [
    "# Enter your solution here"
   ]
  },
  {
   "cell_type": "markdown",
   "metadata": {},
   "source": [
    "# Ejercicio 3 - Computación de poderes con bucles\n",
    "\n",
    "La exponenciación está incorporada en Python:"
   ]
  },
  {
   "cell_type": "code",
   "execution_count": 10,
   "metadata": {
    "vscode": {
     "languageId": "python"
    }
   },
   "outputs": [
    {
     "name": "stdout",
     "output_type": "stream",
     "text": [
      "125\n"
     ]
    }
   ],
   "source": [
    "print(5**3)"
   ]
  },
  {
   "cell_type": "markdown",
   "metadata": {},
   "source": [
    "Escribe un bucle que calcule el mismo resultado que 5 ** 3 usando la multiplicación (y sin exponenciación).\n"
   ]
  },
  {
   "cell_type": "code",
   "execution_count": 1,
   "metadata": {
    "vscode": {
     "languageId": "python"
    }
   },
   "outputs": [],
   "source": [
    "# Introduzca su solución aquí"
   ]
  },
  {
   "cell_type": "markdown",
   "metadata": {},
   "source": [
    "# Ejercicio 4* - Invertir una cadena\n",
    "\n",
    "Sabiendo que dos cadenas pueden ser concatenadas usando el operador + , escribe un bucle que toma una cadena y produce una nueva cadena con los caracteres en orden inverso, por lo que 'Newton' se convierte en 'notweN'.\n"
   ]
  },
  {
   "cell_type": "code",
   "execution_count": 1,
   "metadata": {
    "vscode": {
     "languageId": "python"
    }
   },
   "outputs": [],
   "source": [
    "s = 'Newton'"
   ]
  },
  {
   "cell_type": "markdown",
   "metadata": {},
   "source": [
    "# Ejercicio 5 - Calcular el valor de un polinomio\n",
    "La función integrada `enumerar` toma una secuencia (p. ej., una cadena) y genera una nueva secuencia de la misma longitud. Cada elemento de la nueva secuencia es un par compuesto por el índice (0, 1, 2,...) y el valor de la secuencia original:"
   ]
  },
  {
   "cell_type": "code",
   "execution_count": 13,
   "metadata": {
    "vscode": {
     "languageId": "python"
    }
   },
   "outputs": [
    {
     "name": "stdout",
     "output_type": "stream",
     "text": [
      "0 t\n",
      "1 h\n",
      "2 i\n",
      "3 s\n",
      "4 _\n",
      "5 i\n",
      "6 s\n",
      "7 _\n",
      "8 a\n",
      "9 _\n",
      "10 s\n",
      "11 t\n",
      "12 r\n",
      "13 i\n",
      "14 n\n",
      "15 g\n"
     ]
    }
   ],
   "source": [
    "string = 'this_is_a_string'\n",
    "for index, value in enumerate(string):\n",
    "    print(index, value)"
   ]
  },
  {
   "cell_type": "markdown",
   "metadata": {},
   "source": [
    "El código de arriba gira a través de `cadena`, asignando el índice a `índice` y el valor a `valor`.\n",
    "\n",
    "Supongamos que ha codificado un polinomio como una lista de coeficientes de la siguiente manera: el primer elemento es el término constante, el segundo elemento es el coeficiente del término lineal, el tercero es el coeficiente del término cuadrático, etc."
   ]
  },
  {
   "cell_type": "code",
   "execution_count": 6,
   "metadata": {
    "vscode": {
     "languageId": "python"
    }
   },
   "outputs": [
    {
     "name": "stdout",
     "output_type": "stream",
     "text": [
      "97\n"
     ]
    }
   ],
   "source": [
    "x = 5\n",
    "coefs = [2, 4, 3]\n",
    "y = coefs[0] * x**0 + coefs[1] * x**1 + coefs[2] * x**2\n",
    "print(y)"
   ]
  },
  {
   "cell_type": "markdown",
   "metadata": {},
   "source": [
    "Escribe un bucle usando `enumerar(coefs)` que calcula el valor `y` de cualquier polinomio, dado arbitrario `x` y `coeficientes`.\n"
   ]
  },
  {
   "cell_type": "code",
   "execution_count": 15,
   "metadata": {
    "vscode": {
     "languageId": "python"
    }
   },
   "outputs": [],
   "source": [
    "# Enter your solution here"
   ]
  },
  {
   "cell_type": "markdown",
   "metadata": {},
   "source": [
    "# Puntos clave\n",
    "\n",
    "- Usar `para la variable en secuencia` para procesar los elementos de una secuencia uno a la vez.\n",
    "\n",
    "- Debe sangrarse el cuerpo de un `para` bucle.\n",
    "\n",
    "- Utilice `len(thing)` para determinar la longitud de algo que contiene otros valores."
   ]
  },
  {
   "cell_type": "code",
   "execution_count": null,
   "metadata": {
    "vscode": {
     "languageId": "python"
    }
   },
   "outputs": [],
   "source": []
  }
 ],
 "metadata": {
  "kernelspec": {
   "display_name": "Wolfram Language 12.2",
   "language": "Wolfram Language",
   "name": "wolframlanguage12.2"
  },
  "language_info": {
   "codemirror_mode": {
    "name": "ipython",
    "version": 3
   },
   "file_extension": ".py",
   "mimetype": "text/x-python",
   "name": "Wolfram Language",
   "nbconvert_exporter": "python",
   "pygments_lexer": "ipython3",
   "version": "3.9.6"
  }
 },
 "nbformat": 4,
 "nbformat_minor": 4
}
