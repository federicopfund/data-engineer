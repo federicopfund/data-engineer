{
 "cells": [
  {
   "cell_type": "markdown",
   "metadata": {},
   "source": [
    "# Python Fundamentals\n",
    "\n",
    "## Preguntas\n",
    "\n",
    "- ¿Con que tipo basico de dato puedo trabajar con python?\n",
    "- Como puedo crear una nueva variable en python? \n",
    "  - Que es una \"_variable_\"?\n",
    "- ¿Puedo cambiar los valores asociados con una variable después de crearla?\n",
    "\n",
    "## Objetivos\n",
    "\n",
    "- Asignar valores a las variables\n",
    "- Trabaja con 3 tipos básicos de datos\n",
    "  - float\n",
    "  - integer\n",
    "  - string\n",
    "- Desarrollar la comprensión de las características básicas del lenguaje.\n",
    "  - `print()`\n",
    "  - comments"
   ]
  },
  {
   "cell_type": "markdown",
   "metadata": {},
   "source": [
    "# Variables\n",
    "\n",
    "Un intérprete de python se puede usar como una calculadora."
   ]
  },
  {
   "cell_type": "code",
   "execution_count": 1,
   "metadata": {
    "scrolled": true,
    "vscode": {
     "languageId": "python"
    }
   },
   "outputs": [
    {
     "data": {
      "text/plain": [
       "6"
      ]
     },
     "execution_count": 1,
     "metadata": {},
     "output_type": "execute_result"
    }
   ],
   "source": [
    "3 + 3"
   ]
  },
  {
   "cell_type": "code",
   "execution_count": 2,
   "metadata": {
    "vscode": {
     "languageId": "python"
    }
   },
   "outputs": [
    {
     "data": {
      "text/plain": [
       "10"
      ]
     },
     "execution_count": 2,
     "metadata": {},
     "output_type": "execute_result"
    }
   ],
   "source": [
    "3 * 4 - 2"
   ]
  },
  {
   "cell_type": "markdown",
   "metadata": {},
   "source": [
    "Para hacer cálculos más complicados, es necesario almacenar valores para su uso posterior. Puedes hacer esto en Python usando *variables*. Una variable es un identificador al que le asignamos un valor, y lo hacemos en Python usando el operador =. Podemos llamar a las variables como queramos (con algunas limitaciones). \n",
    "\n",
    "> **NOTE:** En las clases de álgebra en la escuela, es posible que haya encontrado variables comunes con nombres como `x` e `y`. A menudo se mantuvieron cortos para evitar el dolor de escribirlos completos todo el tiempo, ¡pero no tenemos tales limitaciones aquí! Por lo tanto, la brevedad es buena, pero es mejor tener nombres de variables que se expliquen por sí mismos cuando sea posible al programar\n",
    "\n",
    "\n",
    "Por ejemplo, para asignar un valor de `60` a una variable con el nombre `peso_kg`, ejecutamos:"
   ]
  },
  {
   "cell_type": "code",
   "execution_count": 3,
   "metadata": {
    "vscode": {
     "languageId": "python"
    }
   },
   "outputs": [],
   "source": [
    "weight_kg = 60"
   ]
  },
  {
   "cell_type": "markdown",
   "metadata": {},
   "source": [
    "Una vez que hagamos esta asignación, podemos hacer referencia al valor de `60` por `weight_kg` en código futuro. En términos sencillos, una variable es un nombre para un valor."
   ]
  },
  {
   "cell_type": "code",
   "execution_count": 4,
   "metadata": {
    "vscode": {
     "languageId": "python"
    }
   },
   "outputs": [
    {
     "data": {
      "text/plain": [
       "65"
      ]
     },
     "execution_count": 4,
     "metadata": {},
     "output_type": "execute_result"
    }
   ],
   "source": [
    "weight_kg + 5"
   ]
  },
  {
   "cell_type": "markdown",
   "metadata": {},
   "source": [
    "> **NOTE:** Nombres de variables en Python \n",
    "> - puede incluir letras, dígitos y guiones bajos \n",
    "> - no puede comenzar con un dígito \n",
    "> - son sensibles a mayúsculas y minúsculas.\n",
    "> \n",
    ">Esto significa que, por ejemplo:\n",
    "> - `weight0` es un nombre de variable válido,\n",
    "> - mientras que `0weight` no lo es\n",
    "> - `peso` y `Peso` son variables diferentes"
   ]
  },
  {
   "cell_type": "markdown",
   "metadata": {},
   "source": [
    "# Comments"
   ]
  },
  {
   "cell_type": "code",
   "execution_count": 5,
   "metadata": {
    "vscode": {
     "languageId": "python"
    }
   },
   "outputs": [],
   "source": [
    "# en python, todo lo que sigue a un '#' es un \"comentario\" y se ignora cuando se ejecuta el código.\n",
    "# Los comentarios pueden estar en la misma línea que el código ejecutado, o en sus propias líneas separadas.\n",
    "# ¡Recuerda! Las celdas pueden tener varias líneas."
   ]
  },
  {
   "cell_type": "markdown",
   "metadata": {},
   "source": [
    "## Tipos de datos\n",
    "Hay varios tipos de datos en python, pero hay tres que encontrará más que cualquier otro.\n",
    "- integer numbers\n",
    "- floating point numbers\n",
    "- strings\n",
    "\n",
    "En el ejemplo anterior, a `weight_kg` se le asignó un valor entero de `60`. Esto es un [_integer_] https://en.wikipedia.org/wiki/Integer). Los enteros son todos los números positivos o negativos \"enteros\", incluido el 0. [_Floats_](https://en.wikipedia.org/wiki/Floating-point_arithmetic) o \"números de punto flotante\" tienen lugares decimales, y para crear una variable con un valor de punto flotante, necesitamos agregar un punto decimal al número.\n",
    "\n",
    "```python\n",
    "weight_kg = 60.0\n",
    "```\n",
    "A [_string_](https://en.wikipedia.org/wiki/String_(computer_science)) secuencia de caracteres individuales. Para crear una cadena, ponemos comillas dobles `\"` o simples `'` alrededor de algún texto (o cualquier combinación de caracteres que queramos).\n",
    "\n",
    "```python\n",
    "weight_kg_text = 'weight in kilograms:'\n",
    "```\n",
    "\n",
    "Puede usar comillas simples o dobles, pero **no** puede mezclar y combinar. Asi que\n",
    "\n",
    "```python\n",
    "weight_kg_text = 'weight in kilograms:\"\n",
    "```\n",
    "no funcionará ¡Puedes probarlo por ti mismo si lo deseas!\n",
    "\n",
    "> **NOTE:**\n",
    "Puede interrogar el tipo de un valor, o variable, en Python usando la *función** *incorporada* `tipo`.> E.g. \n",
    "> ```python\n",
    "> > type(weight_kg)\n",
    "> int\n",
    "> ```\n",
    "> Cubriremos las funciones más adelante en el curso, ¡así que no se preocupe por esto todavía si es demasiado!"
   ]
  },
  {
   "cell_type": "code",
   "execution_count": null,
   "metadata": {
    "vscode": {
     "languageId": "python"
    }
   },
   "outputs": [],
   "source": [
    "weight_kg = 60.0\n",
    "weight_kg_text = 'weight in kilograms:'"
   ]
  },
  {
   "cell_type": "markdown",
   "metadata": {},
   "source": [
    "# Uso de variables\n",
    "\n",
    "Para la siguiente parte, presentamos el concepto de *funciones*. Son operaciones de diversa complejidad que se pueden almacenar en objetos similares a variables. Cubriremos las funciones con más detalle en la Lección \\#7.\n",
    "\n",
    "> **Aparte de las funciones:**\n",
    "> Las \"funciones\" son similares a las variables; en cuanto son etiquetas que hacen referencia a valores. Sin embargo, con las funciones, los *valores* son *operaciones* y las operaciones devuelven *valores*. Las funciones pueden ser definidas por los usuarios (¡aunque no se preocupe por eso todavía!), y se ejecutan en variables usando paréntesis. Por ejemplo, supongamos que tenemos una función `mi_función` que opera en la variable que creamos anteriormente `peso_kg` y devuelve un nuevo peso. Podemos ejecutar la función y asignar el valor devuelto a una nueva variable `nuevo_peso` haciendo lo siguiente.\n",
    "> \n",
    "> ```Python\n",
    "> new_weight = my_function(weight_kg)\n",
    "> # Functions don't have to return anything, however, and can just operate on things in place. This...\n",
    "> my_function(weight_kg)\n",
    "> # is also valid, and the value returned is essentially discarded.\n",
    "> ```\n",
    "> \n",
    "> The values the function operates on (that we refer to using variables) are known as *arguments*. In `my_function(weight_kg)` `weight_kg` is the argument of the function.\n",
    "> \n",
    "> Python has a multitude of built-in functions that are ready to use immediately. The most common of these we will use as a case study: `print`.\n",
    "\n",
    "\n",
    "## `print`\n",
    "\n",
    "In Jupyter notebooks (like this one) you have seen that running a cell with a lone variable at the end outputs the value of that variable to the screen. This is only common in interactive python interpreters. If you are using an IDE (Integrated Development Environment), like PyCharm or Spyder, then you typically do not get standard outputs like this. To output values of variables to the screen in those, you need to use the `print` function. This \"prints\" the arguments of the function to the screen/console window.\n",
    "\n",
    "```Python\n",
    "# print the weight_kg variable to screen\n",
    "print(weight_kg)\n",
    "# print the weight_kg_text variable\n",
    "print(weight_kg_text)\n",
    "```\n"
   ]
  },
  {
   "cell_type": "code",
   "execution_count": null,
   "metadata": {
    "vscode": {
     "languageId": "python"
    }
   },
   "outputs": [],
   "source": [
    "# print the weight_kg variable to screen\n",
    "print(weight_kg)\n",
    "# print the weight_kg_text variable\n",
    "print(weight_kg_text)"
   ]
  },
  {
   "cell_type": "markdown",
   "metadata": {},
   "source": [
    "But the `print` statement can also take multiple arguments and it will print them consecutively on the same line! To give multiple arguments at once to the function we separate them with commas.\n",
    "```Python\n",
    "print('argument 1', 'argument 2')\n",
    "```"
   ]
  },
  {
   "cell_type": "code",
   "execution_count": null,
   "metadata": {
    "vscode": {
     "languageId": "python"
    }
   },
   "outputs": [],
   "source": [
    "print('argument 1', 'argument 2')\n",
    "# We can use this to combine the two variables from the previous exercise into a useful print statement\n",
    "print(weight_kg_text, weight_kg)\n",
    "# We can also go the opposite way and provide 0 arguments, which just prints a blank line\n",
    "print()\n",
    "print('newline')"
   ]
  },
  {
   "cell_type": "markdown",
   "metadata": {},
   "source": [
    "# Editing Variables\n",
    "\n",
    "Variables can be edited after creation simply by assigning them again. This can happen any number of times. For example,\n",
    "\n",
    "```Python\n",
    "# Trailing zeros are not needed after a decimal point in python. 60. is equaivalent to 60.0 and 60.00 etc.\n",
    "weight_kg = 60.\n",
    "weight_kg = 62.\n",
    "```\n",
    "\n",
    "Whenever we perform an operation, unless we assign the value it returns to a variable, the variables involved are not affected.\n",
    "\n",
    "```Python\n",
    "weight_lb = weight_kg * 2.2\n",
    "```\n",
    "\n",
    "In the above command, the `weight_kg` variable is multiplied by 2.2 and assigned to a new variable `weight_lb`. `weight_kg` does not change because we have not assigned anything to it using `=`.\n",
    "\n",
    "Finally, you may have noticed we can both use a variable and assign it in the same command. What do you think will happen? Suppose instead of a new variable, we made a mistake typing out the above command and instead wrote this.\n",
    "\n",
    "```Python\n",
    "weight_kg = weight_kg * 2.2\n",
    "```\n",
    "\n",
    "What would happen? In Python the operation on the right is performed first and the result is assigned to the variable on the right. So, in this case, 62 is multiplied by 2.2 and then the result is assigned to the `weight_kg` variable. Try this out below!"
   ]
  },
  {
   "cell_type": "code",
   "execution_count": null,
   "metadata": {
    "vscode": {
     "languageId": "python"
    }
   },
   "outputs": [],
   "source": [
    "print(weight_kg)\n",
    "weight_kg = weight_kg * 2.2\n",
    "print(weight_kg)\n",
    "# this kind of statement may seem unusual now but is common in programming!"
   ]
  },
  {
   "cell_type": "markdown",
   "metadata": {},
   "source": [
    "> ### Note on Exercises in the Live Version of this Course\n",
    "> In many of the lessons far more exercises are included than can be finished in the time provided. You are not expected to do them all! Exercises marked with a **\"\\*\"** are intended to be completed within the class, and the remaining exercises can be completed at your leisure, if you choose to. Although if you do finish the mandatory exercises with time to spare, you should move onto the others. Exercises are approximately ordered by difficulty and grouped by subject. Starred exercises should be attempted in numerically ascending order."
   ]
  },
  {
   "cell_type": "markdown",
   "metadata": {},
   "source": [
    "# Exercise 1*\n",
    "\n",
    "Create 3 variables. One must contain the sum of the numbers 1, 2, 3, 4, 5. One must contain half this value. The final must state which number exercise this is in a string (e.g. if it were exercise 10, then the string should be `'ten'`). \n"
   ]
  },
  {
   "cell_type": "code",
   "execution_count": 1,
   "metadata": {
    "vscode": {
     "languageId": "python"
    }
   },
   "outputs": [],
   "source": [
    "# Enter your solution here"
   ]
  },
  {
   "cell_type": "markdown",
   "metadata": {},
   "source": [
    "# Exercise 2*\n",
    "\n",
    "Check your understanding. At the end of each of the following lines of code, what are the values of the variables `mass` and `age`? Execute each line yourself, to test your answer.\n",
    "\n",
    "```Python\n",
    "mass = 47.5\n",
    "age = 122\n",
    "mass = mass * 2.0\n",
    "age = age - 20\n",
    "```\n"
   ]
  },
  {
   "cell_type": "code",
   "execution_count": null,
   "metadata": {
    "vscode": {
     "languageId": "python"
    }
   },
   "outputs": [],
   "source": [
    "# Enter your solution here"
   ]
  },
  {
   "cell_type": "markdown",
   "metadata": {},
   "source": [
    "# Exercise 3\n",
    "\n",
    "[countdown numbers-round](https://en.wikipedia.org/wiki/Countdown_(game_show))-style, achieve the target number:\n",
    "\n",
    "**458**\n",
    "\n",
    "using the following numbers. Each can only be used once, but they do not *have* to be used.\n",
    "\n",
    "50, 8, 8, 75, 1, 10\n",
    "\n",
    "and the following operators, which can be used as many times as you like. Every time you perform a calculation, store the result in the same variable called `result`.\n",
    "\n",
    "- addition: `+`\n",
    "- subtraction: `-`\n",
    "- multiplication: `*`\n",
    "- division: `/`\n",
    "\n",
    "In countdown you aren't supposed to use powers, but I've included it here for posterity.\n",
    "\n",
    "- power: `**` *(Note: it is not `^`, which you may have expected!)*\n",
    "\n",
    "Cells can also be edited and re-run multiple times."
   ]
  },
  {
   "cell_type": "code",
   "execution_count": null,
   "metadata": {
    "vscode": {
     "languageId": "python"
    }
   },
   "outputs": [],
   "source": [
    "result = 0\n",
    "# Enter your solution here using the result\n",
    "# The below is one example; there are multiple ways to do this!\n",
    "# It is up to you to think of another\n",
    "result = 50 * 8\n",
    "result = result + 75\n",
    "result = result - (8 + 10)\n",
    "result = result + 1\n",
    "result\n",
    "\n"
   ]
  },
  {
   "cell_type": "markdown",
   "metadata": {},
   "source": [
    "# Exercise 4*\n",
    "\n",
    "For this exercise you should know that commas are *the* separator in Python and crop up all over the place!\n",
    "\n",
    "What does the following program print out? Have a think about why.\n",
    "\n",
    "```Python\n",
    "first, second = 'Grace', 'Hopper'\n",
    "third, fourth = second, first\n",
    "print(third, fourth)\n",
    "```\n"
   ]
  },
  {
   "cell_type": "code",
   "execution_count": null,
   "metadata": {
    "vscode": {
     "languageId": "python"
    }
   },
   "outputs": [],
   "source": []
  },
  {
   "cell_type": "markdown",
   "metadata": {},
   "source": [
    "# Key Points\n",
    "\n",
    "- Basic data types in Python include integers, strings, and floating-point numbers.\n",
    "\n",
    "- Use variable `=` value to assign a value to a variable in order to record it in memory.\n",
    "\n",
    "- Variables are created on demand whenever a value is assigned to them.\n",
    "\n",
    "- Use `print(something)` to display the value of something."
   ]
  },
  {
   "cell_type": "markdown",
   "metadata": {},
   "source": [
    "This work is derived from work that is Copyright © [Software Carpentry](http://software-carpentry.org/), under the CC-by [license](https://creativecommons.org/licenses/by/4.0/). The text has been paraphrased partially in some locations, with some additional exercises and images included, but the vast majority of the content is derived from the Software Carpentry lesson."
   ]
  },
  {
   "cell_type": "code",
   "execution_count": null,
   "metadata": {
    "vscode": {
     "languageId": "python"
    }
   },
   "outputs": [],
   "source": []
  }
 ],
 "metadata": {
  "kernelspec": {
   "display_name": "Wolfram Language 12.2",
   "language": "Wolfram Language",
   "name": "wolframlanguage12.2"
  },
  "language_info": {
   "codemirror_mode": {
    "name": "ipython",
    "version": 3
   },
   "file_extension": ".py",
   "mimetype": "text/x-python",
   "name": "Wolfram Language",
   "nbconvert_exporter": "python",
   "pygments_lexer": "ipython3",
   "version": "3.8.8"
  }
 },
 "nbformat": 4,
 "nbformat_minor": 4
}
