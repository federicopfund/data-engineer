{
 "cells": [
  {
   "cell_type": "markdown",
   "metadata": {},
   "source": [
    "# Python Fundamentals\n",
    "\n",
    "## Preguntas\n",
    "\n",
    "- ¿Con que tipo basico de dato puedo trabajar con python?\n",
    "- Como puedo crear una nueva variable en python? \n",
    "  - Que es una \"_variable_\"?\n",
    "- ¿Puedo cambiar los valores asociados con una variable después de crearla?\n",
    "\n",
    "## Objetivos\n",
    "\n",
    "- Asignar valores a las variables\n",
    "- Trabaja con 3 tipos básicos de datos\n",
    "  - float\n",
    "  - integer\n",
    "  - string\n",
    "- Desarrollar la comprensión de las características básicas del lenguaje.\n",
    "  - `print()`\n",
    "  - comments"
   ]
  },
  {
   "cell_type": "markdown",
   "metadata": {},
   "source": [
    "# Variables\n",
    "\n",
    "Un intérprete de python se puede usar como una calculadora."
   ]
  },
  {
   "cell_type": "code",
   "execution_count": 1,
   "metadata": {
    "scrolled": true,
    "vscode": {
     "languageId": "python"
    }
   },
   "outputs": [
    {
     "data": {
      "text/plain": [
       "6"
      ]
     },
     "execution_count": 1,
     "metadata": {},
     "output_type": "execute_result"
    }
   ],
   "source": [
    "3 + 3"
   ]
  },
  {
   "cell_type": "code",
   "execution_count": 2,
   "metadata": {
    "vscode": {
     "languageId": "python"
    }
   },
   "outputs": [
    {
     "data": {
      "text/plain": [
       "10"
      ]
     },
     "execution_count": 2,
     "metadata": {},
     "output_type": "execute_result"
    }
   ],
   "source": [
    "3 * 4 - 2"
   ]
  },
  {
   "cell_type": "markdown",
   "metadata": {},
   "source": [
    "Para hacer cálculos más complicados, es necesario almacenar valores para su uso posterior. Puedes hacer esto en Python usando *variables*. Una variable es un identificador al que le asignamos un valor, y lo hacemos en Python usando el operador =. Podemos llamar a las variables como queramos (con algunas limitaciones). \n",
    "\n",
    "> **NOTE:** En las clases de álgebra en la escuela, es posible que haya encontrado variables comunes con nombres como `x` e `y`. A menudo se mantuvieron cortos para evitar el dolor de escribirlos completos todo el tiempo, ¡pero no tenemos tales limitaciones aquí! Por lo tanto, la brevedad es buena, pero es mejor tener nombres de variables que se expliquen por sí mismos cuando sea posible al programar\n",
    "\n",
    "\n",
    "Por ejemplo, para asignar un valor de `60` a una variable con el nombre `peso_kg`, ejecutamos:"
   ]
  },
  {
   "cell_type": "code",
   "execution_count": 3,
   "metadata": {
    "vscode": {
     "languageId": "python"
    }
   },
   "outputs": [],
   "source": [
    "weight_kg = 60"
   ]
  },
  {
   "cell_type": "markdown",
   "metadata": {},
   "source": [
    "Una vez que hagamos esta asignación, podemos hacer referencia al valor de `60` por `weight_kg` en código futuro. En términos sencillos, una variable es un nombre para un valor."
   ]
  },
  {
   "cell_type": "code",
   "execution_count": 4,
   "metadata": {
    "vscode": {
     "languageId": "python"
    }
   },
   "outputs": [
    {
     "data": {
      "text/plain": [
       "65"
      ]
     },
     "execution_count": 4,
     "metadata": {},
     "output_type": "execute_result"
    }
   ],
   "source": [
    "weight_kg + 5"
   ]
  },
  {
   "cell_type": "markdown",
   "metadata": {},
   "source": [
    "> **NOTE:** Nombres de variables en Python \n",
    "> - puede incluir letras, dígitos y guiones bajos \n",
    "> - no puede comenzar con un dígito \n",
    "> - son sensibles a mayúsculas y minúsculas.\n",
    "> \n",
    ">Esto significa que, por ejemplo:\n",
    "> - `weight0` es un nombre de variable válido,\n",
    "> - mientras que `0weight` no lo es\n",
    "> - `peso` y `Peso` son variables diferentes"
   ]
  },
  {
   "cell_type": "markdown",
   "metadata": {},
   "source": [
    "# Comments"
   ]
  },
  {
   "cell_type": "code",
   "execution_count": 5,
   "metadata": {
    "vscode": {
     "languageId": "python"
    }
   },
   "outputs": [],
   "source": [
    "# en python, todo lo que sigue a un '#' es un \"comentario\" y se ignora cuando se ejecuta el código.\n",
    "# Los comentarios pueden estar en la misma línea que el código ejecutado, o en sus propias líneas separadas.\n",
    "# ¡Recuerda! Las celdas pueden tener varias líneas."
   ]
  },
  {
   "cell_type": "markdown",
   "metadata": {},
   "source": [
    "## Tipos de datos\n",
    "Hay varios tipos de datos en python, pero hay tres que encontrará más que cualquier otro.\n",
    "- integer numbers\n",
    "- floating point numbers\n",
    "- strings\n",
    "\n",
    "En el ejemplo anterior, a `weight_kg` se le asignó un valor entero de `60`. Esto es un [_integer_] https://en.wikipedia.org/wiki/Integer). Los enteros son todos los números positivos o negativos \"enteros\", incluido el 0. [_Floats_](https://en.wikipedia.org/wiki/Floating-point_arithmetic) o \"números de punto flotante\" tienen lugares decimales, y para crear una variable con un valor de punto flotante, necesitamos agregar un punto decimal al número.\n",
    "\n",
    "```python\n",
    "weight_kg = 60.0\n",
    "```\n",
    "A [_string_](https://en.wikipedia.org/wiki/String_(computer_science)) secuencia de caracteres individuales. Para crear una cadena, ponemos comillas dobles `\"` o simples `'` alrededor de algún texto (o cualquier combinación de caracteres que queramos).\n",
    "\n",
    "```python\n",
    "weight_kg_text = 'weight in kilograms:'\n",
    "```\n",
    "\n",
    "Puede usar comillas simples o dobles, pero **no** puede mezclar y combinar. Asi que\n",
    "\n",
    "```python\n",
    "weight_kg_text = 'weight in kilograms:\"\n",
    "```\n",
    "no funcionará ¡Puedes probarlo por ti mismo si lo deseas!\n",
    "\n",
    "> **NOTE:**\n",
    "Puede interrogar el tipo de un valor, o variable, en Python usando la *función** *incorporada* `tipo`.> E.g. \n",
    "> ```python\n",
    "> > type(weight_kg)\n",
    "> int\n",
    "> ```\n",
    "> Cubriremos las funciones más adelante en el curso, ¡así que no se preocupe por esto todavía si es demasiado!"
   ]
  },
  {
   "cell_type": "code",
   "execution_count": null,
   "metadata": {
    "vscode": {
     "languageId": "python"
    }
   },
   "outputs": [],
   "source": [
    "weight_kg = 60.0\n",
    "weight_kg_text = 'weight in kilograms:'"
   ]
  },
  {
   "cell_type": "markdown",
   "metadata": {},
   "source": [
    "# Uso de variables\n",
    "\n",
    "Para la siguiente parte, presentamos el concepto de *funciones*. Son operaciones de diversa complejidad que se pueden almacenar en objetos similares a variables. Cubriremos las funciones con más detalle en la Lección \\#7.\n",
    "\n",
    "> **Aparte de las funciones:**\n",
    "> Las \"funciones\" son similares a las variables; en cuanto son etiquetas que hacen referencia a valores. Sin embargo, con las funciones, los *valores* son *operaciones* y las operaciones devuelven *valores*. Las funciones pueden ser definidas por los usuarios (¡aunque no se preocupe por eso todavía!), y se ejecutan en variables usando paréntesis. Por ejemplo, supongamos que tenemos una función `mi_función` que opera en la variable que creamos anteriormente `peso_kg` y devuelve un nuevo peso. Podemos ejecutar la función y asignar el valor devuelto a una nueva variable `nuevo_peso` haciendo lo siguiente.\n",
    "> \n",
    "> ```Python\n",
    "> new_weight = my_function(weight_kg)\n",
    "> # Functions don't have to return anything, however, and can just operate on things in place. This...\n",
    "> my_function(weight_kg)\n",
    "> # is also valid, and the value returned is essentially discarded.\n",
    "> ```\n",
    "> \n",
    "> The values the function operates on (that we refer to using variables) are known as *arguments*. In `my_function(weight_kg)` `weight_kg` is the argument of the function.\n",
    "> \n",
    "> Python has a multitude of built-in functions that are ready to use immediately. The most common of these we will use as a case study: `print`.\n",
    "\n",
    "\n",
    "## `print`\n",
    "\n",
    "data Jupyter notebooks (como este) se ha visto que ejecutar una celda con una variable solitaria al final de las salidas del valor de esa variable a la pantalla. Esto solo es común en intérpretes interactivos de python. Si está utilizando un IDE (Entorno de desarrollo integrado), como PyCharm o Spyder, entonces normalmente no obtiene salidas estándar como esta. Para enviar valores de variables a la pantalla en esos, debe usar la función `print` . Esto \"imprime\" los argumentos de la función en la ventana de pantalla/consola.\n",
    "\n",
    "```Python\n",
    "# print the weight_kg variable to screen\n",
    "print(weight_kg)\n",
    "# print the weight_kg_text variable\n",
    "print(weight_kg_text)\n",
    "```\n"
   ]
  },
  {
   "cell_type": "code",
   "execution_count": null,
   "metadata": {
    "vscode": {
     "languageId": "python"
    }
   },
   "outputs": [],
   "source": [
    "# print the weight_kg variable to screen\n",
    "print(weight_kg)\n",
    "# print the weight_kg_text variable\n",
    "print(weight_kg_text)"
   ]
  },
  {
   "cell_type": "markdown",
   "metadata": {},
   "source": [
    "Pero la declaración `print` también puede tomar múltiples argumentos y los imprimirá consecutivamente en la misma línea! Para dar múltiples argumentos a la vez a la función los separamos con comas.\n",
    "\n",
    "```Python\n",
    "print('argument 1', 'argument 2')\n",
    "```"
   ]
  },
  {
   "cell_type": "code",
   "execution_count": null,
   "metadata": {
    "vscode": {
     "languageId": "python"
    }
   },
   "outputs": [],
   "source": [
    "print('argument 1', 'argument 2')\n",
    "# We can use this to combine the two variables from the previous exercise into a useful print statement\n",
    "print(weight_kg_text, weight_kg)\n",
    "# We can also go the opposite way and provide 0 arguments, which just prints a blank line\n",
    "print()\n",
    "print('newline')"
   ]
  },
  {
   "cell_type": "markdown",
   "metadata": {},
   "source": [
    "# Editing Variables\n",
    "\n",
    "Las variables se pueden editar después de la creación simplemente asignándolas de nuevo. Esto puede suceder cualquier número de veces. Por ejemplo,\n",
    "\n",
    "```Python\n",
    "# Los ceros finales no son necesarios después de un punto decimal en python. 60. es equaivalent a 60.0 y 60.00 etc.\n",
    "weight_kg = 60.\n",
    "weight_kg = 62.\n",
    "```\n",
    "\n",
    "Cada vez que realizamos una operación, a menos que asignemos el valor que devuelve a una variable, las variables involucradas no se verán afectadas.\n",
    "\n",
    "```Python\n",
    "weight_lb = weight_kg * 2.2\n",
    "```\n",
    "\n",
    "\n",
    "En el comando anterior, la variable `weight_kg` se multiplica por 2.2 y se asigna a una nueva variable `weight_lb`. `weight_kg` no cambia porque no le hemos asignado nada usando `=`.\n",
    "\n",
    "Por último, es posible que haya notado que podemos usar una variable y asignarla en el mismo comando. ¿Qué cree que ocurrirá? Supongamos que en lugar de una nueva variable, cometimos un error al escribir el comando anterior y en su lugar escribimos esto.\n",
    "\n",
    "```Python\n",
    "weight_kg = weight_kg * 2.2\n",
    "```\n",
    "\n",
    "¿Qué pasaría? En Python la operación de la derecha se realiza primero y el resultado se asigna a la variable de la derecha. Por lo tanto, en este caso, 62 se multiplica por 2.2 y luego el resultado se asigna a la variable `weight_kg` . Pruebe esto a continuación!"
   ]
  },
  {
   "cell_type": "code",
   "execution_count": null,
   "metadata": {
    "vscode": {
     "languageId": "python"
    }
   },
   "outputs": [],
   "source": [
    "print(weight_kg)\n",
    "weight_kg = weight_kg * 2.2\n",
    "print(weight_kg)\n",
    "# este tipo de declaración puede parecer inusual ahora, pero es común en la programación!\n"
   ]
  },
  {
   "cell_type": "markdown",
   "metadata": {},
   "source": [
    "> #### Nota sobre ejercicios en la versión en vivo de este curso\n",
    "> En muchas de las lecciones se incluyen muchos más ejercicios de los que se pueden terminar en el tiempo proporcionado. ¡No se espera que los hagas todos! Los ejercicios marcados con un **\" *\"** están destinados a ser completados dentro de la clase, y los ejercicios restantes se pueden completar en su tiempo libre, si así lo desea. Aunque si terminas los ejercicios obligatorios con tiempo de sobra, debes pasar a los demás. Los ejercicios están aproximadamente ordenados por dificultad y agrupados por tema. Los ejercicios con estrellas deben intentarse en orden ascendente numérico."
   ]
  },
  {
   "cell_type": "markdown",
   "metadata": {},
   "source": [
    "# Ejercicio 1*\n",
    "\n",
    "Crear 3 variables. Uno debe contener la suma de los números 1, 2, 3, 4, 5. Uno debe contener la mitad de este valor. El último debe indicar qué número ejercita esto en una cadena (e.g. si fuera ejercicio 10, entonces la cadena debe ser `'ten'`). \n"
   ]
  },
  {
   "cell_type": "markdown",
   "metadata": {},
   "source": [
    "Ejercicio 2*\n",
    "\n",
    "Compruebe su comprensión. Al final de cada una de las siguientes líneas de código, ¿cuáles son los valores de las variables `mass` y `age`? Ejecuta cada línea tú mismo, para probar tu respuesta.\n",
    "\n",
    "```Python\n",
    "mass = 47.5\n",
    "age = 122\n",
    "mass = mass * 2.0\n",
    "age = age - 20\n",
    "```\n"
   ]
  },
  {
   "cell_type": "markdown",
   "metadata": {},
   "source": [
    "# Exercise 3\n",
    "\n",
    "[countdown numbers-round](https://en.wikipedia.org/wiki/Countdown_(game_show))-style, achieve the target number:\n",
    "\n",
    "**458**\n",
    "\n",
    "usando los siguientes números. Cada uno solo se puede usar una vez, pero no *tienen* que usar.\n",
    "\n",
    "50, 8, 8, 75, 1, 10\n",
    "\n",
    "y los siguientes operadores, que se pueden utilizar tantas veces como desee. Cada vez que realice un cálculo, almacene el resultado en la misma variable llamada `resultado`.\n",
    "\n",
    "- addition: `+`\n",
    "- subtraction: `-`\n",
    "- multiplication: `*`\n",
    "- division: `/`\n",
    "\n",
    "En la cuenta atrás no se supone que uses poderes, pero lo he incluido aquí para la posteridad.\n",
    "\n",
    "- power: `**` *(Note: it is not `^`, which you may have expected!)*\n",
    "\n",
    "Las celdas también se pueden editar y volver a ejecutarse varias veces."
   ]
  },
  {
   "cell_type": "code",
   "execution_count": null,
   "metadata": {
    "vscode": {
     "languageId": "python"
    }
   },
   "outputs": [],
   "source": [
    "result = 0\n",
    "# Introduzca su solución aquí usando el resultado\n",
    "# El siguiente es un ejemplo; ¡hay varias maneras de hacer esto!\n",
    "# Depende de ti pensar en otro\n",
    "result = 50 * 8\n",
    "result = result + 75\n",
    "result = result - (8 + 10)\n",
    "result = result + 1\n",
    "result\n",
    "\n"
   ]
  },
  {
   "cell_type": "markdown",
   "metadata": {},
   "source": [
    "# Ejercicio 4*\n",
    "\n",
    "Para este ejercicio debes saber que las comas son *el* separador en Python y aparecen por todas partes!\n",
    "\n",
    "¿Qué imprime el siguiente programa? Piense por qué.\n",
    "\n",
    "```Python\n",
    "first, second = 'Grace', 'Hopper'\n",
    "third, fourth = second, first\n",
    "print(third, fourth)\n",
    "```\n"
   ]
  },
  {
   "cell_type": "markdown",
   "metadata": {},
   "source": [
    "# Puntos clave\n",
    "\n",
    "- Los tipos de datos básicos en Python incluyen números enteros, cadenas y números de coma flotante.\n",
    "\n",
    "- Utilice la variable `=` valor para asignar un valor a una variable para grabarla en memoria.\n",
    "\n",
    "- Las variables se crean bajo demanda cada vez que se les asigna un valor.\n",
    "\n",
    "- Utilice `print(algo)` para mostrar el valor de algo."
   ]
  }
 ],
 "metadata": {
  "kernelspec": {
   "display_name": "Wolfram Language 12.2",
   "language": "Wolfram Language",
   "name": "wolframlanguage12.2"
  },
  "language_info": {
   "codemirror_mode": {
    "name": "ipython",
    "version": 3
   },
   "file_extension": ".py",
   "mimetype": "text/x-python",
   "name": "Wolfram Language",
   "nbconvert_exporter": "python",
   "pygments_lexer": "ipython3",
   "version": "3.8.8"
  }
 },
 "nbformat": 4,
 "nbformat_minor": 4
}
