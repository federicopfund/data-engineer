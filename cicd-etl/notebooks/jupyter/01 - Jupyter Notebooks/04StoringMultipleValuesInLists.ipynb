{
 "cells": [
  {
   "cell_type": "markdown",
   "metadata": {},
   "source": [
    "# Almacenar múltiples valores en listas\n",
    "\n",
    "\n",
    "## Questions\n",
    "\n",
    "- ¿Cómo puedo almacenar muchos valores juntos?\n",
    "\n",
    "## Objetivos\n",
    "\n",
    "- Explicar qué es una lista.\n",
    "\n",
    "- Crear e indexar listas de valores simples.\n",
    "\n",
    "- Cambiar los valores de los elementos individuales\n",
    "\n",
    "- Añadir valores a una lista existente\n",
    "\n",
    "- Reordenar y cortar los elementos de la lista\n",
    "\n",
    "- Crear y manipular listas anidadas\n",
    "\n",
    "Similar a una cadena que puede contener muchos caracteres, una lista es un contenedor que puede almacenar muchos valores. A diferencia de los arrays de NumPy, las listas están integradas en el lenguaje (por lo que no tenemos que cargar una biblioteca para usarlas). Creamos una lista poniendo valores entre corchetes y separando los valores con comas:"
   ]
  },
  {
   "cell_type": "code",
   "execution_count": 1,
   "metadata": {
    "vscode": {
     "languageId": "python"
    }
   },
   "outputs": [
    {
     "name": "stdout",
     "output_type": "stream",
     "text": [
      "odds are: [1, 3, 5, 7]\n"
     ]
    }
   ],
   "source": [
    "odds = [1, 3, 5, 7]\n",
    "print('odds are:', odds)"
   ]
  },
  {
   "cell_type": "markdown",
   "metadata": {},
   "source": [
    "Podemos acceder a elementos de una lista usando índices - posiciones numeradas de elementos en la lista. Estas posiciones están numeradas a partir de 0, por lo que el primer elemento tiene un índice de 0."
   ]
  },
  {
   "cell_type": "code",
   "execution_count": 2,
   "metadata": {
    "vscode": {
     "languageId": "python"
    }
   },
   "outputs": [
    {
     "name": "stdout",
     "output_type": "stream",
     "text": [
      "first element: 1\n",
      "last element: 7\n",
      "\"-1\" element: 7\n"
     ]
    }
   ],
   "source": [
    "print('first element:', odds[0])\n",
    "print('last element:', odds[3])\n",
    "print('\"-1\" element:', odds[-1])"
   ]
  },
  {
   "cell_type": "markdown",
   "metadata": {},
   "source": [
    "Sí, podemos usar números negativos como índices en Python. Cuando lo hacemos, el índice `-1` nos da el último elemento de la lista, `-2` el segundo al último, y así sucesivamente. Debido a esto, `odds[3]` y `odds[-1]` apuntan al mismo elemento aquí.\n",
    "\n",
    "Si hacemos un bucle sobre una lista, la variable loop se asigna a sus elementos uno a la vez:"
   ]
  },
  {
   "cell_type": "code",
   "execution_count": 3,
   "metadata": {
    "vscode": {
     "languageId": "python"
    }
   },
   "outputs": [
    {
     "name": "stdout",
     "output_type": "stream",
     "text": [
      "1\n",
      "3\n",
      "5\n",
      "7\n"
     ]
    }
   ],
   "source": [
    "for number in odds:\n",
    "    print(number)"
   ]
  },
  {
   "cell_type": "markdown",
   "metadata": {},
   "source": [
    "Hay una diferencia importante entre listas y cadenas: podemos cambiar los valores de una lista, pero no podemos cambiar caracteres individuales en una cadena. Por ejemplo:\n",
    "\n"
   ]
  },
  {
   "cell_type": "code",
   "execution_count": 4,
   "metadata": {
    "vscode": {
     "languageId": "python"
    }
   },
   "outputs": [
    {
     "name": "stdout",
     "output_type": "stream",
     "text": [
      "names is originally: ['Curie', 'Darwing', 'Turing']\n",
      "final value of names: ['Curie', 'Darwin', 'Turing']\n"
     ]
    }
   ],
   "source": [
    "names = ['Curie', 'Darwing', 'Turing']  # typo in Darwin's name\n",
    "print('names is originally:', names)\n",
    "names[1] = 'Darwin'  # correct the name\n",
    "print('final value of names:', names)"
   ]
  },
  {
   "cell_type": "markdown",
   "metadata": {},
   "source": [
    "works, but:"
   ]
  },
  {
   "cell_type": "code",
   "execution_count": 5,
   "metadata": {
    "vscode": {
     "languageId": "python"
    }
   },
   "outputs": [
    {
     "ename": "TypeError",
     "evalue": "'str' object does not support item assignment",
     "output_type": "error",
     "traceback": [
      "\u001b[0;31m---------------------------------------------------------------------------\u001b[0m",
      "\u001b[0;31mTypeError\u001b[0m                                 Traceback (most recent call last)",
      "\u001b[0;32m<ipython-input-5-9030064e45ad>\u001b[0m in \u001b[0;36m<module>\u001b[0;34m\u001b[0m\n\u001b[1;32m      1\u001b[0m \u001b[0mname\u001b[0m \u001b[0;34m=\u001b[0m \u001b[0;34m'Darwin'\u001b[0m\u001b[0;34m\u001b[0m\u001b[0;34m\u001b[0m\u001b[0m\n\u001b[0;32m----> 2\u001b[0;31m \u001b[0mname\u001b[0m\u001b[0;34m[\u001b[0m\u001b[0;36m0\u001b[0m\u001b[0;34m]\u001b[0m \u001b[0;34m=\u001b[0m \u001b[0;34m'd'\u001b[0m\u001b[0;34m\u001b[0m\u001b[0;34m\u001b[0m\u001b[0m\n\u001b[0m",
      "\u001b[0;31mTypeError\u001b[0m: 'str' object does not support item assignment"
     ]
    }
   ],
   "source": [
    "name = 'Darwin'\n",
    "name[0] = 'd'"
   ]
  },
  {
   "cell_type": "markdown",
   "metadata": {},
   "source": [
    "does not. "
   ]
  },
  {
   "cell_type": "markdown",
   "metadata": {},
   "source": [
    "# Mutabilidad\n",
    "\n",
    "Los datos que se pueden modificar en su lugar se denominan *mutables*, mientras que los datos que no se pueden modificar se denominan *inmutables*. Las cadenas y los números son inmutables. Esto no significa que las variables con valores de cadena o número sean constantes, pero cuando queremos cambiar el valor de una cadena o variable numérica, solo podemos reemplazar el valor anterior con un valor completamente nuevo.\n",
    "\n",
    "Las listas y las matrices, por otro lado, son mutables: podemos modificarlas después de haberlas creado. Podemos cambiar elementos individuales, añadir nuevos elementos o reordenar toda la lista. Para algunas operaciones, como la ordenación, podemos elegir si usar una función que modifique los datos en el lugar o una función que devuelva una copia modificada y deje el original sin cambios.\n",
    "\n",
    "Tenga cuidado al modificar los datos en su lugar. Si dos variables se refieren a la misma lista, y modifica el valor de la lista, ¡cambiará para ambas variables!"
   ]
  },
  {
   "cell_type": "code",
   "execution_count": 6,
   "metadata": {
    "vscode": {
     "languageId": "python"
    }
   },
   "outputs": [
    {
     "name": "stdout",
     "output_type": "stream",
     "text": [
      "Ingredients in my salsa: ['hot peppers', 'onions', 'cilantro', 'tomatoes']\n"
     ]
    }
   ],
   "source": [
    "salsa = ['peppers', 'onions', 'cilantro', 'tomatoes']\n",
    "my_salsa = salsa        # <-- my_salsa and salsa point to the *same* list data in memory\n",
    "salsa[0] = 'hot peppers'\n",
    "print('Ingredients in my salsa:', my_salsa)"
   ]
  },
  {
   "cell_type": "markdown",
   "metadata": {},
   "source": [
    "Si desea que las variables con valores mutables sean independientes, debe hacer una copia del valor cuando lo asigne."
   ]
  },
  {
   "cell_type": "code",
   "execution_count": 7,
   "metadata": {
    "vscode": {
     "languageId": "python"
    }
   },
   "outputs": [
    {
     "name": "stdout",
     "output_type": "stream",
     "text": [
      "Ingredients in my salsa: ['peppers', 'onions', 'cilantro', 'tomatoes']\n"
     ]
    }
   ],
   "source": [
    "salsa = ['peppers', 'onions', 'cilantro', 'tomatoes']\n",
    "my_salsa = list(salsa)        # <-- makes a *copy* of the list\n",
    "salsa[0] = 'hot peppers'\n",
    "print('Ingredients in my salsa:', my_salsa)"
   ]
  },
  {
   "cell_type": "markdown",
   "metadata": {},
   "source": [
    "Debido a trampas como esta, el código que modifica los datos en su lugar puede ser más difícil de entender. Sin embargo, a menudo es mucho más eficiente modificar una estructura de datos grande que crear una copia modificada para cada pequeño cambio. Debes considerar ambos aspectos al escribir tu código.\n",
    "\n",
    "> **Nota:** Al trabajar con listas, si desea copiar una lista completamente, es mejor rehacer la lista completa explícitamente. Eso es lo que la función `list()` está haciendo arriba (otra función incorporada) pero hay otras maneras de hacerlo. Por ejemplo, puede comenzar con una lista vacía y luego usar un bucle for para extenderla gradualmente hasta que tenga la misma longitud que la primera lista! También puede usar *list comprehension*, que es probablemente la mejor manera de hacerlo, pero demasiado avanzada para el alcance de este curso."
   ]
  },
  {
   "cell_type": "markdown",
   "metadata": {},
   "source": [
    "# Listas anidadas\n",
    "\n",
    "Dado que una lista puede contener cualquier variable de Python, incluso puede contener otras listas.\n",
    "\n",
    "Por ejemplo, podríamos representar los productos en los estantes de una pequeña tienda de comestibles:"
   ]
  },
  {
   "cell_type": "code",
   "execution_count": 8,
   "metadata": {
    "vscode": {
     "languageId": "python"
    }
   },
   "outputs": [],
   "source": [
    "x = [['pepper', 'zucchini', 'onion'],\n",
    "     ['cabbage', 'lettuce', 'garlic'],\n",
    "     ['apple', 'pear', 'banana']]"
   ]
  },
  {
   "cell_type": "markdown",
   "metadata": {},
   "source": [
    "Aquí hay un ejemplo visual de cómo la indexación de listas (`x`) y listas de listas (`y` y `z`) funcionan:\n",
    "\n",
    "\n",
    "![list_example]((media/list_example.png)\n",
    "Usando la lista previamente declarada `x`, estos serían los resultados de las operaciones de índice mostradas en la imagen:"
   ]
  },
  {
   "cell_type": "code",
   "execution_count": 9,
   "metadata": {
    "vscode": {
     "languageId": "python"
    }
   },
   "outputs": [
    {
     "name": "stdout",
     "output_type": "stream",
     "text": [
      "[['pepper', 'zucchini', 'onion']]\n"
     ]
    }
   ],
   "source": [
    "print([x[0]])"
   ]
  },
  {
   "cell_type": "code",
   "execution_count": 10,
   "metadata": {
    "vscode": {
     "languageId": "python"
    }
   },
   "outputs": [
    {
     "name": "stdout",
     "output_type": "stream",
     "text": [
      "['pepper', 'zucchini', 'onion']\n"
     ]
    }
   ],
   "source": [
    "print(x[0])"
   ]
  },
  {
   "cell_type": "code",
   "execution_count": 11,
   "metadata": {
    "vscode": {
     "languageId": "python"
    }
   },
   "outputs": [
    {
     "name": "stdout",
     "output_type": "stream",
     "text": [
      "pepper\n"
     ]
    }
   ],
   "source": [
    "print(x[0][0])"
   ]
  },
  {
   "cell_type": "markdown",
   "metadata": {},
   "source": [
    "Las listas en Python pueden contener elementos de diferentes tipos. Por ejemplo:\n",
    "```Python\n",
    "sample_ages = [10, 12.5, 'Unknown']\n",
    "```\n",
    "\n",
    "Hay muchas maneras de cambiar el contenido de las listas además de asignar nuevos valores a elementos individuales:\n",
    "```Python\n",
    "sample_ages.append(11)\n",
    "print('sample_ages after adding a value:', odds)\n",
    "```\n",
    "\n",
    "```Python\n",
    "removed_element = sample_ages.pop(0)\n",
    "print('sample_ages after removing the first element:', sample_ages)\n",
    "print('removed_element:', removed_element)\n",
    "```\n",
    "\n",
    "```Python\n",
    "sample_ages.reverse()\n",
    "print('sample_ages after reversing:', sample_ages)\n",
    "```\n",
    "\n",
    "Prueba esto tú mismo en otra celda.\n",
    "Al modificar en su lugar, es útil recordar que Python trata las listas de una manera ligeramente contraria a la intuición.\n",
    "\n",
    "Como vimos antes, cuando modificamos el elemento de la lista `salsa` en su lugar, si hacemos una lista, (intentamos) copiarla y luego modificamos esta lista, podemos causar todo tipo de problemas. Esto también se aplica a la modificación de la lista utilizando las funciones anteriores:\n",
    "\n"
   ]
  },
  {
   "cell_type": "code",
   "execution_count": 12,
   "metadata": {
    "vscode": {
     "languageId": "python"
    }
   },
   "outputs": [
    {
     "name": "stdout",
     "output_type": "stream",
     "text": [
      "primes: [1, 3, 5, 7, 2]\n",
      "odds: [1, 3, 5, 7, 2]\n"
     ]
    }
   ],
   "source": [
    "odds = [1, 3, 5, 7]\n",
    "primes = odds\n",
    "primes.append(2)\n",
    "print('primes:', primes)\n",
    "print('odds:', odds)"
   ]
  },
  {
   "cell_type": "markdown",
   "metadata": {},
   "source": [
    "Esto se debe a que Python almacena una lista en memoria, y luego puede usar varios nombres para referirse a la misma lista. Si todo lo que queremos hacer es copiar una lista (simple), podemos volver a usar la función `list` , por lo que no modificamos una lista que no queríamos:"
   ]
  },
  {
   "cell_type": "code",
   "execution_count": 13,
   "metadata": {
    "vscode": {
     "languageId": "python"
    }
   },
   "outputs": [
    {
     "name": "stdout",
     "output_type": "stream",
     "text": [
      "primes: [1, 3, 5, 7, 2]\n",
      "odds: [1, 3, 5, 7]\n"
     ]
    }
   ],
   "source": [
    "odds = [1, 3, 5, 7]\n",
    "primes = list(odds)\n",
    "primes.append(2)\n",
    "print('primes:', primes)\n",
    "print('odds:', odds)"
   ]
  },
  {
   "cell_type": "markdown",
   "metadata": {},
   "source": [
    "# Corte avanzado\n",
    "\n",
    "Hasta ahora hemos visto cómo usar el corte para tomar bloques individuales de entradas sucesivas de una secuencia. Pero ¿y si queremos tomar un subconjunto de entradas que no están una al lado de la otra en la secuencia?\n",
    "\n",
    "Puede lograr esto proporcionando un tercer argumento al rango dentro de los corchetes, llamado tamaño de paso. El siguiente ejemplo muestra cómo puede tomar cada tercera entrada de una lista:"
   ]
  },
  {
   "cell_type": "code",
   "execution_count": 14,
   "metadata": {
    "vscode": {
     "languageId": "python"
    }
   },
   "outputs": [
    {
     "name": "stdout",
     "output_type": "stream",
     "text": [
      "subset [2, 7, 17, 29]\n"
     ]
    }
   ],
   "source": [
    "primes = [2, 3, 5, 7, 11, 13, 17, 19, 23, 29, 31, 37]\n",
    "subset = primes[0:12:3]\n",
    "print('subset', subset)"
   ]
  },
  {
   "cell_type": "markdown",
   "metadata": {},
   "source": [
    "Tenga en cuenta que el corte tomado comienza con la primera entrada en el rango, seguido de las entradas tomadas a intervalos igualmente espaciados (los pasos) a partir de entonces. Si desea comenzar el subconjunto con la tercera entrada, debería especificar que como punto de inicio del rango de corte:"
   ]
  },
  {
   "cell_type": "code",
   "execution_count": 15,
   "metadata": {
    "vscode": {
     "languageId": "python"
    }
   },
   "outputs": [
    {
     "name": "stdout",
     "output_type": "stream",
     "text": [
      "subset [5, 13, 23, 37]\n"
     ]
    }
   ],
   "source": [
    "primes = [2, 3, 5, 7, 11, 13, 17, 19, 23, 29, 31, 37]\n",
    "subset = primes[2:12:3]\n",
    "print('subset', subset)"
   ]
  },
  {
   "cell_type": "markdown",
   "metadata": {},
   "source": [
    "Si desea tomar una porción desde el comienzo de una secuencia, puede omitir el primer índice en el rango:"
   ]
  },
  {
   "cell_type": "code",
   "execution_count": 16,
   "metadata": {
    "vscode": {
     "languageId": "python"
    }
   },
   "outputs": [
    {
     "name": "stdout",
     "output_type": "stream",
     "text": [
      "Using 0 to begin range: Monday\n",
      "Omitting beginning index: Monday\n"
     ]
    }
   ],
   "source": [
    "date = 'Monday 4 January 2016'\n",
    "day = date[0:6]\n",
    "print('Using 0 to begin range:', day)\n",
    "day = date[:6]\n",
    "print('Omitting beginning index:', day)"
   ]
  },
  {
   "cell_type": "markdown",
   "metadata": {},
   "source": [
    "Y de manera similar, puede omitir el índice de finalización en el rango para tomar una porción hasta el final de la secuencia:"
   ]
  },
  {
   "cell_type": "code",
   "execution_count": 17,
   "metadata": {
    "vscode": {
     "languageId": "python"
    }
   },
   "outputs": [
    {
     "name": "stdout",
     "output_type": "stream",
     "text": [
      "With known last position: ['sep', 'oct', 'nov', 'dec']\n",
      "Using len() to get last entry: ['sep', 'oct', 'nov', 'dec']\n",
      "Omitting ending index: ['sep', 'oct', 'nov', 'dec']\n"
     ]
    }
   ],
   "source": [
    "months = ['jan', 'feb', 'mar', 'apr', 'may', 'jun', 'jul', 'aug', 'sep', 'oct', 'nov', 'dec']\n",
    "sond = months[8:12]\n",
    "print('With known last position:', sond)\n",
    "sond = months[8:len(months)]\n",
    "print('Using len() to get last entry:', sond)\n",
    "sond = months[8:]\n",
    "print('Omitting ending index:', sond)"
   ]
  },
  {
   "cell_type": "markdown",
   "metadata": {},
   "source": [
    "# Ejercicio 1*\n",
    "\n",
    "Dado el siguiente código, escribe un bucle for que copie el contenido de `frutas` a `frutasmy_. El método de lista para añadir un elemento a su extremo es `.append(new_element)`. Entonces el código editará `my_fruits` para cambiar `'apple'` a `'plum'` porque eres alérgico a las manzanas para los propósitos de este ejercicio."
   ]
  },
  {
   "cell_type": "code",
   "execution_count": 19,
   "metadata": {
    "vscode": {
     "languageId": "python"
    }
   },
   "outputs": [
    {
     "name": "stdout",
     "output_type": "stream",
     "text": [
      "The fruits I can eat are:  ['plum']\n"
     ]
    }
   ],
   "source": [
    "fruits = ['apple', 'orange', 'banana', 'kumquat']\n",
    "my_fruits = [\"\"]\n",
    "\n",
    "# vvvvvvvvvvvvvvvvvvvvvvvv\n",
    "# Enter your solution here\n",
    "# ^^^^^^^^^^^^^^^^^^^^^^^^\n",
    "\n",
    "\n",
    "# Do not alter the following code\n",
    "my_fruits[0] = 'plum'\n",
    "print('The fruits I can eat are: ', my_fruits)\n",
    "# output should read:\n",
    "# The fruits I can eat are:  ['plum', 'orange', 'banana', 'kumquat']"
   ]
  },
  {
   "cell_type": "markdown",
   "metadata": {},
   "source": [
    "# Exercise 2\n",
    "\n",
    "Utilice un bucle para convertir la cadena \"hola\" en una lista de letras:\n",
    "\n",
    "```Python\n",
    "['h', 'e', 'l', 'l', 'o']\n",
    "```\n",
    "\n",
    "Las listas vacías se crean así:\n",
    "\n",
    "```Python\n",
    "new_list = []\n",
    "```\n"
   ]
  },
  {
   "cell_type": "code",
   "execution_count": 22,
   "metadata": {
    "vscode": {
     "languageId": "python"
    }
   },
   "outputs": [
    {
     "name": "stdout",
     "output_type": "stream",
     "text": [
      "['H', 'e', 'l', 'l', 'o']\n"
     ]
    }
   ],
   "source": [
    "# Enter your solution here\n",
    "new_list=[]\n",
    "for caracter in \"Hello\":\n",
    "    new_list.append(caracter)\n",
    "print(new_list)"
   ]
  },
  {
   "cell_type": "markdown",
   "metadata": {},
   "source": [
    "Se puede acceder a subconjuntos de listas y cadenas especificando rangos de valores entre paréntesis, de manera similar a como se accede a rangos de posiciones en un array de NumPy. Esto se conoce comúnmente como \"cortar\" la lista/cadena."
   ]
  },
  {
   "cell_type": "code",
   "execution_count": 23,
   "metadata": {
    "vscode": {
     "languageId": "python"
    }
   },
   "outputs": [
    {
     "name": "stdout",
     "output_type": "stream",
     "text": [
      "group: Drosophila\n",
      "species: melanogaster\n",
      "autosomes: ['2', '3', '4']\n",
      "last: 4\n"
     ]
    }
   ],
   "source": [
    "binomial_name = 'Drosophila melanogaster'\n",
    "group = binomial_name[0:10]\n",
    "print('group:', group)\n",
    "\n",
    "species = binomial_name[11:23]\n",
    "print('species:', species)\n",
    "\n",
    "chromosomes = ['X', 'Y', '2', '3', '4']\n",
    "autosomes = chromosomes[2:5]\n",
    "print('autosomes:', autosomes)\n",
    "\n",
    "last = chromosomes[-1]\n",
    "print('last:', last)"
   ]
  },
  {
   "cell_type": "markdown",
   "metadata": {},
   "source": [
    "# Ejercicio 3*\n",
    "\n",
    "Utilice el corte para imprimir los últimos cuatro caracteres de la cadena `string_for_slicing` y los últimos cuatro elementos de la lista `list_for_slicing`."
   ]
  },
  {
   "cell_type": "code",
   "execution_count": 24,
   "metadata": {
    "vscode": {
     "languageId": "python"
    }
   },
   "outputs": [],
   "source": [
    "string_for_slicing = 'Observation date: 02-Feb-2013'\n",
    "list_for_slicing = [['fluorine', 'F'],\n",
    "                    ['chlorine', 'Cl'],\n",
    "                    ['bromine', 'Br'],\n",
    "                    ['iodine', 'I'],\n",
    "                    ['astatine', 'At']]\n"
   ]
  },
  {
   "cell_type": "markdown",
   "metadata": {},
   "source": [
    "¿Funcionaría su solución independientemente de si sabía de antemano la longitud de la cadena o lista (p. ej., si quería aplicar la solución a un conjunto de listas de diferentes longitudes)? Si no, intente cambiar su enfoque para hacerlo más robusto.\n",
    "\n",
    "Sugerencia: Recuerde que los índices pueden ser negativos y positivos"
   ]
  },
  {
   "cell_type": "code",
   "execution_count": 25,
   "metadata": {
    "vscode": {
     "languageId": "python"
    }
   },
   "outputs": [
    {
     "data": {
      "text/plain": [
       "('2013',\n",
       " [['chlorine', 'Cl'], ['bromine', 'Br'], ['iodine', 'I'], ['astatine', 'At']])"
      ]
     },
     "execution_count": 25,
     "metadata": {},
     "output_type": "execute_result"
    }
   ],
   "source": [
    "# Enter your solution here\n",
    "string_for_slicing = 'Observation date: 02-Feb-2013'\n",
    "list_for_slicing = [['fluorine', 'F'],\n",
    "                    ['chlorine', 'Cl'],\n",
    "                    ['bromine', 'Br'],\n",
    "                    ['iodine', 'I'],\n",
    "                    ['astatine', 'At']]\n",
    "\n",
    "string_for_slicing[-4:], list_for_slicing[-4:]"
   ]
  },
  {
   "cell_type": "markdown",
   "metadata": {},
   "source": [
    "# Exercise 4*\n",
    "\n",
    "`+` generalmente significa adición, pero cuando se usa en cadenas o listas, significa \"concatenar\". Dado que, ¿qué crees que hace el operador de multiplicación `*` en las listas? En particular, ¿cuál será la salida del siguiente código?\n",
    "\n",
    "```Python\n",
    "counts = [2, 4, 6, 8, 10]\n",
    "repeats = counts * 2\n",
    "print(repeats)\n",
    "```\n",
    "\n",
    "1. `[2, 4, 6, 8, 10, 2, 4, 6, 8, 10]`\n",
    "2. `[4, 8, 12, 16, 20]`\n",
    "3. `[[2, 4, 6, 8, 10],[2, 4, 6, 8, 10]]`\n",
    "4. `[2, 4, 6, 8, 10, 4, 8, 12, 16, 20]`\n",
    "\n",
    "El término técnico para esto es operador *sobrecarga*: un solo operador, como `+` o `*`, puede hacer diferentes cosas dependiendo de a qué se aplica.\n"
   ]
  },
  {
   "cell_type": "code",
   "execution_count": 26,
   "metadata": {},
   "outputs": [
    {
     "name": "stdout",
     "output_type": "stream",
     "text": [
      "[2, 4, 6, 8, 10, 2, 4, 6, 8, 10]\n"
     ]
    }
   ],
   "source": [
    "# la respuesta es la 2. estas seguro?\n",
    "counts = [2, 4, 6, 8, 10]\n",
    "repeats = counts * 2\n",
    "print(repeats)"
   ]
  },
  {
   "cell_type": "markdown",
   "metadata": {},
   "source": [
    "# Exercise 5\n",
    "\n",
    "Use el argumento tamaño de paso para crear una nueva cadena que contenga todos los demás caracteres de la cadena inicial \"En el jardín de un pulpo a la sombra\". \n",
    "\n",
    "```Python\n",
    "I notpssgre ntesae\n",
    "```"
   ]
  },
  {
   "cell_type": "code",
   "execution_count": 27,
   "metadata": {
    "vscode": {
     "languageId": "python"
    }
   },
   "outputs": [
    {
     "data": {
      "text/plain": [
       "'I notpssgre ntesae'"
      ]
     },
     "execution_count": 27,
     "metadata": {},
     "output_type": "execute_result"
    }
   ],
   "source": [
    "beatles = \"In an octopus's garden in the shade\"\n",
    "# Enter your solution here\n",
    "beatles[::2]"
   ]
  },
  {
   "cell_type": "markdown",
   "metadata": {},
   "source": [
    "# Exercise 5 (harder)\n",
    "Una tarea común en la programación es revertir una lista. Supongamos que tiene una lista de personas en una cola, y ha agregado personas a la lista a medida que llegó a ellas (y comenzó en la parte posterior).\n",
    "\n",
    "```Python\n",
    "queue = ['Jean', 'Brutus', 'Imhotep', 'Lord Scotland', 'Millsy']\n",
    "```\n",
    "\n",
    "¿Cómo revertiría esta lista de tal manera que las personas estén en el orden en que necesitan ser dirigidas? Esto se puede hacer puramente utilizando la indexación.\n",
    "\n"
   ]
  },
  {
   "cell_type": "code",
   "execution_count": 28,
   "metadata": {
    "vscode": {
     "languageId": "python"
    }
   },
   "outputs": [
    {
     "data": {
      "text/plain": [
       "['Millsy', 'Lord Scotland', 'Imhotep', 'Brutus', 'Jean']"
      ]
     },
     "execution_count": 28,
     "metadata": {},
     "output_type": "execute_result"
    }
   ],
   "source": [
    "queue = ['Jean', 'Brutus', 'Imhotep', 'Lord Scotland', 'Millsy']\n",
    "queue[::-1]"
   ]
  },
  {
   "cell_type": "markdown",
   "metadata": {},
   "source": [
    "# Key Points\n",
    "\n",
    "- `[value1, value2, value3, ...]` creates a list.\n",
    "\n",
    "-- Las listas pueden contener cualquier objeto Python, incluyendo listas (es decir, lista de listas).\n",
    "\n",
    "-- Las listas son indexadas y cortadas con corchetes (por ejemplo, `list[0]` y `list[2:9]`), de la misma manera que las cadenas y las matrices.\n",
    "\n",
    "- Las listas son mutables (es decir, sus valores pueden cambiarse).\n",
    "\n",
    "- Las cadenas son inmutables (es decir, los caracteres en ellas no se pueden cambiar)."
   ]
  }
 ],
 "metadata": {
  "kernelspec": {
   "display_name": "Python 3 (ipykernel)",
   "language": "python",
   "name": "python3"
  },
  "language_info": {
   "codemirror_mode": {
    "name": "ipython",
    "version": 3
   },
   "file_extension": ".py",
   "mimetype": "text/x-python",
   "name": "python",
   "nbconvert_exporter": "python",
   "pygments_lexer": "ipython3",
   "version": "3.7.6"
  }
 },
 "nbformat": 4,
 "nbformat_minor": 4
}
