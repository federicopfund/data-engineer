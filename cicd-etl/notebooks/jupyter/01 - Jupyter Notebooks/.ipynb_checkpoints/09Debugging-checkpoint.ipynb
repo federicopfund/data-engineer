{
 "cells": [
  {
   "cell_type": "markdown",
   "metadata": {},
   "source": [
    "# Depuración\n",
    "\n",
    "## Questions\n",
    "\n",
    "- ¿Cómo puedo depurar mi programa?\n",
    "\n",
    "## Objetivos\n",
    "\n",
    "- Código de depuración que contiene sistemáticamente un error.\n",
    "\n",
    "- Identificar maneras de hacer código menos propenso a errores y más fácilmente probado.\n",
    "\n",
    "- Comprender el concepto y los beneficios de la depuración de patos de goma\n",
    "\n",
    "Una vez que las pruebas han descubierto problemas, el siguiente paso es solucionarlos. Muchos novatos hacen esto haciendo más o menos cambios aleatorios en su código hasta que parece producir la respuesta correcta, pero eso es muy ineficiente (y el resultado generalmente solo es correcto para el caso que están probando). Cuanto más experimentado es un programador, más sistemáticamente depuran, y la mayoría sigue alguna variación en las reglas explicadas a continuación.\n",
    "\n",
    "# Sepa lo que se supone que debe hacer\n",
    "\n",
    "El primer paso en la depuración de algo es saber lo que se supone que debe hacer. \"Mi programa no funciona\" no es lo suficientemente bueno: para diagnosticar y solucionar problemas, necesitamos ser capaces de distinguir la salida correcta de la incorrecta. Si podemos escribir un caso de prueba para el caso fallido - es decir, si podemos afirmar que con *estas* entradas, la función debe producir *ese* resultado - entonces estamos listos para comenzar a depurar. Si no podemos, entonces tenemos que averiguar cómo vamos a saber cuándo hemos arreglado las cosas.\n",
    "\n",
    "Pero escribir casos de prueba para software científico es con frecuencia más difícil que escribir casos de prueba para aplicaciones comerciales, porque si supiéramos cuál era la salida del código científico, no estaríamos ejecutando el software: estaríamos escribiendo nuestros resultados y pasando al siguiente programa. En la práctica, los científicos tienden a hacer lo siguiente:\n",
    "\n",
    "1. **Ensayo con datos simplificados. ** Antes de hacer estadísticas sobre un conjunto de datos real, debemos intentar calcular estadísticas para un solo registro, para dos registros idénticos, para dos registros cuyos valores están un paso separados, o para algún otro caso en el que podamos calcular la respuesta correcta a mano.\n",
    "\n",
    "2. **Probar un caso simplificado. ** Si se supone que nuestro programa simula remolinos magnéticos en masas de helio sobreenfriado que giran rápidamente, nuestra primera prueba debería ser una masa de helio que no esté girando y no esté sujeta a ningún campo electromagnético externo. Del mismo modo, si nos fijamos en los efectos del cambio climático en la especiación, nuestra primera prueba debe mantener la temperatura, la precipitación y otros factores constantes.\n",
    "\n",
    "3. **Comparar con un oráculo. ** Un oráculo de prueba es algo cuyos resultados son confiables, como datos experimentales, un programa antiguo o un experto humano. Utilizamos oráculos de prueba para determinar si nuestro nuevo programa produce los resultados correctos. Si tenemos un oráculo de prueba, debemos almacenar su salida para casos particulares para que podamos compararla con nuestros nuevos resultados tan a menudo como queramos sin volver a ejecutar ese programa.\n",
    "\n",
    "4. **Verifique las leyes de conservación. ** La masa, la energía y otras cantidades se conservan en los sistemas físicos, por lo que también deben estar en los programas.\n",
    "\n",
    "5. **Visualize.** Los analistas de datos con frecuencia usan visualizaciones simples para verificar tanto la ciencia que están haciendo como la corrección de su código (tal como hicimos en la lección de apertura de este tutorial). Sin embargo, esto solo debe usarse para depurar como último recurso, ya que es muy difícil comparar dos visualizaciones automáticamente.\n",
    "\n",
    "\n",
    "# Haz que falle cada vez\n",
    "\n",
    "Solo podemos depurar algo cuando falla, por lo que el segundo paso es siempre encontrar un caso de prueba que *haga que falle cada vez*. La parte de \"cada vez\" es importante porque pocas cosas son más frustrantes que depurar un problema intermitente: si tenemos que llamar a una función una docena de veces para obtener un solo fallo, las probabilidades son buenas de que nos desplazamos más allá del fallo cuando realmente ocurre.\n",
    "\n",
    "Como parte de esto, siempre es importante comprobar que nuestro código está \"conectado\", es decir, que estamos ejerciendo el problema que creemos que somos. Cada programador ha pasado horas persiguiendo un error, solo para darse cuenta de que en realidad estaban llamando a su código en el conjunto de datos incorrectos o con los parámetros de configuración incorrectos, o están utilizando la versión incorrecta del software por completo. Errores como estos son particularmente propensos a ocurrir cuando estamos cansados, frustrados, y en contra de una fecha límite, que es una de las razones tarde en la noche (o durante la noche) sesiones de codificación son casi nunca vale la pena.\n",
    "\n",
    "\n",
    "# Haz que falle rápido\n",
    "\n",
    "Si tarda 20 minutos en aparecer, sólo podemos hacer tres experimentos por hora. Esto significa que obtendremos menos datos en más tiempo y que es más probable que nos distraigamos con otras cosas mientras esperamos que nuestro programa falle, lo que significa que el tiempo que estamos gastando en el problema está menos enfocado. Por lo tanto, es fundamental que *falle rápidamente. *\n",
    "\n",
    "Además de hacer que el programa falle rápidamente en el tiempo, queremos que falle rápidamente en el espacio, es decir, queremos localizar el fallo a la región de código más pequeña posible:\n",
    "\n",
    "1. Cuanto menor sea el intervalo entre causa y efecto, más fácil será encontrar la conexión. Por lo tanto, muchos programadores usan una estrategia de división y conquista para encontrar errores, es decir, si la salida de una función es incorrecta, verifican si las cosas están bien en el medio, luego se concentran en la primera o segunda mitad, y así sucesivamente.\n",
    "\n",
    "2. N cosas pueden interactuar en N! de diferentes maneras, por lo que cada línea de código que *no se ejecuta* como parte de una prueba significa más de una cosa de la que no tenemos que preocuparnos.\n",
    "\n",
    "\n",
    "# Cambiar una cosa a la vez, por una razón\n",
    "\n",
    "Es poco probable que reemplazar partes aleatorias de código haga mucho bien. (Después de todo, si te equivocaste la primera vez, probablemente te equivocarás la segunda y la tercera también.) Los buenos programadores por lo tanto *cambian una cosa a la vez, por una razón. * Están tratando de reunir más información (\"¿El error sigue ahí si cambiamos el orden de los bucles?\") o probar una solución (\"podemos hacer que el error desaparezca ordenando nuestros datos antes de procesarlo?\").\n",
    "\n",
    "Cada vez que hacemos un cambio, por pequeño que sea, debemos volver a realizar nuestras pruebas de inmediato, porque cuanto más cosas cambiamos a la vez, más difícil es saber qué es lo responsable de qué (esas interacciones N! de nuevo). Y debemos volver a ejecutar todas nuestras pruebas: más de la mitad de las correcciones hechas para introducir código (o reintroducir) errores, por lo que volver a ejecutar todas nuestras pruebas nos dice si hemos retrocedido.\n",
    "\n",
    "Rephrase\n",
    "NEW\n",
    "\n",
    "\n",
    "# Lleva un registro de lo que has hecho\n",
    "\n",
    "Los buenos científicos hacen un seguimiento de lo que han hecho para que puedan reproducir su trabajo, y para que no pierdan el tiempo repitiendo los mismos experimentos o ejecutando aquellos cuyos resultados no serán interesantes. Del mismo modo, la depuración funciona mejor cuando hacemos un seguimiento de lo que hemos hecho y de lo bien que ha funcionado. Si nos encontramos preguntando, \"¿La izquierda seguida de la derecha con un número impar de líneas causó el accidente? ¿O fue seguida de la derecha por la izquierda? ¿O estaba usando un número par de líneas?\" Entonces es el momento de alejarse de la computadora, tomar una respiración profunda, y empezar a trabajar más sistemáticamente.\n",
    "\n",
    "Los registros son particularmente útiles cuando llega el momento de pedir ayuda. Es más probable que la gente nos escuche cuando podemos explicar claramente lo que hicimos, y somos más capaces de darles la información que necesitan para ser útiles.\n",
    "\n",
    "> ***Nota sobre el control de versiones:** El control de versiones se utiliza a menudo para restablecer el software a un estado conocido durante la depuración y para explorar cambios recientes en el código que podrían ser responsables de errores. La mayoría de los sistemas de control de versiones (p.e. git, Mercurial) tienen:\n",
    "> - un comando blame que muestra quién cambió por última vez cada línea de un archivo;\n",
    "> - un comando bisect que ayuda a encontrar el commit que introdujo un problema.\n",
    "\n",
    "# ser humilde\n",
    "\n",
    "Y hablando de ayuda: si no podemos encontrar un error en 10 minutos, deberíamos ser *humildes* y pedir ayuda. Explicar el problema a otra persona a menudo es útil, ya que escuchar lo que estamos pensando nos ayuda a detectar inconsistencias y suposiciones ocultas. Si no tienes a alguien cerca para compartir la descripción de tu problema, obtén una [rubber duck](https://en.wikipedia.org/wiki/Rubber_duck_debugging)!\n",
    "\n",
    "Pedir ayuda también ayuda a aliviar el sesgo de confirmación. Si acabamos de pasar una hora escribiendo un programa complicado, queremos que funcione, así que es probable que sigamos diciéndonos por qué debería funcionar, en lugar de buscar la razón por la que no funciona. Las personas que no están involucradas emocionalmente en el código pueden ser más objetivas, por lo que a menudo son capaces de detectar los errores simples que hemos pasado por alto.\n",
    "\n",
    "Parte de ser humilde es aprender de nuestros errores. Los programadores tienden a equivocarse una y otra vez: o no entienden el lenguaje y las bibliotecas con las que están trabajando, o su modelo de cómo funcionan las cosas está mal. En cualquier caso, tomar nota de por qué ocurrió el error y verificarlo la próxima vez rápidamente se convierte en no cometer el error en absoluto.\n",
    "\n",
    "Y eso es lo que nos hace más productivos a largo plazo. Como dice el refrán,\n",
    " [\"*Recuerde, unas pocas horas de prueba y error pueden ahorrarle varios minutos de mirar el README.*\"](https://twitter.com/iamdevloper/status/1060067235316809729?s=20).\n",
    " \n",
    "  Si nos entrenamos para evitar cometer algún tipo de errores, para romper nuestro código en trozos modulares y comprobables, y para convertir cada suposición (o error) en una afirmación, en realidad nos llevará menos tiempo producir programas de trabajo, no más.\n",
    "# Ejercicio 1* - Depuración con colegas\n",
    "\n",
    "Encuentre un par de colegas, preferiblemente los que toman este curso, y como grupo, revise la respuesta a la Lección 6, Ejercicio 1 a continuación. He introducido varios errores en el código. Encuentre y corrija los errores hasta que tenga un programa de trabajo. ¿Cuál de los principios discutidos anteriormente le resultó útil?\n"
   ]
  },
  {
   "cell_type": "code",
   "execution_count": null,
   "metadata": {
    "vscode": {
     "languageId": "python"
    }
   },
   "outputs": [],
   "source": []
  },
  {
   "cell_type": "code",
   "execution_count": 8,
   "metadata": {},
   "outputs": [
    {
     "data": {
      "text/plain": [
       "[<matplotlib.lines.Line2D at 0x7fd54804ff90>]"
      ]
     },
     "execution_count": 8,
     "metadata": {},
     "output_type": "execute_result"
    },
    {
     "data": {
      "image/png": "[encoded data removed]",
      "text/plain": [
       "<Figure size 432x288 with 1 Axes>"
      ]
     },
     "metadata": {
      "needs_background": "light"
     },
     "output_type": "display_data"
    }
   ],
   "source": [
    "# Ejercicio 1* - Trazando diferencias\n",
    "\n",
    "# Traza la diferencia entre los radiancias encontrados en las simulaciones 02 y 04.\n",
    "\n",
    "# 1. Carga ambos desde csv\n",
    "# 2. Extraer las secciones transversales de radiancia a lo largo de la misma ubicación\n",
    "# 3. Tome la diferencia entre las dos matrices y trace\n",
    "\n",
    "import numpy as np\n",
    "import matplotlib.pyplot as plt\n",
    "\n",
    "\n",
    "# no delimiter needed\n",
    "# sim = np.loadtxt(fname='../simulation02.txt', skiprows=52, delimiter=',')\n",
    "sim = np.loadtxt(fname='data/simulation02.txt', skiprows=52)\n",
    "x = sim[:, 0]\n",
    "y = sim[:, 1]\n",
    "# should be index of 2 not 3\n",
    "# rad = sim[:, 3]\n",
    "rad = sim[:, 2]\n",
    "# Find the closest y-value to 0\n",
    "smallest_y = np.amin(abs(y))\n",
    "x_cross_section = x[y==smallest_y]\n",
    "\n",
    "luminance_cross_section02 = rad[y==smallest_y]\n",
    "\n",
    "# delimiter again\n",
    "# AND comparing simulation 03 not 04\n",
    "# sim = np.loadtxt(fname='../simulation03.txt', skiprows=52, delimiter=',')\n",
    "sim = np.loadtxt(fname='data/simulation04.txt', skiprows=52)\n",
    "x = sim[:, 0]\n",
    "y = sim[:, 1]\n",
    "# index again\n",
    "# rad = sim[:, 3]\n",
    "rad = sim[:, 2]\n",
    "# Find the closest y-value to 0\n",
    "smallest_y = np.amin(abs(y))\n",
    "x_cross_section = x[y==smallest_y]\n",
    "\n",
    "luminance_cross_section04 = rad[y==smallest_y]\n",
    "\n",
    "\n",
    "diff = luminance_cross_section02 - luminance_cross_section04\n",
    "plt.plot(x_cross_section, diff)"
   ]
  },
  {
   "cell_type": "markdown",
   "metadata": {},
   "source": [
    "# Ejercicio 2* - Se supone que no es lo mismo\n",
    "\n",
    "Usted está ayudando a un investigador con código Python que calcula el Índice de Masa Corporal (IMC) de los pacientes. El investigador está preocupado porque todos los pacientes parecen tener IMC inusuales e idénticos, a pesar de tener diferentes físicos. El IMC se calcula como peso en kilogramos dividido por el cuadrado de altura en metros.\n",
    "\n",
    "Utilice los principios de depuración en este ejercicio y localizar problemas con el código. ¿Qué sugerencias le darías al investigador para asegurar que cualquier cambio posterior funcione correctamente?"
   ]
  },
  {
   "cell_type": "code",
   "execution_count": 9,
   "metadata": {
    "vscode": {
     "languageId": "python"
    }
   },
   "outputs": [
    {
     "name": "stdout",
     "output_type": "stream",
     "text": [
      "Patient's BMI is: 21.604938\n",
      "Patient's BMI is: 22.160665\n",
      "Patient's BMI is: 51.903114\n"
     ]
    }
   ],
   "source": [
    "patients = [[70, 1.8], [80, 1.9], [150, 1.7]]\n",
    "\n",
    "def calculate_bmi(weight, height):\n",
    "    return weight / (height ** 2)\n",
    "\n",
    "for patient in patients:\n",
    "    # following line is wrong\n",
    "    # weight, height = patients[0]\n",
    "    # should be\n",
    "    weight, height = patient\n",
    "    # next line is wrong\n",
    "    # bmi = calculate_bmi(height, weight)\n",
    "    # should be\n",
    "    bmi = calculate_bmi(weight, height)\n",
    "    print(\"Patient's BMI is: %f\" % bmi)"
   ]
  },
  {
   "cell_type": "markdown",
   "metadata": {},
   "source": [
    "Puntos clave\n",
    "\n",
    "- Sepa qué código se supone que debe hacer antes de intentar depurarlo.\n",
    "\n",
    "- Haz que falle cada vez.\n",
    "\n",
    "- Haz que falle rápido.\n",
    "\n",
    "- Cambiar una cosa a la vez, y por una razón.\n",
    "\n",
    "- Lleve un registro de lo que ha hecho.\n",
    "\n",
    "- Sé humilde."
   ]
  }
 ],
 "metadata": {
  "kernelspec": {
   "display_name": "Python 3 (ipykernel)",
   "language": "python",
   "name": "python3"
  },
  "language_info": {
   "codemirror_mode": {
    "name": "ipython",
    "version": 3
   },
   "file_extension": ".py",
   "mimetype": "text/x-python",
   "name": "python",
   "nbconvert_exporter": "python",
   "pygments_lexer": "ipython3",
   "version": "3.7.6"
  }
 },
 "nbformat": 4,
 "nbformat_minor": 4
}
