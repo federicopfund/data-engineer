{
 "cells": [
  {
   "cell_type": "markdown",
   "metadata": {},
   "source": [
    "# Análisis de datos de radiación\n",
    "\n",
    "## Questions\n",
    "\n",
    "- ¿Cómo puedo procesar archivos de datos tabulares en Python?\n",
    "- ¿Cómo lo puedo visualizar?\n",
    "\n",
    "\n",
    "## Objetivos\n",
    "\n",
    "- Explicar qué es una biblioteca y para qué se usan las bibliotecas.\n",
    "- Importar una biblioteca Python y utilizar las funciones que contiene.\n",
    "- Leer los datos de la tabla de un archivo en un programa.\n",
    "- Crear algunas visualizaciones simples\n",
    "\n",
    "Las palabras son útiles, pero lo que es más útil son las oraciones e historias que construimos con ellas. Del mismo modo, mientras que muchas herramientas generales y poderosas están incorporadas en Python, las herramientas especializadas construidas a partir de estas unidades básicas viven en bibliotecas a las que se puede recurrir cuando sea necesario."
   ]
  },
  {
   "cell_type": "markdown",
   "metadata": {},
   "source": [
    "# Cargando datos en Python\n",
    "\n",
    "Un cliente nos ha encargado producir un script Python para resolver su problema.\n",
    "\n",
    "- Tienen muchos datos experimentales y están usando nuestro software para simularlos. \n",
    "- Necesitan una forma rápida de comparar los resultados de los dos\n",
    "    - Visualmente \n",
    "    - Estadísticamente\n",
    "- Los datos se presentan en dos ficheros de texto\n",
    "\n",
    "El experimento registra el resplandor de 5 ledes a través de una fina película de material. \n",
    "\n",
    "![experimental setup](./media/experiment_diagram.png)\n",
    "\n",
    "Los datos experimentales están en la forma de la luminosidad de la luz 2 cm de la película delgada a lo largo de una sección transversal paralela a la línea de ledes. Como tal, los datos son de 1 dimensión y se ven así:\n",
    "\n",
    "```\n",
    "-2.475000000000000000e+01,1.128873340482146523e+04\n",
    "-2.425450450450450290e+01,1.284396916618381510e+04\n",
    "-2.375900900900900936e+01,8.733082162148733914e+03\n",
    "-2.326351351351351227e+01,9.284282130758650965e+03\n",
    "-2.276801801801801872e+01,9.719983197189985731e+03\n",
    "-2.227252252252252163e+01,1.266916213215544485e+04\n",
    "-2.177702702702702808e+01,1.256256575563995466e+04\n",
    "-2.128153153153153099e+01,1.097440849516750131e+04\n",
    "-2.078603603603603744e+01,1.198146183712815400e+04\n",
    "```\n",
    "\n",
    "la primera columna es la posición horizontal y la segunda es la luminosidad en Candela por metro cuadrado (una medida de luminancia).\n",
    "\n",
    "Para comenzar a procesar los datos, necesitamos cargarlos en Python. Podemos hacerlo usando una biblioteca llamada [NumPy](https://numpy.org/), que significa Python numérico. Para decirle a Python que nos gustaría empezar a usar NumPy, necesitamos importarlo."
   ]
  },
  {
   "cell_type": "code",
   "execution_count": 1,
   "metadata": {
    "vscode": {
     "languageId": "python"
    }
   },
   "outputs": [],
   "source": [
    "import numpy"
   ]
  },
  {
   "cell_type": "markdown",
   "metadata": {},
   "source": [
    "Importar una biblioteca es como sacar un equipo de laboratorio de un armario de almacenamiento y ponerlo en el banco. Las bibliotecas proporcionan funcionalidad adicional al paquete básico de Python, al igual que una nueva pieza de equipo agrega funcionalidad a un espacio de laboratorio. Al igual que en el laboratorio, importar demasiadas bibliotecas a veces puede complicar y ralentizar sus programas - por lo que solo importa lo que necesitamos para cada programa.\n",
    "\n",
    "Una vez que hayamos importado la biblioteca, podemos pedirle a la biblioteca que lea nuestro archivo de datos por nosotros:"
   ]
  },
  {
   "cell_type": "code",
   "execution_count": 2,
   "metadata": {
    "vscode": {
     "languageId": "python"
    }
   },
   "outputs": [
    {
     "data": {
      "text/plain": [
       "array([[-2.47500000e+01,  1.12887334e+04],\n",
       "       [-2.42545045e+01,  1.28439692e+04],\n",
       "       [-2.37590090e+01,  8.73308216e+03],\n",
       "       [-2.32635135e+01,  9.28428213e+03],\n",
       "       [-2.27680180e+01,  9.71998320e+03],\n",
       "       [-2.22725225e+01,  1.26691621e+04],\n",
       "       [-2.17770270e+01,  1.25625658e+04],\n",
       "       [-2.12815315e+01,  1.09744085e+04],\n",
       "       [-2.07860360e+01,  1.19814618e+04],\n",
       "       [-2.02905405e+01,  1.80491245e+04],\n",
       "       [-1.97950450e+01,  1.44574182e+04],\n",
       "       [-1.92995495e+01,  1.89761845e+04],\n",
       "       [-1.88040541e+01,  2.08202613e+04],\n",
       "       [-1.83085586e+01,  2.33232490e+04],\n",
       "       [-1.78130631e+01,  2.31820626e+04],\n",
       "       [-1.73175676e+01,  3.19741050e+04],\n",
       "       [-1.68220721e+01,  2.64591704e+04],\n",
       "       [-1.63265766e+01,  3.60125238e+04],\n",
       "       [-1.58310811e+01,  3.65891726e+04],\n",
       "       [-1.53355856e+01,  3.50759625e+04],\n",
       "       [-1.48400901e+01,  4.77579559e+04],\n",
       "       [-1.43445946e+01,  5.04921924e+04],\n",
       "       [-1.38490991e+01,  6.99626661e+04],\n",
       "       [-1.33536036e+01,  7.84657461e+04],\n",
       "       [-1.28581081e+01,  1.14346899e+05],\n",
       "       [-1.23626126e+01,  1.33290214e+05],\n",
       "       [-1.18671171e+01,  1.86454163e+05],\n",
       "       [-1.13716216e+01,  2.07774854e+05],\n",
       "       [-1.08761261e+01,  2.68857334e+05],\n",
       "       [-1.03806306e+01,  2.77639142e+05],\n",
       "       [-9.88513514e+00,  2.60127040e+05],\n",
       "       [-9.38963964e+00,  2.84055441e+05],\n",
       "       [-8.89414414e+00,  2.50163110e+05],\n",
       "       [-8.39864865e+00,  2.74217637e+05],\n",
       "       [-7.90315315e+00,  2.86083097e+05],\n",
       "       [-7.40765766e+00,  3.74641296e+05],\n",
       "       [-6.91216216e+00,  2.87771108e+05],\n",
       "       [-6.41666667e+00,  2.89226226e+05],\n",
       "       [-5.92117117e+00,  2.66525314e+05],\n",
       "       [-5.42567568e+00,  2.53198649e+05],\n",
       "       [-4.93018018e+00,  2.58150409e+05],\n",
       "       [-4.43468468e+00,  3.53644541e+05],\n",
       "       [-3.93918919e+00,  2.54766610e+05],\n",
       "       [-3.44369369e+00,  3.35980288e+05],\n",
       "       [-2.94819820e+00,  3.88316110e+05],\n",
       "       [-2.45270270e+00,  4.01626456e+05],\n",
       "       [-1.95720721e+00,  3.42046620e+05],\n",
       "       [-1.46171171e+00,  3.47944683e+05],\n",
       "       [-9.66216216e-01,  3.32894356e+05],\n",
       "       [-4.70720721e-01,  3.15055041e+05],\n",
       "       [ 2.47747748e-02,  3.18085276e+05],\n",
       "       [ 5.20270270e-01,  2.59227956e+05],\n",
       "       [ 1.01576577e+00,  2.90055170e+05],\n",
       "       [ 1.51126126e+00,  2.88688429e+05],\n",
       "       [ 2.00675676e+00,  3.70964910e+05],\n",
       "       [ 2.50225225e+00,  3.17766927e+05],\n",
       "       [ 2.99774775e+00,  2.95199355e+05],\n",
       "       [ 3.49324324e+00,  3.52707883e+05],\n",
       "       [ 3.98873874e+00,  2.75403007e+05],\n",
       "       [ 4.48423423e+00,  3.32965948e+05],\n",
       "       [ 4.97972973e+00,  2.68771498e+05],\n",
       "       [ 5.47522523e+00,  3.20423706e+05],\n",
       "       [ 5.97072072e+00,  2.71590924e+05],\n",
       "       [ 6.46621622e+00,  2.87527670e+05],\n",
       "       [ 6.96171171e+00,  3.95657835e+05],\n",
       "       [ 7.45720721e+00,  3.05931054e+05],\n",
       "       [ 7.95270270e+00,  2.99544392e+05],\n",
       "       [ 8.44819820e+00,  3.16895472e+05],\n",
       "       [ 8.94369369e+00,  2.81789765e+05],\n",
       "       [ 9.43918919e+00,  2.58565477e+05],\n",
       "       [ 9.93468468e+00,  2.58511069e+05],\n",
       "       [ 1.04301802e+01,  2.81076961e+05],\n",
       "       [ 1.09256757e+01,  2.07975278e+05],\n",
       "       [ 1.14211712e+01,  2.52554654e+05],\n",
       "       [ 1.19166667e+01,  1.90230750e+05],\n",
       "       [ 1.24121622e+01,  1.19969995e+05],\n",
       "       [ 1.29076577e+01,  8.52811434e+04],\n",
       "       [ 1.34031532e+01,  6.71096636e+04],\n",
       "       [ 1.38986486e+01,  6.95460826e+04],\n",
       "       [ 1.43941441e+01,  4.91782861e+04],\n",
       "       [ 1.48896396e+01,  4.68804856e+04],\n",
       "       [ 1.53851351e+01,  4.82593912e+04],\n",
       "       [ 1.58806306e+01,  3.59170494e+04],\n",
       "       [ 1.63761261e+01,  3.60112264e+04],\n",
       "       [ 1.68716216e+01,  3.18665242e+04],\n",
       "       [ 1.73671171e+01,  2.40682289e+04],\n",
       "       [ 1.78626126e+01,  2.39192064e+04],\n",
       "       [ 1.83581081e+01,  2.00877068e+04],\n",
       "       [ 1.88536036e+01,  2.28972712e+04],\n",
       "       [ 1.93490991e+01,  2.28753721e+04],\n",
       "       [ 1.98445946e+01,  1.69253677e+04],\n",
       "       [ 2.03400901e+01,  1.62634294e+04],\n",
       "       [ 2.08355856e+01,  1.40773731e+04],\n",
       "       [ 2.13310811e+01,  1.26970989e+04],\n",
       "       [ 2.18265766e+01,  8.54823824e+03],\n",
       "       [ 2.23220721e+01,  9.29099965e+03],\n",
       "       [ 2.28175676e+01,  8.86029646e+03],\n",
       "       [ 2.33130631e+01,  1.19027111e+04],\n",
       "       [ 2.38085586e+01,  1.24112587e+04],\n",
       "       [ 2.43040541e+01,  1.18130912e+04]])"
      ]
     },
     "execution_count": 2,
     "metadata": {},
     "output_type": "execute_result"
    }
   ],
   "source": [
    "numpy.loadtxt(fname='data/experiment01.csv', delimiter=',')"
   ]
  },
  {
   "cell_type": "markdown",
   "metadata": {},
   "source": [
    "La expresión `numpy.loadtxt(...)` es una llamada a una función que le pide a Python que ejecute la función `loadtxt`, que pertenece a la biblioteca numpy. Esta notación punteada se usa en todas partes en Python: la cosa que aparece antes del punto contiene la cosa que aparece después.\n",
    "\n",
    "Como ejemplo, John Smith es el John que pertenece a la familia Smith. Podríamos usar la notación de puntos para escribir su nombre smith.john, así como `loadtxt` es una función que pertenece a la biblioteca numpy.\n",
    "\n",
    "`numpy.loadtxt` tiene dos argumentos: el nombre del archivo que queremos leer y el delimitador que separa valores en una línea. Ambos necesitan ser cadenas de caracteres (o cadenas cortas), así que los ponemos entre comillas.\n",
    "\n",
    "Como no le hemos dicho que haga nada más con la salida de la función, el cuaderno lo muestra. En este caso, esa salida son los datos que acabamos de cargar. Por defecto, solo se muestran unas pocas filas y columnas (con ... para omitir elementos al mostrar matrices grandes). Tenga en cuenta que, para ahorrar espacio al mostrar matrices NumPy, Python no nos muestra ceros finales, por lo que `1.0` se convierte en `1. `.\n",
    "\n",
    "> **Nota sobre argumentos de palabras clave:** Puede que haya notado en la última sección que las funciones pueden tomar múltiples argumentos, pero que el orden es importante. Esto se debe a que cuando se definen funciones, generalmente se definen de tal manera que cada argumento tiene una variable específica. Por ejemplo, supongamos que usted tiene una función que calcula el IMC de una persona, en la definición se vería algo como esto `calculate_bmi(peso, altura)`. Los nombres utilizados en la definición se pueden usar cuando se llama a la función, de esta manera.\n",
    "> Python\n",
    "> h = 100.\n",
    "> w = 80.\n",
    "> bmi = calculador_bmi(altura=h, peso=w)\n",
    "> El tiempo de trabajo\n",
    "> Aquí estamos diciendo explícitamente que el argumento `altura` será la variable `h` y `w` para `peso`, y porque estamos siendo específicos sobre lo que va a ser lo que, el orden ya no importa! Cuando se proporcionan argumentos como este, usando `=`, se conocen como \"*argumentos de palabras clave*\" o *kwargs*, para abreviar."
   ]
  },
  {
   "cell_type": "markdown",
   "metadata": {},
   "source": [
    "Para el resto de este ejercicio, tenemos que guardar la salida de `loadtxt` en la memoria, asignarlo a una variable llamada `data` en la celda de abajo! `imprimirlo e inspeccionar los datos."
   ]
  },
  {
   "cell_type": "code",
   "execution_count": 4,
   "metadata": {
    "vscode": {
     "languageId": "python"
    }
   },
   "outputs": [],
   "source": [
    "data = numpy.loadtxt(fname='data/experiment01.csv', delimiter=',')"
   ]
  },
  {
   "cell_type": "markdown",
   "metadata": {},
   "source": [
    "A continuación, queremos interrogar a la variable de datos. ¿Qué tipo es? Utilice la función bulit-in `type` para averiguar y `imprimir` la salida!"
   ]
  },
  {
   "cell_type": "code",
   "execution_count": 5,
   "metadata": {
    "vscode": {
     "languageId": "python"
    }
   },
   "outputs": [
    {
     "name": "stdout",
     "output_type": "stream",
     "text": [
      "<class 'numpy.ndarray'>\n"
     ]
    }
   ],
   "source": [
    "print(type(data))"
   ]
  },
  {
   "cell_type": "markdown",
   "metadata": {},
   "source": [
    "La salida nos dice que los datos se refieren actualmente a una matriz N-dimensional, cuya funcionalidad es proporcionada por la biblioteca NumPy. \n",
    "\n",
    "> **Tipo de datos:**\n",
    "\n",
    " Una matriz Numpy contiene uno o más elementos del mismo tipo. La función type solo le dirá que una variable es una matriz NumPy pero no le dirá el tipo de cosa dentro de la matriz. Podemos averiguar el tipo de datos contenidos en el array NumPy.\n",
    "> Python\n",
    "> > imprimir (data.dtype)\n",
    "> > float64\n",
    "> El tiempo de trabajo\n",
    "> Esto nos dice que los elementos de la matriz NumPy son números de punto flotante."
   ]
  },
  {
   "cell_type": "markdown",
   "metadata": {},
   "source": [
    "Las matrices NumPy tienen una propiedad importante llamada `shape` que nos permite ver la \"forma\" de la matriz."
   ]
  },
  {
   "cell_type": "code",
   "execution_count": 6,
   "metadata": {
    "vscode": {
     "languageId": "python"
    }
   },
   "outputs": [
    {
     "data": {
      "text/plain": [
       "(100, 2)"
      ]
     },
     "execution_count": 6,
     "metadata": {},
     "output_type": "execute_result"
    }
   ],
   "source": [
    "data.shape"
   ]
  },
  {
   "cell_type": "markdown",
   "metadata": {},
   "source": [
    "`data` tiene 100 filas y 2 columnas. Cuando creamos el array (y lo almacenamos en la variable `data`) se encontraron y almacenaron como propiedades del array varias otras propiedades del array. Esta información adicional describe `data` de la misma manera que un adjetivo describe un sustantivo. `data.shape` es un atributo de `data` que describe las dimensiones de `data`. Usamos la misma notación punteada para las propiedades de las variables que usamos para las funciones en las bibliotecas porque tienen la misma relación de parte y todo.\n",
    "\n",
    "## Acceder a elementos en una matriz\n",
    "\n",
    "Los valores individuales en una matriz (o cualquier otra colección en Python) se conocen como *elements*.\n",
    "\n",
    "Si queremos obtener un solo número de la matriz, debemos proporcionar un *index* entre corchetes después del nombre de la variable, al igual que hacemos en matemáticas cuando nos referimos a un elemento de una matriz. Nuestros datos tienen dos dimensiones, por lo que necesitaremos usar dos índices para referirnos a un valor específico:"
   ]
  },
  {
   "cell_type": "code",
   "execution_count": 7,
   "metadata": {
    "vscode": {
     "languageId": "python"
    }
   },
   "outputs": [
    {
     "name": "stdout",
     "output_type": "stream",
     "text": [
      "first value in data: -24.75\n"
     ]
    }
   ],
   "source": [
    "print('first value in data:', data[0, 0])"
   ]
  },
  {
   "cell_type": "code",
   "execution_count": 8,
   "metadata": {
    "vscode": {
     "languageId": "python"
    }
   },
   "outputs": [
    {
     "name": "stdout",
     "output_type": "stream",
     "text": [
      "middle value in data: 318085.27594024554\n"
     ]
    }
   ],
   "source": [
    "print('middle value in data:', data[50, 1])"
   ]
  },
  {
   "cell_type": "markdown",
   "metadata": {},
   "source": [
    "La expresión `data[50, 0]` accede al elemento de la fila 50, columna 1. Si bien esta expresión puede no sorprenderle, `data[0, 0]` podría. Los lenguajes de programación como Fortran, MATLAB y R empiezan a contar a 1 porque eso es lo que los seres humanos han hecho durante miles de años. Los lenguajes en la familia C (incluyendo C++, Java, Perl, y Python) cuentan desde 0 porque representa un desplazamiento del primer valor en el array (el segundo valor es compensado por un índice del primer valor). Esto está más cerca de la forma en que las computadoras representan matrices. Como resultado, si tenemos una matriz M N en Python, sus índices van de 0 a M-1 en el primer eje y de 0 a N-1 en el segundo. Se necesita un poco de acostumbrarse, pero una manera de recordar la regla es que son como coordenadas: 0 cm/ in es la primera medida en una regla, y 1 cm/ in es la segunda, y así sucesivamente.\n",
    "\n",
    "![demostración de indexación](media/python-zero-index.svg)\n",
    "\n",
    "> **Nota:** Lo que también puede sorprenderle es que cuando Python muestra una matriz, muestra el elemento con índice `[0, 0]` en la esquina superior izquierda en lugar de la esquina inferior izquierda. Esto es consistente con la forma en que los matemáticos dibujan matrices pero diferente de las coordenadas cartesianas. Los índices son (fila, columna) en lugar de (columna, fila) por la misma razón, lo que puede ser confuso al trazar datos.\n",
    "\n",
    "# Slicing Data\n",
    "\n",
    "Un índice como `[30, 20]` selecciona un solo elemento de una matriz, pero también podemos seleccionar secciones enteras. Por ejemplo, podemos seleccionar las primeras diez filas de valores como esta."
   ]
  },
  {
   "cell_type": "code",
   "execution_count": 9,
   "metadata": {
    "vscode": {
     "languageId": "python"
    }
   },
   "outputs": [
    {
     "name": "stdout",
     "output_type": "stream",
     "text": [
      "[[  -24.75       11288.73340482]\n",
      " [  -24.2545045  12843.96916618]\n",
      " [  -23.75900901  8733.08216215]\n",
      " [  -23.26351351  9284.28213076]\n",
      " [  -22.76801802  9719.98319719]\n",
      " [  -22.27252252 12669.16213216]\n",
      " [  -21.77702703 12562.56575564]\n",
      " [  -21.28153153 10974.40849517]\n",
      " [  -20.78603604 11981.46183713]\n",
      " [  -20.29054054 18049.12449399]]\n"
     ]
    }
   ],
   "source": [
    "print(data[0:10, 0:2])"
   ]
  },
  {
   "cell_type": "markdown",
   "metadata": {},
   "source": [
    "La rebanada `0:10` significa, \"Comienza en el índice 0 y sube a, pero no incluye el índice 10\". Una vez más, el up-to-but-not-including toma un poco de acostumbrarse, pero la regla es que la diferencia entre los límites superior e inferior es el número de valores en la rebanada.\n",
    "\n",
    "No tenemos que empezar a cortar a 0:"
   ]
  },
  {
   "cell_type": "code",
   "execution_count": 10,
   "metadata": {
    "vscode": {
     "languageId": "python"
    }
   },
   "outputs": [
    {
     "name": "stdout",
     "output_type": "stream",
     "text": [
      "[[  -22.27252252 12669.16213216]\n",
      " [  -21.77702703 12562.56575564]\n",
      " [  -21.28153153 10974.40849517]\n",
      " [  -20.78603604 11981.46183713]\n",
      " [  -20.29054054 18049.12449399]]\n"
     ]
    }
   ],
   "source": [
    "print(data[5:10, 0:2])"
   ]
  },
  {
   "cell_type": "markdown",
   "metadata": {},
   "source": [
    "Tampoco tenemos que incluir el límite superior e inferior en la rebanada. Si no incluimos el límite inferior, Python usa `0` por defecto; si no incluimos el superior, la rebanada se ejecuta hasta el final del eje, y si no incluimos ninguna de las dos (es decir, si usamos '`:`' por sí sola), la rebanada incluye todo:"
   ]
  },
  {
   "cell_type": "code",
   "execution_count": 11,
   "metadata": {
    "scrolled": true,
    "vscode": {
     "languageId": "python"
    }
   },
   "outputs": [
    {
     "name": "stdout",
     "output_type": "stream",
     "text": [
      "small is:\n",
      "[[-24.75      ]\n",
      " [-24.2545045 ]\n",
      " [-23.75900901]]\n"
     ]
    }
   ],
   "source": [
    "small = data[:3, :1]\n",
    "print('small is:')\n",
    "print(small)"
   ]
  },
  {
   "cell_type": "markdown",
   "metadata": {},
   "source": [
    "# Visualización de datos\n",
    "\n",
    "Ahora hemos analizado los datos experimentales, pero no es muy obvio lo que estamos viendo. ¡Visualicémoslo como una trama! \n",
    "\n",
    "Si bien no hay una biblioteca oficial de trazado, `matplotlib` es el estándar de facto en Python. Primero, importaremos el módulo `pyplot` de `matplotlib` y lo usaremos para crear y mostrar un gráfico de línea simple de nuestros datos. "
   ]
  },
  {
   "cell_type": "code",
   "execution_count": 12,
   "metadata": {
    "vscode": {
     "languageId": "python"
    }
   },
   "outputs": [
    {
     "data": {
      "text/plain": [
       "[<matplotlib.lines.Line2D at 0x7fa85a981250>]"
      ]
     },
     "execution_count": 12,
     "metadata": {},
     "output_type": "execute_result"
    },
    {
     "data": {
      "image/png": "[encoded data removed]",
      "text/plain": [
       "<Figure size 432x288 with 1 Axes>"
      ]
     },
     "metadata": {
      "needs_background": "light"
     },
     "output_type": "display_data"
    }
   ],
   "source": [
    "import matplotlib.pyplot as plt\n",
    "\n",
    "plt.plot(data[:,0], data[:,1])"
   ]
  },
  {
   "cell_type": "markdown",
   "metadata": {},
   "source": [
    "> **Nota:** \n",
    "\n",
    "Como veremos más adelante, hay comandos adicionales que normalmente se requieren para hacer diagramas matplotlib, sin embargo, ¡los cuadernos jupyter han simplificado el proceso, de modo que solo necesitamos trazar los datos para que aparezcan! A medida que desarrollemos tramas más avanzadas presentaremos estos otros comandos.\n",
    "\n",
    "¡Esto es muy poderoso!\n",
    "\n",
    "Echemos un vistazo a nuestros datos de simulación en `simulation01.txt`. Es muy diferente!\n",
    "\n",
    "```\n",
    "2\n",
    "2\n",
    "1\n",
    "1\n",
    "-25.0000000000\t25.0000000000\t-10.0000000000\t10.0000000000\n",
    "100\t40\n",
    "-1\n",
    "SeparatedByLayer 1\t1\t1\t\n",
    "All Sources\n",
    "6859.3959960938\t6833.2480468750\t23.2004756927\t8504.5800781250\t6948.3168945313\t7660.0200195313\t24.023168563\n",
    "\n",
    "...\n",
    "\n",
    "9249.9072265625\t28.7107124329\t8983.6347656250\t8642.8007812500\t9405.1074218750\t27.9149532318\t8245.5605468750\t\n",
    "\n",
    "\n",
    "X\tY\tValue\n",
    "-24.75\t-9.75\t7075.5429687500\t\n",
    "-24.25\t-9.75\t6839.1616210938\t\n",
    "-23.75\t-9.75\t7959.0229492188\t\n",
    "-23.25\t-9.75\t8201.9765625000\t\n",
    "-22.75\t-9.75\t7176.8256835938\t\n",
    "-22.25\t-9.75\t7260.2070312500\t\n",
    "-21.75\t-9.75\t8004.4028320313\t\n",
    "-21.25\t-9.75\t9858.7236328125\t\n",
    "```\n",
    "\n",
    "Lo primero que hay que notar es que no se inicia correctamente hasta la línea 53, y que los datos tienen valores x *y* y para la posición! Para leer estos datos, necesitamos saltar las filas hasta este punto. Afortunadamente `loadtxt` tiene un parámetro opcional que podemos usar: `skiprows`. Esto le dice a la función que omita cuantas filas le pidamos, antes de analizar los datos. Finalmente, también podemos omitir el argumento `delimiter` esta vez porque el delimitador es el espacio en blanco en este archivo, que es el predeterminado para `loadtxt`."
   ]
  },
  {
   "cell_type": "code",
   "execution_count": 14,
   "metadata": {
    "vscode": {
     "languageId": "python"
    }
   },
   "outputs": [
    {
     "data": {
      "text/plain": [
       "array([[-2.47500000e+01, -9.75000000e+00,  7.07554297e+03],\n",
       "       [-2.42500000e+01, -9.75000000e+00,  6.83916162e+03],\n",
       "       [-2.37500000e+01, -9.75000000e+00,  7.95902295e+03],\n",
       "       ...,\n",
       "       [ 2.37500000e+01,  9.75000000e+00,  9.83051758e+03],\n",
       "       [ 2.42500000e+01,  9.75000000e+00,  9.94980859e+03],\n",
       "       [ 2.47500000e+01,  9.75000000e+00,  9.72091992e+03]])"
      ]
     },
     "execution_count": 14,
     "metadata": {},
     "output_type": "execute_result"
    }
   ],
   "source": [
    "import numpy\n",
    "import matplotlib.pyplot as plt\n",
    "sim = numpy.loadtxt(fname='data/simulation01.txt', skiprows=52)\n",
    "sim"
   ]
  },
  {
   "cell_type": "markdown",
   "metadata": {},
   "source": [
    "Pero, ¿cómo se ven estos datos? Tenemos coordenadas y un valor en cada punto. Podemos utilizar otra función de trazado, para visualizar los datos rápida y fácilmente, llamada `scatter`."
   ]
  },
  {
   "cell_type": "code",
   "execution_count": 9,
   "metadata": {
    "vscode": {
     "languageId": "python"
    }
   },
   "outputs": [
    {
     "data": {
      "text/plain": [
       "<matplotlib.collections.PathCollection at 0x260ba8eb340>"
      ]
     },
     "execution_count": 9,
     "metadata": {},
     "output_type": "execute_result"
    },
    {
     "data": {
      "image/png": "[encoded data removed]",
      "text/plain": [
       "<Figure size 432x288 with 1 Axes>"
      ]
     },
     "metadata": {
      "needs_background": "light"
     },
     "output_type": "display_data"
    }
   ],
   "source": [
    "x = sim[:, 0]\n",
    "y = sim[:, 1]\n",
    "rad = sim[:, 2]\n",
    "plt.scatter(x, y, c=rad, cmap='magma')\n",
    "\n"
   ]
  },
  {
   "cell_type": "markdown",
   "metadata": {},
   "source": [
    "¡Podemos ver que tenemos todo un campo de visión! Esto revela algunos problemas.\n",
    "\n",
    "- Necesitamos una sección transversal para comparar con los datos experimentales\n",
    "- La trama parece un poco deformada (la [relación de aspecto] (https:/matplotlib.org/stable/api/_as_gen/matplotlib.axes.set_aspect.html) no se establece en 1 en la trama)\n",
    "- Todavía tenemos que etiquetar ambas parcelas\n",
    "\n",
    "Para hacer frente a estos problemas debemos desarrollar nuestras habilidades de pitón más! \n",
    "\n",
    "## Ejercicio 1* - Cortar cadenas\n",
    "\n",
    "El corte se puede realizar en múltiples objetos de secuencia en Python. Notablemente, esto incluye cadenas!\n",
    "\n",
    "Tome la siguiente cadena."
   ]
  },
  {
   "cell_type": "code",
   "execution_count": 2,
   "metadata": {
    "vscode": {
     "languageId": "python"
    }
   },
   "outputs": [],
   "source": [
    "string = 'experiment01.csv'\n"
   ]
  },
  {
   "cell_type": "markdown",
   "metadata": {},
   "source": [
    "1. ¿Cuál es el valor de `string[:4]` ¿Qué hay de `string[4:]`? O `string[:]`?\n",
    "1. ¿Qué es `string[-1]`? ¿Qué es `string[-2]`?\n",
    "1. Dadas esas respuestas, explique qué hace la `cadena[1:-1]` .\n",
    "\n",
    "¿Cómo podemos reescribir la rebanada para obtener los últimos tres caracteres de `string`, de modo que funcione incluso si asignamos una cadena diferente a `string`? Pruebe su solución con las siguientes cadenas: `carpentry`, `clone`, `hi`."
   ]
  },
  {
   "cell_type": "code",
   "execution_count": 3,
   "metadata": {
    "vscode": {
     "languageId": "python"
    }
   },
   "outputs": [
    {
     "data": {
      "text/plain": [
       "'expe'"
      ]
     },
     "execution_count": 3,
     "metadata": {},
     "output_type": "execute_result"
    }
   ],
   "source": [
    "string[:4]"
   ]
  },
  {
   "cell_type": "code",
   "execution_count": 4,
   "metadata": {
    "vscode": {
     "languageId": "python"
    }
   },
   "outputs": [
    {
     "data": {
      "text/plain": [
       "'riment01.csv'"
      ]
     },
     "execution_count": 4,
     "metadata": {},
     "output_type": "execute_result"
    }
   ],
   "source": [
    "string[4:]"
   ]
  },
  {
   "cell_type": "code",
   "execution_count": 5,
   "metadata": {
    "vscode": {
     "languageId": "python"
    }
   },
   "outputs": [
    {
     "data": {
      "text/plain": [
       "'experiment01.csv'"
      ]
     },
     "execution_count": 5,
     "metadata": {},
     "output_type": "execute_result"
    }
   ],
   "source": [
    "string[:]"
   ]
  },
  {
   "cell_type": "code",
   "execution_count": 6,
   "metadata": {
    "vscode": {
     "languageId": "python"
    }
   },
   "outputs": [
    {
     "data": {
      "text/plain": [
       "'v'"
      ]
     },
     "execution_count": 6,
     "metadata": {},
     "output_type": "execute_result"
    }
   ],
   "source": [
    "string[-1]"
   ]
  },
  {
   "cell_type": "code",
   "execution_count": 7,
   "metadata": {
    "vscode": {
     "languageId": "python"
    }
   },
   "outputs": [
    {
     "data": {
      "text/plain": [
       "'s'"
      ]
     },
     "execution_count": 7,
     "metadata": {},
     "output_type": "execute_result"
    }
   ],
   "source": [
    "string[-2]"
   ]
  },
  {
   "cell_type": "code",
   "execution_count": 8,
   "metadata": {
    "vscode": {
     "languageId": "python"
    }
   },
   "outputs": [
    {
     "data": {
      "text/plain": [
       "'xperiment01.cs'"
      ]
     },
     "execution_count": 8,
     "metadata": {},
     "output_type": "execute_result"
    }
   ],
   "source": [
    "string[1:-1]"
   ]
  },
  {
   "cell_type": "markdown",
   "metadata": {},
   "source": [
    "Ejercicio 2 - Cortes delgados\n",
    "\n",
    "La expresión `string[3:3]` produce una cadena vacía, es decir, una cadena que no contiene caracteres. Si `data` contiene la matriz de datos de radiación que asignamos anteriormente en la lección, ¿qué producen los `datos[3:3, 1:1]` ? ¿Qué ocurre con los `datos[3:3, :]`?"
   ]
  },
  {
   "cell_type": "code",
   "execution_count": 9,
   "metadata": {
    "vscode": {
     "languageId": "python"
    }
   },
   "outputs": [
    {
     "data": {
      "text/plain": [
       "''"
      ]
     },
     "execution_count": 9,
     "metadata": {},
     "output_type": "execute_result"
    }
   ],
   "source": [
    "string[3:3]"
   ]
  },
  {
   "cell_type": "code",
   "execution_count": 18,
   "metadata": {
    "vscode": {
     "languageId": "python"
    }
   },
   "outputs": [],
   "source": [
    "import numpy\n",
    "\n",
    "\n",
    "data = numpy.loadtxt(fname='simulation01.txt',skiprows=52)\n"
   ]
  },
  {
   "cell_type": "markdown",
   "metadata": {},
   "source": [
    "# Ejercicio 3 - Figuras matplotlib\n",
    "\n",
    "Normalmente cuando se trabaja con matplotlib (es decir, fuera de los cuadernos jupyter) antes de que pueda trazar cualquier cosa que necesita para crear una \"figura\". Luego agregas \"hachas\" a la figura y solo entonces puedes trazar cosas en los ejes.\n",
    "\n",
    "Cuando cree algunos ejes, debe agregar una subtrama a la figura. Esto requiere especificar 3 dígitos.\n",
    "\n",
    "```\n",
    "fig = plt.figure()\n",
    "ejes = fig.add_subplot(312)\n",
    "```\n",
    "\n",
    "Estos indican cuántas subtramas se van a crear y qué conjunto de ejes es esta subtrama. El comando `add_subplot(312)` significa: \n",
    "\n",
    "\"habrá **3** filas por **1** columna,  de las subparcelas, y esta subparcela es la **2**nd una\".\n",
    "\n",
    "Cree una nueva figura y añada 6 subtramas en una disposición de 3 x 2. Llame a cada eje añadido ax1, ax2, ax3, ... , axN. Ejecute la celda después de hacer cada nuevo eje, y anote el orden con el que se crean los ejes.\n",
    "\n",
    "> Nota: `fig.add_subplot(312)` es equivalente a `fig.add_subplot(3, 1, 2)`; las comas a menudo se omiten como una forma de taquigrafía, sin embargo, se requieren si se desea usar una variable o un entero de dos dígitos. Por ejemplo, hacer una cuadrícula de 10 x 3 ejes `fig.add_subplot(1031)` no es válida, pero `fig.add_subplot(10, 3, 1)` no lo es!"
   ]
  },
  {
   "cell_type": "code",
   "execution_count": 35,
   "metadata": {
    "vscode": {
     "languageId": "python"
    }
   },
   "outputs": [
    {
     "data": {
      "image/png": "[encoded data removed]",
      "text/plain": [
       "<Figure size 432x288 with 1 Axes>"
      ]
     },
     "metadata": {
      "needs_background": "light"
     },
     "output_type": "display_data"
    }
   ],
   "source": [
    "import matplotlib.pyplot as plt\n",
    "x = data[:, 0]\n",
    "y = data[:, 1]\n",
    "z = data[:, 2]\n",
    "fig = plt.figure()\n",
    "axes = fig.add_subplot(3, 2, 2)\n",
    "axes.scatter(x,y,c=z)\n",
    "axes.set_aspect(1)"
   ]
  },
  {
   "cell_type": "code",
   "execution_count": 33,
   "metadata": {
    "vscode": {
     "languageId": "python"
    }
   },
   "outputs": [],
   "source": [
    "\n"
   ]
  },
  {
   "cell_type": "markdown",
   "metadata": {},
   "source": [
    "# Ejercicio 4* - Trabajar con matrices\n",
    "\n",
    "En la celda de abajo he creado una matriz de unos en forma de 3 x 3. ¿Qué pasa si...\n",
    "\n",
    "- ¿Multiplicas la matriz por 10?\n",
    "- ¿Entonces resta 5 de la matriz?\n",
    "- Finalmente, ¿divides la matriz por 5?"
   ]
  },
  {
   "cell_type": "code",
   "execution_count": 23,
   "metadata": {
    "vscode": {
     "languageId": "python"
    }
   },
   "outputs": [
    {
     "data": {
      "text/plain": [
       "array([[10., 10., 10.],\n",
       "       [10., 10., 10.],\n",
       "       [10., 10., 10.]])"
      ]
     },
     "execution_count": 23,
     "metadata": {},
     "output_type": "execute_result"
    }
   ],
   "source": [
    "import numpy\n",
    "\n",
    "ones = numpy.ones((3, 3))\n",
    "# Enter your solution here\n",
    "\n",
    "mul_10 = ones * 10\n",
    "mul_10"
   ]
  },
  {
   "cell_type": "markdown",
   "metadata": {},
   "source": [
    "En la siguiente celda creamos una nueva matriz llamada `twos`, que también es 3 x 3, pero cada elemento es igual a `2`.\n",
    "\n",
    "- ¿Qué pasa si añadimos `ones` a `twos`?\n",
    "- ¿Si los multiplicamos juntos?\n",
    "- ¿Si dividimos `unos` por `dos por dos?"
   ]
  },
  {
   "cell_type": "code",
   "execution_count": 6,
   "metadata": {
    "vscode": {
     "languageId": "python"
    }
   },
   "outputs": [],
   "source": [
    "import numpy\n",
    "\n",
    "twos = numpy.ones((3, 3)) + 1\n",
    "# Enter your solution here"
   ]
  },
  {
   "cell_type": "markdown",
   "metadata": {},
   "source": [
    "Finalmente, creamos una nueva matriz `tres` que es 5 x 5. Si añadimos/restamos/multiplicamos/dividimos `unos` a/de/por `tres` ¿qué sucede? ¿Y por qué?"
   ]
  },
  {
   "cell_type": "code",
   "execution_count": 13,
   "metadata": {
    "vscode": {
     "languageId": "python"
    }
   },
   "outputs": [],
   "source": [
    "import numpy\n",
    "\n",
    "threes = numpy.ones((5, 5))*3\n",
    "# Enter your solution here"
   ]
  },
  {
   "cell_type": "markdown",
   "metadata": {},
   "source": [
    "Puntos clave\n",
    "\n",
    "- Importar una biblioteca en un programa usando `import libraryname`.\n",
    "- Utilice la biblioteca `numpy` para trabajar con matrices en Python.\n",
    "- Utilice `array[x, y]` para seleccionar un solo elemento de una matriz 2D.\n",
    "- Los índices de matriz comienzan en 0, no en 1.\n",
    "- Utilizar `bajo:alto` para especificar una porción que incluya los índices de `bajo` a `alto-1`.\n",
    "- Utilice el módulo `pyplot` de la biblioteca `matplotlib` para crear visualizaciones simples.\n",
    "\n"
   ]
  }
 ],
 "metadata": {
  "kernelspec": {
   "display_name": "Python 3 (ipykernel)",
   "language": "python",
   "name": "python3"
  },
  "language_info": {
   "codemirror_mode": {
    "name": "ipython",
    "version": 3
   },
   "file_extension": ".py",
   "mimetype": "text/x-python",
   "name": "python",
   "nbconvert_exporter": "python",
   "pygments_lexer": "ipython3",
   "version": "3.7.6"
  }
 },
 "nbformat": 4,
 "nbformat_minor": 4
}
