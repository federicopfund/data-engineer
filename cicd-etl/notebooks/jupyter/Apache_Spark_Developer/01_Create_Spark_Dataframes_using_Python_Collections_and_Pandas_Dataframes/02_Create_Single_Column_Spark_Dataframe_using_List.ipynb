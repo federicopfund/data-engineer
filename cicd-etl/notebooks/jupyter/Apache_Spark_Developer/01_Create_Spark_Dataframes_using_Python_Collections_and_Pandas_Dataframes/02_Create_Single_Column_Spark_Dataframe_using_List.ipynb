{
 "cells": [
  {
   "cell_type": "code",
   "execution_count": 1,
   "metadata": {
    "application/vnd.databricks.v1+cell": {
     "inputWidgets": {},
     "nuid": "9ab00c26-d3a5-4512-9cf7-0b5c4002cb45",
     "showTitle": false,
     "title": ""
    },
    "vscode": {
     "languageId": "python"
    }
   },
   "outputs": [
    {
     "ename": "ToExpression::sntx",
     "evalue": "Invalid syntax in or before \"ages_list = [21, 23, 18, 41, 32]\".\n                                          ^",
     "output_type": "error",
     "traceback": [
      "\u001b[0;31mToExpression::sntx: Invalid syntax in or before \"ages_list = [21, 23, 18, 41, 32]\".\n                                                              ^\u001b[0m"
     ]
    },
    {
     "data": {
      "text/html": [
       "<div><img alt=\"Output\" src=\"data:image/png;base64,iVBORw0KGgoAAAANSUhEUgAAADEAAAAPCAIAAADCjrCWAAAA0HpUWHRSYXcgcHJvZmlsZSB0eXBlIGV4aWYAAHjabU9bDsMgDPvnFDtCHuDAcegK0m6w4y881KnTLDV2jJNCaO9XD48BYQoxWUYByBFLLFJdZFpYzFRmndDN3t/8QH371a30PUDb/nH3DYsl/y6S6088tMY9sBepLJ/r6o+dl5rzbVE/+8S+MMV8Xf1/ryZIYIteo5AZiuscXDohCSVDxxPwIOMUik/nBjMfg42E1jE4IM3u6RagbpzjCTo+1Tq5Kiv7KCtcy6yqIqefrsx4zgekAVxixJCJGwAAAAlwSFlzAAALEwAACxMBAJqcGAAAADx0RVh0U29mdHdhcmUAQ3JlYXRlZCB3aXRoIHRoZSBXb2xmcmFtIExhbmd1YWdlIDogd3d3LndvbGZyYW0uY29tXKKmhQAAACF0RVh0Q3JlYXRpb24gVGltZQAyMDIzOjAyOjExIDE2OjI2OjMyNzWUNQAAAVNJREFUSInNVruRgzAQXTFXCjjwXAWiAojcwWUihOSqIBGhKeEiJycqMBUwDpB6WQcSEuJzNgRnvwgtq7e7b98wEESEN0Pw6gYW8OY9NVlcqZ00qooJyZoxGdEYB58gyRrTkyZI67aILIcl3cqskZwRUXK68RoAAHyAquK04xIPJbmc8Jy4d0x4x78Q5lfM99Rfgt7d5yFUfUeP0YPssXhWug1rUlU8V94Go6LVEUQUTD8ygQ5DEAAAKJfoQ3Lq5U/PS0HB3EkwQyqYLTykB2B2LxjUqT+so7vm4UQTO9PzUH2nS2jzGsJLTfm375DAXWACUbA6XV9Bk6WdUWyHfeWt9fS2g04RuAtmlHVXqb6z3ZXbdUpOrC3KycDRkbY/vwoAVPVl/eQZx1v4zB8ul3I+vJ8qxsRa0A/TqeJMmJpg3Tjv4FUwu5M3ePgh+DcQfL//gjtcz8ZY2iCnkwAAAABJRU5ErkJggg==\"></div>"
      ],
      "text/plain": [
       "$Failed"
      ]
     },
     "execution_count": 1,
     "metadata": {
      "text/html": [],
      "text/plain": []
     },
     "output_type": "execute_result"
    }
   ],
   "source": [
    "ages_list = [21, 23, 18, 41, 32]"
   ]
  },
  {
   "cell_type": "code",
   "execution_count": 1,
   "metadata": {
    "application/vnd.databricks.v1+cell": {
     "inputWidgets": {},
     "nuid": "b898730e-3e38-4c4f-a814-20ee4821d80b",
     "showTitle": false,
     "title": ""
    },
    "vscode": {
     "languageId": "python"
    }
   },
   "outputs": [
    {
     "data": {
      "text/html": [
       "<div><img alt=\"Output\" src=\"data:image/png;base64,iVBORw0KGgoAAAANSUhEUgAAAF8AAAAPCAIAAAANoIRVAAAA0HpUWHRSYXcgcHJvZmlsZSB0eXBlIGV4aWYAAHjabU/bDQMhDPtnio6QBzgwDu2B1A06fpMDtbqqli42jpODNF7PmW4BYUq5WEUDyJFbbtJdVFpYzNTOeqLM3eOrn2g3uLtVvg2M7d+vvmGx1N9FsoTGH1xr3gN7kcryua/zfeel13pZNI95Yl+Ycv1c/f9ZTVDAlr1mITM01zW5dEIRKoaJB+BBxiGUH84DZj4Gi4T2GAzIsGt6JKgbRzxB41PtzuyVNUZ5a1/iPZXD1crEc970SlyRgy8vVgAAAAlwSFlzAAALEwAACxMBAJqcGAAAADx0RVh0U29mdHdhcmUAQ3JlYXRlZCB3aXRoIHRoZSBXb2xmcmFtIExhbmd1YWdlIDogd3d3LndvbGZyYW0uY29tXKKmhQAAACF0RVh0Q3JlYXRpb24gVGltZQAyMDIzOjAxOjE1IDExOjEwOjMzU39zlQAAAeJJREFUWIXtVjtywjAQXTI5ikmR4QTKCeQ0rnIEUZqGjjIdjShxl5aKBvkE+AQeCqS7bAobfSzJMR4yYTK8Cq+0b9fPqycmiAgPRPD01w3cNR7q9OFfqVPOJw3mpbugNm9+cACedPaI5HsD3SKi5GQ0QVeH5xs0df9I8iPmYxI9qQmXKDkBwiU20E+CAeOX/e56CyawA8EMtVm1o5oqyGMFTcU+SE6cNnQppzePNqgDBBkRBdPNmEXBdBGjn2Am1crqa9vaZn6GeezoMPjvEghGaLvbYq5MM1btDgoA1GEHfEn1B9hSAIDk/YNUJwmgzjUUaeuGaeEzaaucLqpIMYAoz/SVFOkoR+3FQNronUWXHHYHBeV6MVvlSZRAnipnXI7u3nKe1tYMttwZqxbTRoeaf+VJnCfJj4iI2T50FY3HQNpGneRlBvVZdQhWs91hsy9YRv28cr2oWEbbN13H+NW5tjPa4Oaz1kJc1OznoVuUnBT7G49Ql9bTwTpxDawvaPmMefa32Ybm2Y7OIZzrw+6a8qVCgMfxyp8MqGusTAwKRtzauHIEXZO93iJjtO71Newy+gP0/N8p52nBBMYt5yYo9wXMxDVFlCql7MSmlP5Kn0HNmskPnZJbzI472Hc7OIj4DcCP2DkOR6FfAAAAAElFTkSuQmCC\"></div>"
      ],
      "text/plain": [
       "type (ages_list)"
      ]
     },
     "execution_count": 1,
     "metadata": {
      "text/html": [],
      "text/plain": []
     },
     "output_type": "execute_result"
    }
   ],
   "source": [
    "type(ages_list)"
   ]
  },
  {
   "cell_type": "code",
   "execution_count": 2,
   "metadata": {
    "application/vnd.databricks.v1+cell": {
     "inputWidgets": {},
     "nuid": "057922a7-cb36-4cf4-bf79-1edf95bde2a4",
     "showTitle": false,
     "title": ""
    },
    "vscode": {
     "languageId": "python"
    }
   },
   "outputs": [
    {
     "data": {
      "text/html": [
       "<div><img alt=\"Output\" src=\"data:image/png;base64,iVBORw0KGgoAAAANSUhEUgAAALIAAAAPCAIAAADPvAKUAAAAznpUWHRSYXcgcHJvZmlsZSB0eXBlIGV4aWYAAHjabU/bDQMhDPtnio6QFwmMw92B1A06fpMDtaKqJWLjPAipv54jPQKEkCRb0aoKDqlSqbkoMDEZod7xxkErh7ufYCy/uZW/Ce3LP3bfdDKV30HrBY4XXLOshjWIafrY9o2olbINGte4sRYGKZ/V/9/ZSLOiiUchMNPquiSXTpoJsunQU9ULUS8COZ27mnmbWlRwi8YAddure1J244ovcBzm5owekaMVl/YhLFzpcjVr4jtv6ppckZpCB1IAAAAJcEhZcwAACxMAAAsTAQCanBgAAAA8dEVYdFNvZnR3YXJlAENyZWF0ZWQgd2l0aCB0aGUgV29sZnJhbSBMYW5ndWFnZSA6IHd3dy53b2xmcmFtLmNvbVyipoUAAAAhdEVYdENyZWF0aW9uIFRpbWUAMjAyMzowMToxNSAxMToxMDo0OfzrDEwAAAKTSURBVFiF7Vk9eqMwEJVyFkjhLycQJ4A0rnIEUdpNupTbpRGl6fYGruAE4QR8KQx3mS1Asn5GILL2Znc/vSb5xMzjzfhJIycUAEhEhImH7xYQ8Tci2iICwQMhbUnLNiy6LemE0IS7YKyy7xXw/2PbaZGfAGAQ7E5i/hWE+VLtoaB9FOp1g/VuuyMOkXuCiQEAAAbRF7f7CHkDEqf8RpwWpC2kCbNqnFfGKgvyZFvSspKx13QFjUc+xVP0faDeaIQ6Qibu5X5rtHMgzonV60oaq4zS9NiRujDlL7YrOfwUrP5RjZs40YasfwZame6LsqoqKaXzDxnqigdoOJEObLj2mzJlw5XtYR4immG19EEwI9ImCkzR39Dw656TVPNj/ZEP14KsRZtzoV63aKsDnnSTBiFd4cQjG67ZQavCqQhJHwQjWucGwaRQW/x0WvBmOo3S3XxtGC+98i4t6iWnaunJ8wvrPgfjWbpjdeG6HUtR9k6PnR76dkgIIYTkp+uhWRe0IA18zI88aM81E6/IQWtz+ur1SLKxqV2BnP7I66eulY90CU3n+5wQQtjLs0zFxHvuFsNnZ3h7pf0LSA4fAAD789pR2JZFr0bx6qWWNw2vi5uNa7zeYEnr7RovPXl6TLaUua0hX0/HxHtske95d3zf2vT2/djNbnQITzAIVp9tSpUyXnp9bf1l+cm9yLWl6b10x8LKQOv1Skoen0h/0W5Ra+1qy3StTIdzc0MCxTtAxRujRR9wusVmN9muk1PZjrPGmhnvTVGrTAiujVJn4tqTVlFMLzPjdQELnGi9uCQzmCE7clrzNCacM7gh3kUrXTZuvkDIuwUinsLv/k+kLel5v+2b0hdSIv4o4t8tIhBEW0Qg+AUObkbttMAzOAAAAABJRU5ErkJggg==\"></div>"
      ],
      "text/plain": [
       "help spark . createDataFrame"
      ]
     },
     "execution_count": 2,
     "metadata": {
      "text/html": [],
      "text/plain": []
     },
     "output_type": "execute_result"
    }
   ],
   "source": [
    "help(spark.createDataFrame)"
   ]
  },
  {
   "cell_type": "code",
   "execution_count": 3,
   "metadata": {
    "application/vnd.databricks.v1+cell": {
     "inputWidgets": {},
     "nuid": "45900548-2fe4-4c06-822f-612f58abfd3d",
     "showTitle": false,
     "title": ""
    },
    "vscode": {
     "languageId": "python"
    }
   },
   "outputs": [
    {
     "data": {
      "text/html": [
       "<div><img alt=\"Output\" src=\"data:image/png;base64,iVBORw0KGgoAAAANSUhEUgAAANYAAAAPCAIAAAAXsKaeAAAA0HpUWHRSYXcgcHJvZmlsZSB0eXBlIGV4aWYAAHjabU/bDQMhDPtnio6QByQwDneA1A06fpMjanVVLZEY4xhI8/Vc6eEghJSLVmkiYMgtN+pGKmzsjtCuemFInOFdT7BC7yaV74HM0I+7rhFE9TeINmG/wTjnGIggpq1j3/sj/NRrvQWtsS7EgyHXz9P/71lJiqBmq5lAVZrxmoxak0JQVJacImZEGQT5tD5F1cZE3cHdBx009e6eSdiE4V9gX8zdOlpF9lEMbiFcmGkY2x7/zhvzJFySwf0YeQAAAAlwSFlzAAALEwAACxMBAJqcGAAAADx0RVh0U29mdHdhcmUAQ3JlYXRlZCB3aXRoIHRoZSBXb2xmcmFtIExhbmd1YWdlIDogd3d3LndvbGZyYW0uY29tXKKmhQAAACF0RVh0Q3JlYXRpb24gVGltZQAyMDIzOjAxOjE1IDExOjEwOjUzBSXUEwAAAwpJREFUaIHtWTt2qzAQHfm8pUAKH69AXgGkcZUliNJu0r3SXRpRmi47cCVWYFbASWGxF70CBJIYfrYT3nG4TWIxc7kzzAzjhCilYMGC+bCaW8CC346lBBfMjG8qwSLekij9Hu4FsyKNSAn3+Rbxtn04As86Bcf1QJ1OLKU3cjqsT9eJwUkpJTm9mcBN47OW4GhQLpVSSkmeh48rFyaUxil4EOf/Dm9/uSnaFUA1Qkts4wIAANKIRLE+1odWf9ePyzLFx/PAszVoK0Oc09Bp3t1xLuItIf4hgyS05WPuNbz9J6fJMS4mcaIJ6YqxHRF6o20cR4SQ6oc27RWPy7CncaUY5UEKYBrwt3OLFk+jUkows2tLCAa6lyWn9ayoITnVToI1s0RTVZfNS10QDPDbu5ymTMF6JTkfLBrT3aZBSAc4cUvBjMdgRNGKCHGXnIKROcmpFtobOyLDMGt+xXmwAugHmgr3sIPWNVsBgL+mSdhuLibKqeq9vtHsS9rV7h8y0/Tv3gMAgODUjOIkJCEIdakudfXPOaH8HRnfLmdxzevmIWHSbkBbkosud1zUOM5uyybFRvhIllB3tgsAAOjbq3YdFH9fEjoK4F6MpF1B9RJXanceep2kUZjXq9PgPsqEYEn4sLjkV2Y1f/lsR0vC3U0U1xw2L96UMKcl5Hb3AfEoT7Bj2cEviy3nn3uvm2d0AUzDSFrj60hwUpLT5Ozaph+HjO2qOWScDWsITu0lP41sPf6aZoePEWEHO9Y27JTkvWwgvxprDepu6fKHwmxxTk7ISPEt9ItHeYr4mNfVpku2n6erAO6ES9tKo9OA+g1i7jNN49SnlHNmrD59a4FgJkV5M9veFNDDaRuaO1ZLkm1MkUlTnuFRTuAcnZDOQ8ddJ65a1PQuiMfew+ME16Qc4UELoAvuuK5X//5Di9ZOI1H4/4jTiJx3v+cPCs+HNCIhCGPnPK7lwFo+E/7MLWDBDyA9J7ARU+qvKFIpnTM/CL6jhJcSfFIE75z6Iam+9VIuL5PeaJ4XeD80Mv8B58ZA35nGiZEAAAAASUVORK5CYII=\"></div>"
      ],
      "text/plain": [
       "spark . createDataFrame (ages_list)"
      ]
     },
     "execution_count": 3,
     "metadata": {
      "text/html": [],
      "text/plain": []
     },
     "output_type": "execute_result"
    }
   ],
   "source": [
    "spark.createDataFrame(ages_list)"
   ]
  },
  {
   "cell_type": "code",
   "execution_count": 4,
   "metadata": {
    "application/vnd.databricks.v1+cell": {
     "inputWidgets": {},
     "nuid": "c4cbfb16-f34d-4b6d-a37c-ce2d3b279e1a",
     "showTitle": false,
     "title": ""
    },
    "vscode": {
     "languageId": "python"
    }
   },
   "outputs": [
    {
     "ename": "ToExpression::sntx",
     "evalue": "Invalid syntax in or before \"spark.createDataFrame(ages_list, 'int')\".\n                                                             ^",
     "output_type": "error",
     "traceback": [
      "\u001b[0;31mToExpression::sntx: Invalid syntax in or before \"spark.createDataFrame(ages_list, 'int')\".\n                                                                                 ^\u001b[0m"
     ]
    },
    {
     "data": {
      "text/html": [
       "<div><img alt=\"Output\" src=\"data:image/png;base64,iVBORw0KGgoAAAANSUhEUgAAADEAAAAPCAIAAADCjrCWAAAAz3pUWHRSYXcgcHJvZmlsZSB0eXBlIGV4aWYAAHjabU/bDQMhDPtnio6QBzgwDu2B1A06fpMDtbqqlogdk4SQxus50y0gTCkXq2gAOXLLTbqLSguLmdoZT+hmzy9+orn97lb5XmBs/371DYul/g6Sz0scWvNu2INUls995fddL73Wy6B5zBN7Ycr1s/r/XE1QwJY9ZiEzNNc1uXRCESqGiQfghYxDKD+cB8y8DRYV2qMxIMOu1SNB3TjiCxpHtTuzR9Zo5a19iBZf5nC1auI7b6OtXGBueisUAAAACXBIWXMAAAsTAAALEwEAmpwYAAAAPHRFWHRTb2Z0d2FyZQBDcmVhdGVkIHdpdGggdGhlIFdvbGZyYW0gTGFuZ3VhZ2UgOiB3d3cud29sZnJhbS5jb21coqaFAAAAIXRFWHRDcmVhdGlvbiBUaW1lADIwMjM6MDE6MTUgMTE6MTA6NTcCSBAKAAABU0lEQVRIic1Wu5GDMBBdMVcKOPBcBaICiNzBZSKE5KogEaEp4SInJyowFTAOkHpZBxIS4nM2BGe/CC2rt7tv3zAQRIQ3Q/DqBhbw5j01WVypnTSqignJmjEZ0RgHnyDJGtOTJkjrtogshyXdyqyRnBFRcrrxGgAAfICq4rTjEg8luZzwnLh3THjHvxDmV8z31F+C3t3nIVR9R4/Rg+yxeFa6DWtSVTxX3gajotURRBRMPzKBDkMQAAAol+hDcurlT89LQcHcSTBDKpgtPKQHYHYvGNSpP6yju+bhRBM70/NQfadLaPMawktN+bfvkMBdYAJRsDpdX0GTpZ1RbId95a319LaDThG4C2aUdVepvrPdldt1Sk6sLcrJwNGRtj+/CgBU9WX95BnHW/jMHy6Xcj68nyrGxFrQD9Op4kyYmmDdOO/gVTC7kzd4+CH4NxB8v/+CO1zPxljaIKeTAAAAAElFTkSuQmCC\"></div>"
      ],
      "text/plain": [
       "$Failed"
      ]
     },
     "execution_count": 4,
     "metadata": {
      "text/html": [],
      "text/plain": []
     },
     "output_type": "execute_result"
    }
   ],
   "source": [
    "spark.createDataFrame(ages_list, 'int')"
   ]
  },
  {
   "cell_type": "code",
   "execution_count": null,
   "metadata": {
    "application/vnd.databricks.v1+cell": {
     "inputWidgets": {},
     "nuid": "983c2af9-37fc-4e4c-a36c-83310050150c",
     "showTitle": false,
     "title": ""
    },
    "vscode": {
     "languageId": "python"
    }
   },
   "outputs": [],
   "source": [
    "from pyspark.sql.types import IntegerType"
   ]
  },
  {
   "cell_type": "code",
   "execution_count": null,
   "metadata": {
    "application/vnd.databricks.v1+cell": {
     "inputWidgets": {},
     "nuid": "070b61eb-fff5-44ec-92a6-972f138d5e0a",
     "showTitle": false,
     "title": ""
    },
    "vscode": {
     "languageId": "python"
    }
   },
   "outputs": [],
   "source": [
    "spark.createDataFrame(ages_list, IntegerType())"
   ]
  },
  {
   "cell_type": "code",
   "execution_count": null,
   "metadata": {
    "application/vnd.databricks.v1+cell": {
     "inputWidgets": {},
     "nuid": "f13250ab-b788-49e1-a526-c653e4bf642f",
     "showTitle": false,
     "title": ""
    },
    "vscode": {
     "languageId": "python"
    }
   },
   "outputs": [],
   "source": [
    "names_list = ['Scott', 'Donald', 'Mickey']"
   ]
  },
  {
   "cell_type": "code",
   "execution_count": null,
   "metadata": {
    "application/vnd.databricks.v1+cell": {
     "inputWidgets": {},
     "nuid": "004bdce9-36fd-4ca3-b7d3-8688b8197cea",
     "showTitle": false,
     "title": ""
    },
    "vscode": {
     "languageId": "python"
    }
   },
   "outputs": [],
   "source": [
    "spark.createDataFrame(names_list, 'string')"
   ]
  },
  {
   "cell_type": "code",
   "execution_count": null,
   "metadata": {
    "application/vnd.databricks.v1+cell": {
     "inputWidgets": {},
     "nuid": "a84dcd3e-91d5-4fd0-b0ac-8bdb5ba91fc4",
     "showTitle": false,
     "title": ""
    },
    "vscode": {
     "languageId": "python"
    }
   },
   "outputs": [],
   "source": [
    "from pyspark.sql.types import StringType"
   ]
  },
  {
   "cell_type": "code",
   "execution_count": null,
   "metadata": {
    "application/vnd.databricks.v1+cell": {
     "inputWidgets": {},
     "nuid": "5423e52b-e0f9-4a26-bf86-a2b83736a43c",
     "showTitle": false,
     "title": ""
    },
    "vscode": {
     "languageId": "python"
    }
   },
   "outputs": [],
   "source": [
    "spark.createDataFrame(names_list, StringType())"
   ]
  },
  {
   "cell_type": "code",
   "execution_count": null,
   "metadata": {
    "application/vnd.databricks.v1+cell": {
     "inputWidgets": {},
     "nuid": "097cf066-c613-4068-a53e-9ac85747cc81",
     "showTitle": false,
     "title": ""
    },
    "vscode": {
     "languageId": "python"
    }
   },
   "outputs": [],
   "source": []
  }
 ],
 "metadata": {
  "application/vnd.databricks.v1+notebook": {
   "dashboards": [],
   "language": "python",
   "notebookMetadata": {
    "pythonIndentUnit": 4
   },
   "notebookName": "02 Create Single Column Spark Dataframe using List",
   "notebookOrigID": 456917195749962,
   "widgets": {}
  },
  "kernelspec": {
   "display_name": "Wolfram Language 12.2",
   "language": "Wolfram Language",
   "name": "wolframlanguage12.2"
  },
  "language_info": {
   "codemirror_mode": "mathematica",
   "file_extension": ".m",
   "mimetype": "application/vnd.wolfram.m",
   "name": "Wolfram Language",
   "pygments_lexer": "mathematica",
   "version": "12.0"
  }
 },
 "nbformat": 4,
 "nbformat_minor": 4
}
